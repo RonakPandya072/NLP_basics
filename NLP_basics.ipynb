{
  "cells": [
    {
      "cell_type": "markdown",
      "metadata": {
        "id": "view-in-github",
        "colab_type": "text"
      },
      "source": [
        "<a href=\"https://colab.research.google.com/github/RonakPandya072/NLP_basics/blob/main/NLP_basics.ipynb\" target=\"_parent\"><img src=\"https://colab.research.google.com/assets/colab-badge.svg\" alt=\"Open In Colab\"/></a>"
      ]
    },
    {
      "cell_type": "code",
      "execution_count": null,
      "metadata": {
        "colab": {
          "base_uri": "https://localhost:8080/"
        },
        "id": "uHLl4g0jJ8nI",
        "outputId": "12b2866b-be4f-4daa-d935-39139aae8956"
      },
      "outputs": [
        {
          "name": "stdout",
          "output_type": "stream",
          "text": [
            "Requirement already satisfied: nltk in /usr/local/lib/python3.7/dist-packages (3.2.5)\n",
            "Requirement already satisfied: six in /usr/local/lib/python3.7/dist-packages (from nltk) (1.15.0)\n"
          ]
        }
      ],
      "source": [
        "!pip install nltk"
      ]
    },
    {
      "cell_type": "code",
      "execution_count": 3,
      "metadata": {
        "colab": {
          "base_uri": "https://localhost:8080/"
        },
        "id": "L4FApbRlKHB7",
        "outputId": "f30da6f5-7840-42ce-f9c9-8902a895a75b"
      },
      "outputs": [
        {
          "output_type": "stream",
          "name": "stdout",
          "text": [
            "[nltk_data] Downloading collection 'all'\n",
            "[nltk_data]    | \n",
            "[nltk_data]    | Downloading package abc to /root/nltk_data...\n",
            "[nltk_data]    |   Package abc is already up-to-date!\n",
            "[nltk_data]    | Downloading package alpino to /root/nltk_data...\n",
            "[nltk_data]    |   Package alpino is already up-to-date!\n",
            "[nltk_data]    | Downloading package averaged_perceptron_tagger to\n",
            "[nltk_data]    |     /root/nltk_data...\n",
            "[nltk_data]    |   Package averaged_perceptron_tagger is already up-\n",
            "[nltk_data]    |       to-date!\n",
            "[nltk_data]    | Downloading package averaged_perceptron_tagger_ru to\n",
            "[nltk_data]    |     /root/nltk_data...\n",
            "[nltk_data]    |   Package averaged_perceptron_tagger_ru is already\n",
            "[nltk_data]    |       up-to-date!\n",
            "[nltk_data]    | Downloading package basque_grammars to\n",
            "[nltk_data]    |     /root/nltk_data...\n",
            "[nltk_data]    |   Package basque_grammars is already up-to-date!\n",
            "[nltk_data]    | Downloading package biocreative_ppi to\n",
            "[nltk_data]    |     /root/nltk_data...\n",
            "[nltk_data]    |   Package biocreative_ppi is already up-to-date!\n",
            "[nltk_data]    | Downloading package bllip_wsj_no_aux to\n",
            "[nltk_data]    |     /root/nltk_data...\n",
            "[nltk_data]    |   Package bllip_wsj_no_aux is already up-to-date!\n",
            "[nltk_data]    | Downloading package book_grammars to\n",
            "[nltk_data]    |     /root/nltk_data...\n",
            "[nltk_data]    |   Package book_grammars is already up-to-date!\n",
            "[nltk_data]    | Downloading package brown to /root/nltk_data...\n",
            "[nltk_data]    |   Package brown is already up-to-date!\n",
            "[nltk_data]    | Downloading package brown_tei to /root/nltk_data...\n",
            "[nltk_data]    |   Package brown_tei is already up-to-date!\n",
            "[nltk_data]    | Downloading package cess_cat to /root/nltk_data...\n",
            "[nltk_data]    |   Package cess_cat is already up-to-date!\n",
            "[nltk_data]    | Downloading package cess_esp to /root/nltk_data...\n",
            "[nltk_data]    |   Package cess_esp is already up-to-date!\n",
            "[nltk_data]    | Downloading package chat80 to /root/nltk_data...\n",
            "[nltk_data]    |   Package chat80 is already up-to-date!\n",
            "[nltk_data]    | Downloading package city_database to\n",
            "[nltk_data]    |     /root/nltk_data...\n",
            "[nltk_data]    |   Package city_database is already up-to-date!\n",
            "[nltk_data]    | Downloading package cmudict to /root/nltk_data...\n",
            "[nltk_data]    |   Package cmudict is already up-to-date!\n",
            "[nltk_data]    | Downloading package comparative_sentences to\n",
            "[nltk_data]    |     /root/nltk_data...\n",
            "[nltk_data]    |   Package comparative_sentences is already up-to-\n",
            "[nltk_data]    |       date!\n",
            "[nltk_data]    | Downloading package comtrans to /root/nltk_data...\n",
            "[nltk_data]    |   Package comtrans is already up-to-date!\n",
            "[nltk_data]    | Downloading package conll2000 to /root/nltk_data...\n",
            "[nltk_data]    |   Package conll2000 is already up-to-date!\n",
            "[nltk_data]    | Downloading package conll2002 to /root/nltk_data...\n",
            "[nltk_data]    |   Package conll2002 is already up-to-date!\n",
            "[nltk_data]    | Downloading package conll2007 to /root/nltk_data...\n",
            "[nltk_data]    |   Package conll2007 is already up-to-date!\n",
            "[nltk_data]    | Downloading package crubadan to /root/nltk_data...\n",
            "[nltk_data]    |   Package crubadan is already up-to-date!\n",
            "[nltk_data]    | Downloading package dependency_treebank to\n",
            "[nltk_data]    |     /root/nltk_data...\n",
            "[nltk_data]    |   Package dependency_treebank is already up-to-date!\n",
            "[nltk_data]    | Downloading package dolch to /root/nltk_data...\n",
            "[nltk_data]    |   Package dolch is already up-to-date!\n",
            "[nltk_data]    | Downloading package europarl_raw to\n",
            "[nltk_data]    |     /root/nltk_data...\n",
            "[nltk_data]    |   Package europarl_raw is already up-to-date!\n",
            "[nltk_data]    | Downloading package extended_omw to\n",
            "[nltk_data]    |     /root/nltk_data...\n",
            "[nltk_data]    |   Package extended_omw is already up-to-date!\n",
            "[nltk_data]    | Downloading package floresta to /root/nltk_data...\n",
            "[nltk_data]    |   Package floresta is already up-to-date!\n",
            "[nltk_data]    | Downloading package framenet_v15 to\n",
            "[nltk_data]    |     /root/nltk_data...\n",
            "[nltk_data]    |   Package framenet_v15 is already up-to-date!\n",
            "[nltk_data]    | Downloading package framenet_v17 to\n",
            "[nltk_data]    |     /root/nltk_data...\n",
            "[nltk_data]    |   Package framenet_v17 is already up-to-date!\n",
            "[nltk_data]    | Downloading package gazetteers to /root/nltk_data...\n",
            "[nltk_data]    |   Package gazetteers is already up-to-date!\n",
            "[nltk_data]    | Downloading package genesis to /root/nltk_data...\n",
            "[nltk_data]    |   Package genesis is already up-to-date!\n",
            "[nltk_data]    | Downloading package gutenberg to /root/nltk_data...\n",
            "[nltk_data]    |   Package gutenberg is already up-to-date!\n",
            "[nltk_data]    | Downloading package ieer to /root/nltk_data...\n",
            "[nltk_data]    |   Package ieer is already up-to-date!\n",
            "[nltk_data]    | Downloading package inaugural to /root/nltk_data...\n",
            "[nltk_data]    |   Package inaugural is already up-to-date!\n",
            "[nltk_data]    | Downloading package indian to /root/nltk_data...\n",
            "[nltk_data]    |   Package indian is already up-to-date!\n",
            "[nltk_data]    | Downloading package jeita to /root/nltk_data...\n",
            "[nltk_data]    |   Package jeita is already up-to-date!\n",
            "[nltk_data]    | Downloading package kimmo to /root/nltk_data...\n",
            "[nltk_data]    |   Package kimmo is already up-to-date!\n",
            "[nltk_data]    | Downloading package knbc to /root/nltk_data...\n",
            "[nltk_data]    |   Package knbc is already up-to-date!\n",
            "[nltk_data]    | Downloading package large_grammars to\n",
            "[nltk_data]    |     /root/nltk_data...\n",
            "[nltk_data]    |   Package large_grammars is already up-to-date!\n",
            "[nltk_data]    | Downloading package lin_thesaurus to\n",
            "[nltk_data]    |     /root/nltk_data...\n",
            "[nltk_data]    |   Package lin_thesaurus is already up-to-date!\n",
            "[nltk_data]    | Downloading package mac_morpho to /root/nltk_data...\n",
            "[nltk_data]    |   Package mac_morpho is already up-to-date!\n",
            "[nltk_data]    | Downloading package machado to /root/nltk_data...\n",
            "[nltk_data]    |   Package machado is already up-to-date!\n",
            "[nltk_data]    | Downloading package masc_tagged to /root/nltk_data...\n",
            "[nltk_data]    |   Package masc_tagged is already up-to-date!\n",
            "[nltk_data]    | Downloading package maxent_ne_chunker to\n",
            "[nltk_data]    |     /root/nltk_data...\n",
            "[nltk_data]    |   Package maxent_ne_chunker is already up-to-date!\n",
            "[nltk_data]    | Downloading package maxent_treebank_pos_tagger to\n",
            "[nltk_data]    |     /root/nltk_data...\n",
            "[nltk_data]    |   Package maxent_treebank_pos_tagger is already up-\n",
            "[nltk_data]    |       to-date!\n",
            "[nltk_data]    | Downloading package moses_sample to\n",
            "[nltk_data]    |     /root/nltk_data...\n",
            "[nltk_data]    |   Package moses_sample is already up-to-date!\n",
            "[nltk_data]    | Downloading package movie_reviews to\n",
            "[nltk_data]    |     /root/nltk_data...\n",
            "[nltk_data]    |   Package movie_reviews is already up-to-date!\n",
            "[nltk_data]    | Downloading package mte_teip5 to /root/nltk_data...\n",
            "[nltk_data]    |   Package mte_teip5 is already up-to-date!\n",
            "[nltk_data]    | Downloading package mwa_ppdb to /root/nltk_data...\n",
            "[nltk_data]    |   Package mwa_ppdb is already up-to-date!\n",
            "[nltk_data]    | Downloading package names to /root/nltk_data...\n",
            "[nltk_data]    |   Package names is already up-to-date!\n",
            "[nltk_data]    | Downloading package nombank.1.0 to /root/nltk_data...\n",
            "[nltk_data]    |   Package nombank.1.0 is already up-to-date!\n",
            "[nltk_data]    | Downloading package nonbreaking_prefixes to\n",
            "[nltk_data]    |     /root/nltk_data...\n",
            "[nltk_data]    |   Package nonbreaking_prefixes is already up-to-date!\n",
            "[nltk_data]    | Downloading package nps_chat to /root/nltk_data...\n",
            "[nltk_data]    |   Package nps_chat is already up-to-date!\n",
            "[nltk_data]    | Downloading package omw to /root/nltk_data...\n",
            "[nltk_data]    |   Package omw is already up-to-date!\n",
            "[nltk_data]    | Downloading package omw-1.4 to /root/nltk_data...\n",
            "[nltk_data]    |   Package omw-1.4 is already up-to-date!\n",
            "[nltk_data]    | Downloading package opinion_lexicon to\n",
            "[nltk_data]    |     /root/nltk_data...\n",
            "[nltk_data]    |   Package opinion_lexicon is already up-to-date!\n",
            "[nltk_data]    | Downloading package panlex_swadesh to\n",
            "[nltk_data]    |     /root/nltk_data...\n",
            "[nltk_data]    |   Package panlex_swadesh is already up-to-date!\n",
            "[nltk_data]    | Downloading package paradigms to /root/nltk_data...\n",
            "[nltk_data]    |   Package paradigms is already up-to-date!\n",
            "[nltk_data]    | Downloading package pe08 to /root/nltk_data...\n",
            "[nltk_data]    |   Package pe08 is already up-to-date!\n",
            "[nltk_data]    | Downloading package perluniprops to\n",
            "[nltk_data]    |     /root/nltk_data...\n",
            "[nltk_data]    |   Package perluniprops is already up-to-date!\n",
            "[nltk_data]    | Downloading package pil to /root/nltk_data...\n",
            "[nltk_data]    |   Package pil is already up-to-date!\n",
            "[nltk_data]    | Downloading package pl196x to /root/nltk_data...\n",
            "[nltk_data]    |   Package pl196x is already up-to-date!\n",
            "[nltk_data]    | Downloading package porter_test to /root/nltk_data...\n",
            "[nltk_data]    |   Package porter_test is already up-to-date!\n",
            "[nltk_data]    | Downloading package ppattach to /root/nltk_data...\n",
            "[nltk_data]    |   Package ppattach is already up-to-date!\n",
            "[nltk_data]    | Downloading package problem_reports to\n",
            "[nltk_data]    |     /root/nltk_data...\n",
            "[nltk_data]    |   Package problem_reports is already up-to-date!\n",
            "[nltk_data]    | Downloading package product_reviews_1 to\n",
            "[nltk_data]    |     /root/nltk_data...\n",
            "[nltk_data]    |   Package product_reviews_1 is already up-to-date!\n",
            "[nltk_data]    | Downloading package product_reviews_2 to\n",
            "[nltk_data]    |     /root/nltk_data...\n",
            "[nltk_data]    |   Package product_reviews_2 is already up-to-date!\n",
            "[nltk_data]    | Downloading package propbank to /root/nltk_data...\n",
            "[nltk_data]    |   Package propbank is already up-to-date!\n",
            "[nltk_data]    | Downloading package pros_cons to /root/nltk_data...\n",
            "[nltk_data]    |   Package pros_cons is already up-to-date!\n",
            "[nltk_data]    | Downloading package ptb to /root/nltk_data...\n",
            "[nltk_data]    |   Package ptb is already up-to-date!\n",
            "[nltk_data]    | Downloading package punkt to /root/nltk_data...\n",
            "[nltk_data]    |   Package punkt is already up-to-date!\n",
            "[nltk_data]    | Downloading package qc to /root/nltk_data...\n",
            "[nltk_data]    |   Package qc is already up-to-date!\n",
            "[nltk_data]    | Downloading package reuters to /root/nltk_data...\n",
            "[nltk_data]    |   Package reuters is already up-to-date!\n",
            "[nltk_data]    | Downloading package rslp to /root/nltk_data...\n",
            "[nltk_data]    |   Package rslp is already up-to-date!\n",
            "[nltk_data]    | Downloading package rte to /root/nltk_data...\n",
            "[nltk_data]    |   Package rte is already up-to-date!\n",
            "[nltk_data]    | Downloading package sample_grammars to\n",
            "[nltk_data]    |     /root/nltk_data...\n",
            "[nltk_data]    |   Package sample_grammars is already up-to-date!\n",
            "[nltk_data]    | Downloading package semcor to /root/nltk_data...\n",
            "[nltk_data]    |   Package semcor is already up-to-date!\n",
            "[nltk_data]    | Downloading package senseval to /root/nltk_data...\n",
            "[nltk_data]    |   Package senseval is already up-to-date!\n",
            "[nltk_data]    | Downloading package sentence_polarity to\n",
            "[nltk_data]    |     /root/nltk_data...\n",
            "[nltk_data]    |   Package sentence_polarity is already up-to-date!\n",
            "[nltk_data]    | Downloading package sentiwordnet to\n",
            "[nltk_data]    |     /root/nltk_data...\n",
            "[nltk_data]    |   Package sentiwordnet is already up-to-date!\n",
            "[nltk_data]    | Downloading package shakespeare to /root/nltk_data...\n",
            "[nltk_data]    |   Package shakespeare is already up-to-date!\n",
            "[nltk_data]    | Downloading package sinica_treebank to\n",
            "[nltk_data]    |     /root/nltk_data...\n",
            "[nltk_data]    |   Package sinica_treebank is already up-to-date!\n",
            "[nltk_data]    | Downloading package smultron to /root/nltk_data...\n",
            "[nltk_data]    |   Package smultron is already up-to-date!\n",
            "[nltk_data]    | Downloading package snowball_data to\n",
            "[nltk_data]    |     /root/nltk_data...\n",
            "[nltk_data]    |   Package snowball_data is already up-to-date!\n",
            "[nltk_data]    | Downloading package spanish_grammars to\n",
            "[nltk_data]    |     /root/nltk_data...\n",
            "[nltk_data]    |   Package spanish_grammars is already up-to-date!\n",
            "[nltk_data]    | Downloading package state_union to /root/nltk_data...\n",
            "[nltk_data]    |   Package state_union is already up-to-date!\n",
            "[nltk_data]    | Downloading package stopwords to /root/nltk_data...\n",
            "[nltk_data]    |   Package stopwords is already up-to-date!\n",
            "[nltk_data]    | Downloading package subjectivity to\n",
            "[nltk_data]    |     /root/nltk_data...\n",
            "[nltk_data]    |   Package subjectivity is already up-to-date!\n",
            "[nltk_data]    | Downloading package swadesh to /root/nltk_data...\n",
            "[nltk_data]    |   Package swadesh is already up-to-date!\n",
            "[nltk_data]    | Downloading package switchboard to /root/nltk_data...\n",
            "[nltk_data]    |   Package switchboard is already up-to-date!\n",
            "[nltk_data]    | Downloading package tagsets to /root/nltk_data...\n",
            "[nltk_data]    |   Package tagsets is already up-to-date!\n",
            "[nltk_data]    | Downloading package timit to /root/nltk_data...\n",
            "[nltk_data]    |   Package timit is already up-to-date!\n",
            "[nltk_data]    | Downloading package toolbox to /root/nltk_data...\n",
            "[nltk_data]    |   Package toolbox is already up-to-date!\n",
            "[nltk_data]    | Downloading package treebank to /root/nltk_data...\n",
            "[nltk_data]    |   Package treebank is already up-to-date!\n",
            "[nltk_data]    | Downloading package twitter_samples to\n",
            "[nltk_data]    |     /root/nltk_data...\n",
            "[nltk_data]    |   Package twitter_samples is already up-to-date!\n",
            "[nltk_data]    | Downloading package udhr to /root/nltk_data...\n",
            "[nltk_data]    |   Package udhr is already up-to-date!\n",
            "[nltk_data]    | Downloading package udhr2 to /root/nltk_data...\n",
            "[nltk_data]    |   Package udhr2 is already up-to-date!\n",
            "[nltk_data]    | Downloading package unicode_samples to\n",
            "[nltk_data]    |     /root/nltk_data...\n",
            "[nltk_data]    |   Package unicode_samples is already up-to-date!\n",
            "[nltk_data]    | Downloading package universal_tagset to\n",
            "[nltk_data]    |     /root/nltk_data...\n",
            "[nltk_data]    |   Package universal_tagset is already up-to-date!\n",
            "[nltk_data]    | Downloading package universal_treebanks_v20 to\n",
            "[nltk_data]    |     /root/nltk_data...\n",
            "[nltk_data]    |   Package universal_treebanks_v20 is already up-to-\n",
            "[nltk_data]    |       date!\n",
            "[nltk_data]    | Downloading package vader_lexicon to\n",
            "[nltk_data]    |     /root/nltk_data...\n",
            "[nltk_data]    |   Package vader_lexicon is already up-to-date!\n",
            "[nltk_data]    | Downloading package verbnet to /root/nltk_data...\n",
            "[nltk_data]    |   Package verbnet is already up-to-date!\n",
            "[nltk_data]    | Downloading package verbnet3 to /root/nltk_data...\n",
            "[nltk_data]    |   Package verbnet3 is already up-to-date!\n",
            "[nltk_data]    | Downloading package webtext to /root/nltk_data...\n",
            "[nltk_data]    |   Package webtext is already up-to-date!\n",
            "[nltk_data]    | Downloading package wmt15_eval to /root/nltk_data...\n",
            "[nltk_data]    |   Package wmt15_eval is already up-to-date!\n",
            "[nltk_data]    | Downloading package word2vec_sample to\n",
            "[nltk_data]    |     /root/nltk_data...\n",
            "[nltk_data]    |   Package word2vec_sample is already up-to-date!\n",
            "[nltk_data]    | Downloading package wordnet to /root/nltk_data...\n",
            "[nltk_data]    |   Package wordnet is already up-to-date!\n",
            "[nltk_data]    | Downloading package wordnet2021 to /root/nltk_data...\n",
            "[nltk_data]    |   Package wordnet2021 is already up-to-date!\n",
            "[nltk_data]    | Downloading package wordnet31 to /root/nltk_data...\n",
            "[nltk_data]    |   Package wordnet31 is already up-to-date!\n",
            "[nltk_data]    | Downloading package wordnet_ic to /root/nltk_data...\n",
            "[nltk_data]    |   Package wordnet_ic is already up-to-date!\n",
            "[nltk_data]    | Downloading package words to /root/nltk_data...\n",
            "[nltk_data]    |   Package words is already up-to-date!\n",
            "[nltk_data]    | Downloading package ycoe to /root/nltk_data...\n",
            "[nltk_data]    |   Package ycoe is already up-to-date!\n",
            "[nltk_data]    | \n",
            "[nltk_data]  Done downloading collection all\n"
          ]
        },
        {
          "output_type": "execute_result",
          "data": {
            "text/plain": [
              "True"
            ]
          },
          "metadata": {},
          "execution_count": 3
        }
      ],
      "source": [
        "import nltk\n",
        "nltk.download('all')"
      ]
    },
    {
      "cell_type": "markdown",
      "metadata": {
        "id": "j8q6vU3UPG-6"
      },
      "source": [
        "**Brown Corpus**"
      ]
    },
    {
      "cell_type": "code",
      "execution_count": null,
      "metadata": {
        "id": "hDf4hm1GKSft"
      },
      "outputs": [],
      "source": [
        "from nltk.corpus import brown"
      ]
    },
    {
      "cell_type": "code",
      "execution_count": null,
      "metadata": {
        "colab": {
          "base_uri": "https://localhost:8080/"
        },
        "id": "XdKol6HJKhT2",
        "outputId": "d1253a9a-943d-4a3f-e5b9-c9ee0c0731b2"
      },
      "outputs": [
        {
          "name": "stdout",
          "output_type": "stream",
          "text": [
            "Total catagories:15 \n"
          ]
        }
      ],
      "source": [
        "print(f\"Total catagories:{len(brown.categories())} \")"
      ]
    },
    {
      "cell_type": "code",
      "execution_count": null,
      "metadata": {
        "colab": {
          "base_uri": "https://localhost:8080/"
        },
        "id": "6Gl1glT3K84e",
        "outputId": "8d9c4ae4-5e3f-44e1-b063-902380e9b450"
      },
      "outputs": [
        {
          "name": "stdout",
          "output_type": "stream",
          "text": [
            "['adventure', 'belles_lettres', 'editorial', 'fiction', 'government', 'hobbies', 'humor', 'learned', 'lore', 'mystery', 'news', 'religion', 'reviews', 'romance', 'science_fiction']\n"
          ]
        }
      ],
      "source": [
        "print(brown.categories())"
      ]
    },
    {
      "cell_type": "code",
      "execution_count": null,
      "metadata": {
        "colab": {
          "base_uri": "https://localhost:8080/"
        },
        "id": "4iWzI5SHLDFN",
        "outputId": "a173440e-1565-47a1-98c6-8c66fcb98419"
      },
      "outputs": [
        {
          "data": {
            "text/plain": [
              "[['There', 'were', 'thirty-eight', 'patients', 'on', 'the', 'bus', 'the', 'morning', 'I', 'left', 'for', 'Hanover', ',', 'most', 'of', 'them', 'disturbed', 'and', 'hallucinating', '.'], ['An', 'interne', ',', 'a', 'nurse', 'and', 'two', 'attendants', 'were', 'in', 'charge', 'of', 'us', '.'], ...]"
            ]
          },
          "execution_count": 6,
          "metadata": {},
          "output_type": "execute_result"
        }
      ],
      "source": [
        "brown.sents(categories='mystery')"
      ]
    },
    {
      "cell_type": "code",
      "execution_count": null,
      "metadata": {
        "colab": {
          "base_uri": "https://localhost:8080/"
        },
        "id": "adNCxaTlLXEZ",
        "outputId": "de0508b6-601d-475b-d169-bc2e918a30fe"
      },
      "outputs": [
        {
          "data": {
            "text/plain": [
              "[[('There', 'EX'), ('were', 'BED'), ('thirty-eight', 'CD'), ('patients', 'NNS'), ('on', 'IN'), ('the', 'AT'), ('bus', 'NN'), ('the', 'AT'), ('morning', 'NN'), ('I', 'PPSS'), ('left', 'VBD'), ('for', 'IN'), ('Hanover', 'NP'), (',', ','), ('most', 'AP'), ('of', 'IN'), ('them', 'PPO'), ('disturbed', 'VBN'), ('and', 'CC'), ('hallucinating', 'VBG'), ('.', '.')], [('An', 'AT'), ('interne', 'NN'), (',', ','), ('a', 'AT'), ('nurse', 'NN'), ('and', 'CC'), ('two', 'CD'), ('attendants', 'NNS'), ('were', 'BED'), ('in', 'IN'), ('charge', 'NN'), ('of', 'IN'), ('us', 'PPO'), ('.', '.')], ...]"
            ]
          },
          "execution_count": 7,
          "metadata": {},
          "output_type": "execute_result"
        }
      ],
      "source": [
        "from nltk.corpus.reader import categorized_sents\n",
        "#POS tagged sentences\n",
        "brown.tagged_sents(categories='mystery')\n"
      ]
    },
    {
      "cell_type": "code",
      "execution_count": null,
      "metadata": {
        "id": "uG-7Z84tLzNT"
      },
      "outputs": [],
      "source": [
        "#get sentence in natural form\n",
        "sentences = brown.sents(categories='mystery')\n",
        "sentences = [' '.join(sentence_token) for sentence_token in sentences]"
      ]
    },
    {
      "cell_type": "code",
      "execution_count": null,
      "metadata": {
        "colab": {
          "base_uri": "https://localhost:8080/"
        },
        "id": "VJt1TsCkMbKF",
        "outputId": "8d30bc80-1af5-4f22-dc70-310fb344f6e7"
      },
      "outputs": [
        {
          "name": "stdout",
          "output_type": "stream",
          "text": [
            "['There were thirty-eight patients on the bus the morning I left for Hanover , most of them disturbed and hallucinating .', 'An interne , a nurse and two attendants were in charge of us .', \"I felt lonely and depressed as I stared out the bus window at Chicago's grim , dirty West Side .\", 'It seemed incredible , as I listened to the monotonous drone of voices and smelled the fetid odors coming from the patients , that technically I was a ward of the state of Illinois , going to a hospital for the mentally ill .', 'I suddenly thought of Mary Jane Brennan , the way her pretty eyes could flash with anger , her quiet competence , the gentleness and sweetness that lay just beneath the surface of her defenses .']\n"
          ]
        }
      ],
      "source": [
        "print(sentences[0:5])"
      ]
    },
    {
      "cell_type": "code",
      "execution_count": null,
      "metadata": {
        "colab": {
          "base_uri": "https://localhost:8080/"
        },
        "id": "eN3Nau0KM9Oe",
        "outputId": "7bb9fdd0-3eec-44c5-ea4f-09ebabd7f890"
      },
      "outputs": [
        {
          "data": {
            "text/plain": [
              "[('There', 'EX'),\n",
              " ('were', 'BED'),\n",
              " ('thirty-eight', 'CD'),\n",
              " ('patients', 'NNS'),\n",
              " ('on', 'IN'),\n",
              " ('the', 'AT'),\n",
              " ('bus', 'NN'),\n",
              " ('the', 'AT'),\n",
              " ('morning', 'NN'),\n",
              " ('I', 'PPSS'),\n",
              " ('left', 'VBD'),\n",
              " ('for', 'IN'),\n",
              " ('Hanover', 'NP'),\n",
              " (',', ','),\n",
              " ('most', 'AP'),\n",
              " ('of', 'IN'),\n",
              " ('them', 'PPO'),\n",
              " ('disturbed', 'VBN'),\n",
              " ('and', 'CC'),\n",
              " ('hallucinating', 'VBG')]"
            ]
          },
          "execution_count": 10,
          "metadata": {},
          "output_type": "execute_result"
        }
      ],
      "source": [
        "#get tagged word\n",
        "tagged_words = brown.tagged_words(categories='mystery')\n",
        "tagged_words[0:20]"
      ]
    },
    {
      "cell_type": "code",
      "execution_count": null,
      "metadata": {
        "id": "GERq8v21Nn-D"
      },
      "outputs": [],
      "source": [
        "#get noun from the tagged words\n",
        "nouns = [(word,tag) for word, tag in tagged_words if any(noun_tag in tag for noun_tag in ['NP','NN'])]"
      ]
    },
    {
      "cell_type": "code",
      "execution_count": null,
      "metadata": {
        "colab": {
          "base_uri": "https://localhost:8080/"
        },
        "id": "zArHUMtiOKlu",
        "outputId": "7e3597f0-974d-46b0-de8f-29a54510320a"
      },
      "outputs": [
        {
          "name": "stdout",
          "output_type": "stream",
          "text": [
            "[('patients', 'NNS'), ('bus', 'NN'), ('morning', 'NN'), ('Hanover', 'NP'), ('interne', 'NN'), ('nurse', 'NN'), ('attendants', 'NNS'), ('charge', 'NN'), ('bus', 'NN'), ('window', 'NN')]\n"
          ]
        }
      ],
      "source": [
        "print(nouns[0:10])"
      ]
    },
    {
      "cell_type": "code",
      "execution_count": null,
      "metadata": {
        "id": "O-V9Jy4IOXAk"
      },
      "outputs": [],
      "source": [
        "# build frequency distribution for nouns\n",
        "noun_freq = nltk.FreqDist([word for word, tag in nouns])"
      ]
    },
    {
      "cell_type": "code",
      "execution_count": null,
      "metadata": {
        "colab": {
          "base_uri": "https://localhost:8080/"
        },
        "id": "70QcwxOYONdL",
        "outputId": "c3536381-2cbb-4cfa-b3f4-b1cabfec855c"
      },
      "outputs": [
        {
          "name": "stdout",
          "output_type": "stream",
          "text": [
            "[('man', 106), ('time', 82), ('door', 80), ('car', 69), ('room', 65), ('Mr.', 63), ('way', 61), ('office', 50), ('eyes', 48), ('hand', 46), ('Mrs.', 46), ('face', 45), ('head', 42), ('road', 41), ('house', 41)]\n"
          ]
        }
      ],
      "source": [
        "# print top 10 occuring nouns\n",
        "print(noun_freq.most_common(15))"
      ]
    },
    {
      "cell_type": "markdown",
      "metadata": {
        "id": "e_t2FWnDPDKR"
      },
      "source": [
        "**wordnet Corpus**"
      ]
    },
    {
      "cell_type": "code",
      "execution_count": null,
      "metadata": {
        "id": "ADehYAsRPjjC"
      },
      "outputs": [],
      "source": [
        "from nltk.corpus import wordnet as wn"
      ]
    },
    {
      "cell_type": "code",
      "execution_count": null,
      "metadata": {
        "colab": {
          "base_uri": "https://localhost:8080/"
        },
        "id": "ehBjkGsVQvlk",
        "outputId": "d108afde-6930-4714-9e4b-4ae23d20491e"
      },
      "outputs": [
        {
          "name": "stdout",
          "output_type": "stream",
          "text": [
            "[Synset('hike.n.01'), Synset('rise.n.09'), Synset('raise.n.01'), Synset('hike.v.01'), Synset('hike.v.02')]\n"
          ]
        }
      ],
      "source": [
        "word = 'hike' #taking hike as a word of interest\n",
        "#get word synsets\n",
        "word_synsets = wn.synsets(word)\n",
        "print(word_synsets)"
      ]
    },
    {
      "cell_type": "code",
      "execution_count": null,
      "metadata": {
        "colab": {
          "base_uri": "https://localhost:8080/"
        },
        "id": "j32RylDgRC3O",
        "outputId": "116b9cb8-e070-483a-f1ab-fd49f86028f8"
      },
      "outputs": [
        {
          "name": "stdout",
          "output_type": "stream",
          "text": [
            "synset name: hike.n.01\n",
            "POS tag n\n",
            "Definition: a long walk usually for exercise or pleasure\n",
            "Examples:  ['she enjoys a hike in her spare time']\n",
            "\n",
            "\n",
            "synset name: rise.n.09\n",
            "POS tag n\n",
            "Definition: an increase in cost\n",
            "Examples:  ['they asked for a 10% rise in rates']\n",
            "\n",
            "\n",
            "synset name: raise.n.01\n",
            "POS tag n\n",
            "Definition: the amount a salary is increased\n",
            "Examples:  ['he got a 3% raise', 'he got a wage hike']\n",
            "\n",
            "\n",
            "synset name: hike.v.01\n",
            "POS tag v\n",
            "Definition: increase\n",
            "Examples:  ['The landlord hiked up the rents']\n",
            "\n",
            "\n",
            "synset name: hike.v.02\n",
            "POS tag v\n",
            "Definition: walk a long way, as for pleasure or physical exercise\n",
            "Examples:  ['We were hiking in Colorado', 'hike the Rockies']\n",
            "\n",
            "\n"
          ]
        }
      ],
      "source": [
        "#get details of each synonym in synset\n",
        "for synset in word_synsets:\n",
        "  print(\"synset name:\", synset.name())\n",
        "  print(\"POS tag\", synset.pos())\n",
        "  print(\"Definition:\", synset.definition())\n",
        "  print(\"Examples: \", synset.examples())\n",
        "  print(\"\\n\")\n"
      ]
    },
    {
      "cell_type": "markdown",
      "metadata": {
        "id": "UDGJM95vhscp"
      },
      "source": [
        "**Stemming**"
      ]
    },
    {
      "cell_type": "code",
      "execution_count": null,
      "metadata": {
        "id": "xF9QS-6WSEt7"
      },
      "outputs": [],
      "source": [
        "from nltk.stem import PorterStemmer\n",
        "from nltk.corpus import stopwords"
      ]
    },
    {
      "cell_type": "code",
      "execution_count": null,
      "metadata": {
        "id": "kCw10Vcbh7jI"
      },
      "outputs": [],
      "source": [
        "paragraph=\"\"\"So far 21566013, we have reviewed the main concepts and areas surrounding natural language processing (NLP) and text analytics. We also got a good grip on the Python programming language in the last chapter, especially on the different constructs and syntax and how to work with strings to manage textual data. To carry out different operations and analyze text, you will need to process and parse textual data into more easy-to-interpret formats.\"\"\""
      ]
    },
    {
      "cell_type": "code",
      "execution_count": null,
      "metadata": {
        "id": "zYbgXSSJiYq8"
      },
      "outputs": [],
      "source": [
        "sentences = nltk.sent_tokenize(paragraph)"
      ]
    },
    {
      "cell_type": "code",
      "execution_count": null,
      "metadata": {
        "colab": {
          "base_uri": "https://localhost:8080/"
        },
        "id": "znrghkmhigDz",
        "outputId": "e3033eaa-de96-4127-bc1f-6510c9a354c7"
      },
      "outputs": [
        {
          "data": {
            "text/plain": [
              "['So far 21566013, we have reviewed the main concepts and areas surrounding natural language processing (NLP) and text analytics.',\n",
              " 'We also got a good grip on the Python programming language in the last chapter, especially on the different constructs and syntax and how to work with strings to manage textual data.',\n",
              " 'To carry out different operations and analyze text, you will need to process and parse textual data into more easy-to-interpret formats.']"
            ]
          },
          "execution_count": 21,
          "metadata": {},
          "output_type": "execute_result"
        }
      ],
      "source": [
        "sentences"
      ]
    },
    {
      "cell_type": "code",
      "execution_count": null,
      "metadata": {
        "id": "BIx6OjSmihOO"
      },
      "outputs": [],
      "source": [
        "words = nltk.word_tokenize(paragraph)"
      ]
    },
    {
      "cell_type": "code",
      "execution_count": null,
      "metadata": {
        "colab": {
          "base_uri": "https://localhost:8080/"
        },
        "id": "rK0U3Chuiy69",
        "outputId": "a938b84f-05c1-4819-d871-f474a098957d"
      },
      "outputs": [
        {
          "data": {
            "text/plain": [
              "['So',\n",
              " 'far',\n",
              " '21566013',\n",
              " ',',\n",
              " 'we',\n",
              " 'have',\n",
              " 'reviewed',\n",
              " 'the',\n",
              " 'main',\n",
              " 'concepts',\n",
              " 'and',\n",
              " 'areas',\n",
              " 'surrounding',\n",
              " 'natural',\n",
              " 'language',\n",
              " 'processing',\n",
              " '(',\n",
              " 'NLP',\n",
              " ')',\n",
              " 'and',\n",
              " 'text',\n",
              " 'analytics',\n",
              " '.',\n",
              " 'We',\n",
              " 'also',\n",
              " 'got',\n",
              " 'a',\n",
              " 'good',\n",
              " 'grip',\n",
              " 'on',\n",
              " 'the',\n",
              " 'Python',\n",
              " 'programming',\n",
              " 'language',\n",
              " 'in',\n",
              " 'the',\n",
              " 'last',\n",
              " 'chapter',\n",
              " ',',\n",
              " 'especially',\n",
              " 'on',\n",
              " 'the',\n",
              " 'different',\n",
              " 'constructs',\n",
              " 'and',\n",
              " 'syntax',\n",
              " 'and',\n",
              " 'how',\n",
              " 'to',\n",
              " 'work',\n",
              " 'with',\n",
              " 'strings',\n",
              " 'to',\n",
              " 'manage',\n",
              " 'textual',\n",
              " 'data',\n",
              " '.',\n",
              " 'To',\n",
              " 'carry',\n",
              " 'out',\n",
              " 'different',\n",
              " 'operations',\n",
              " 'and',\n",
              " 'analyze',\n",
              " 'text',\n",
              " ',',\n",
              " 'you',\n",
              " 'will',\n",
              " 'need',\n",
              " 'to',\n",
              " 'process',\n",
              " 'and',\n",
              " 'parse',\n",
              " 'textual',\n",
              " 'data',\n",
              " 'into',\n",
              " 'more',\n",
              " 'easy-to-interpret',\n",
              " 'formats',\n",
              " '.']"
            ]
          },
          "execution_count": 23,
          "metadata": {},
          "output_type": "execute_result"
        }
      ],
      "source": [
        "words"
      ]
    },
    {
      "cell_type": "code",
      "execution_count": null,
      "metadata": {
        "id": "AT4EXehCizUf"
      },
      "outputs": [],
      "source": [
        "stemmer = PorterStemmer()"
      ]
    },
    {
      "cell_type": "code",
      "execution_count": null,
      "metadata": {
        "id": "tCCRKaqpi7IY"
      },
      "outputs": [],
      "source": [
        "#stemming\n",
        "for i in range(len(sentences)):\n",
        "  words = nltk.word_tokenize(sentences[i])\n",
        "  words = [stemmer.stem(word)for word in words if word not in set(stopwords.words('english'))]\n",
        "  sentences[i] = ' '.join(words)"
      ]
    },
    {
      "cell_type": "code",
      "execution_count": null,
      "metadata": {
        "colab": {
          "base_uri": "https://localhost:8080/"
        },
        "id": "SUszun9gjdu-",
        "outputId": "37ef6ef7-1955-435a-a450-e8a9ff97c0aa"
      },
      "outputs": [
        {
          "data": {
            "text/plain": [
              "['So far 21566013 , review main concept area surround natur languag process ( nlp ) text analyt .',\n",
              " 'We also got good grip python program languag last chapter , especi differ construct syntax work string manag textual data .',\n",
              " 'To carri differ oper analyz text , need process pars textual data easy-to-interpret format .']"
            ]
          },
          "execution_count": 26,
          "metadata": {},
          "output_type": "execute_result"
        }
      ],
      "source": [
        "sentences"
      ]
    },
    {
      "cell_type": "markdown",
      "metadata": {
        "id": "OwWOPlAUj9T9"
      },
      "source": [
        "**problem of stemming** : intermediate representation of words dose not have any meaning eg. final --> fina etc.\n",
        "\n",
        "To overcome this issue we are using lametization. However lametization will take much more time as compare to stemming as it has to find out the meaningful representation of a word."
      ]
    },
    {
      "cell_type": "markdown",
      "metadata": {
        "id": "hWayKEidkgFL"
      },
      "source": [
        "**Lemmatization**"
      ]
    },
    {
      "cell_type": "code",
      "execution_count": null,
      "metadata": {
        "id": "cRt0_ovljisg"
      },
      "outputs": [],
      "source": [
        "from nltk.stem import WordNetLemmatizer\n",
        "from nltk.corpus import stopwords "
      ]
    },
    {
      "cell_type": "code",
      "execution_count": null,
      "metadata": {
        "id": "IG4FJhajkujj"
      },
      "outputs": [],
      "source": [
        "lemmatization = WordNetLemmatizer()\n",
        "for i in range(len(sentences)):\n",
        "  words = nltk.word_tokenize(sentences[i])\n",
        "  words = [lemmatization.lemmatize(word)for word in words if word not in set(stopwords.words('english'))]\n",
        "  sentences[i] = ' '.join(words)"
      ]
    },
    {
      "cell_type": "code",
      "execution_count": null,
      "metadata": {
        "colab": {
          "base_uri": "https://localhost:8080/"
        },
        "id": "GSP7U0Pzk86x",
        "outputId": "28db43f5-eb6e-4655-869c-41fc1fd8e7fb"
      },
      "outputs": [
        {
          "data": {
            "text/plain": [
              "['So far 21566013 , review main concept area surround natur languag process ( nlp ) text analyt .',\n",
              " 'We also got good grip python program languag last chapter , especi differ construct syntax work string manag textual data .',\n",
              " 'To carri differ oper analyz text , need process par textual data easy-to-interpret format .']"
            ]
          },
          "execution_count": 29,
          "metadata": {},
          "output_type": "execute_result"
        }
      ],
      "source": [
        "sentences"
      ]
    },
    {
      "cell_type": "markdown",
      "metadata": {
        "id": "nz2YZVw6pZQ7"
      },
      "source": [
        "**Bag of words**"
      ]
    },
    {
      "cell_type": "code",
      "execution_count": null,
      "metadata": {
        "id": "74LuRQ9mn6iT"
      },
      "outputs": [],
      "source": [
        "#cleaning the text\n",
        "import re #regular expression library"
      ]
    },
    {
      "cell_type": "code",
      "execution_count": null,
      "metadata": {
        "id": "DCwrKaI0uhHM"
      },
      "outputs": [],
      "source": [
        "ps = PorterStemmer()\n",
        "wordnet = WordNetLemmatizer()\n",
        "corpus=[]\n",
        "for i in range(len(sentences)):\n",
        "  review = re.sub('[^a-zA-Z]',' ', sentences[i])\n",
        "  review=review.lower()\n",
        "  review = review.split()\n",
        "  review = [lemmatization.lemmatize(word)for word in review if word not in set(stopwords.words('english'))]\n",
        "  review = \" \".join(review)\n",
        "  corpus.append(review)"
      ]
    },
    {
      "cell_type": "code",
      "execution_count": null,
      "metadata": {
        "colab": {
          "base_uri": "https://localhost:8080/"
        },
        "id": "9gdPrmAxwe__",
        "outputId": "f45ac523-3252-4518-d742-2c606574c190"
      },
      "outputs": [
        {
          "data": {
            "text/plain": [
              "['far review main concept area surround natur languag process nlp text analyt',\n",
              " 'also got good grip python program languag last chapter especi differ construct syntax work string manag textual data',\n",
              " 'carri differ oper analyz text need process par textual data easy interpret format']"
            ]
          },
          "execution_count": 32,
          "metadata": {},
          "output_type": "execute_result"
        }
      ],
      "source": [
        "corpus"
      ]
    },
    {
      "cell_type": "code",
      "execution_count": null,
      "metadata": {
        "id": "8I0Wrs6WwgG0"
      },
      "outputs": [],
      "source": [
        "#creating the bag of words\n",
        "from sklearn.feature_extraction.text import CountVectorizer\n",
        "cv = CountVectorizer(max_features=1500)\n",
        "x = cv.fit_transform(corpus).toarray()\n"
      ]
    },
    {
      "cell_type": "code",
      "execution_count": null,
      "metadata": {
        "colab": {
          "base_uri": "https://localhost:8080/"
        },
        "id": "ODSkNpSGx1J1",
        "outputId": "68835748-71b0-4ae0-cd2f-f73e49197bb0"
      },
      "outputs": [
        {
          "data": {
            "text/plain": [
              "array([[0, 1, 0, 1, 0, 0, 1, 0, 0, 0, 0, 0, 1, 0, 0, 0, 0, 0, 1, 0, 1, 0,\n",
              "        1, 0, 1, 0, 0, 1, 0, 0, 1, 0, 1, 0, 1, 0, 0],\n",
              "       [1, 0, 0, 0, 0, 1, 0, 1, 1, 1, 0, 1, 0, 0, 1, 1, 1, 0, 1, 1, 0, 1,\n",
              "        0, 0, 0, 0, 0, 0, 1, 1, 0, 1, 0, 1, 0, 1, 1],\n",
              "       [0, 0, 1, 0, 1, 0, 0, 0, 1, 1, 1, 0, 0, 1, 0, 0, 0, 1, 0, 0, 0, 0,\n",
              "        0, 1, 0, 1, 1, 1, 0, 0, 0, 0, 0, 0, 1, 1, 0]])"
            ]
          },
          "execution_count": 34,
          "metadata": {},
          "output_type": "execute_result"
        }
      ],
      "source": [
        "x"
      ]
    },
    {
      "cell_type": "markdown",
      "metadata": {
        "id": "idwKOCy20Nzc"
      },
      "source": [
        "**TFIDF**"
      ]
    },
    {
      "cell_type": "code",
      "execution_count": null,
      "metadata": {
        "id": "lUZPqhCqx2CP"
      },
      "outputs": [],
      "source": [
        "#first step is cleaning the text that is same process followed in the previous code section\n",
        "from sklearn.feature_extraction.text import  TfidfVectorizer\n",
        "cv = TfidfVectorizer()\n",
        "X = cv.fit_transform(corpus).toarray()\n"
      ]
    },
    {
      "cell_type": "code",
      "execution_count": null,
      "metadata": {
        "colab": {
          "base_uri": "https://localhost:8080/"
        },
        "id": "bLgi2Pvq1dvA",
        "outputId": "604fd570-2fd9-48bc-a6e9-0ee81f44f676"
      },
      "outputs": [
        {
          "data": {
            "text/plain": [
              "array([[0.        , 0.30520733, 0.        , 0.30520733, 0.        ,\n",
              "        0.        , 0.30520733, 0.        , 0.        , 0.        ,\n",
              "        0.        , 0.        , 0.30520733, 0.        , 0.        ,\n",
              "        0.        , 0.        , 0.        , 0.23211804, 0.        ,\n",
              "        0.30520733, 0.        , 0.30520733, 0.        , 0.30520733,\n",
              "        0.        , 0.        , 0.23211804, 0.        , 0.        ,\n",
              "        0.30520733, 0.        , 0.30520733, 0.        , 0.23211804,\n",
              "        0.        , 0.        ],\n",
              "       [0.24758545, 0.        , 0.        , 0.        , 0.        ,\n",
              "        0.24758545, 0.        , 0.24758545, 0.18829512, 0.18829512,\n",
              "        0.        , 0.24758545, 0.        , 0.        , 0.24758545,\n",
              "        0.24758545, 0.24758545, 0.        , 0.18829512, 0.24758545,\n",
              "        0.        , 0.24758545, 0.        , 0.        , 0.        ,\n",
              "        0.        , 0.        , 0.        , 0.24758545, 0.24758545,\n",
              "        0.        , 0.24758545, 0.        , 0.24758545, 0.        ,\n",
              "        0.18829512, 0.24758545],\n",
              "       [0.        , 0.        , 0.30300252, 0.        , 0.30300252,\n",
              "        0.        , 0.        , 0.        , 0.23044123, 0.23044123,\n",
              "        0.30300252, 0.        , 0.        , 0.30300252, 0.        ,\n",
              "        0.        , 0.        , 0.30300252, 0.        , 0.        ,\n",
              "        0.        , 0.        , 0.        , 0.30300252, 0.        ,\n",
              "        0.30300252, 0.30300252, 0.23044123, 0.        , 0.        ,\n",
              "        0.        , 0.        , 0.        , 0.        , 0.23044123,\n",
              "        0.23044123, 0.        ]])"
            ]
          },
          "execution_count": 36,
          "metadata": {},
          "output_type": "execute_result"
        }
      ],
      "source": [
        "X"
      ]
    },
    {
      "cell_type": "markdown",
      "metadata": {
        "id": "q3uElSOJ1oOm"
      },
      "source": [
        "**SPAM classifier**"
      ]
    },
    {
      "cell_type": "code",
      "execution_count": null,
      "metadata": {
        "id": "HUBDU7O71eCz"
      },
      "outputs": [],
      "source": [
        "import pandas as pd"
      ]
    },
    {
      "cell_type": "code",
      "execution_count": null,
      "metadata": {
        "colab": {
          "base_uri": "https://localhost:8080/"
        },
        "id": "xGTmPRPn2Ffc",
        "outputId": "eb853a01-8c6f-4c94-f2c4-a0d68913097f"
      },
      "outputs": [
        {
          "name": "stdout",
          "output_type": "stream",
          "text": [
            "--2022-03-27 04:05:28--  https://archive.ics.uci.edu/ml/machine-learning-databases/00228/smsspamcollection.zip\n",
            "Resolving archive.ics.uci.edu (archive.ics.uci.edu)... 128.195.10.252\n",
            "Connecting to archive.ics.uci.edu (archive.ics.uci.edu)|128.195.10.252|:443... connected.\n",
            "HTTP request sent, awaiting response... 200 OK\n",
            "Length: 203415 (199K) [application/x-httpd-php]\n",
            "Saving to: ‘smsspamcollection.zip’\n",
            "\n",
            "\rsmsspamcollection.z   0%[                    ]       0  --.-KB/s               \rsmsspamcollection.z 100%[===================>] 198.65K  --.-KB/s    in 0.04s   \n",
            "\n",
            "2022-03-27 04:05:28 (4.82 MB/s) - ‘smsspamcollection.zip’ saved [203415/203415]\n",
            "\n"
          ]
        }
      ],
      "source": [
        "!wget --header=\"Host: archive.ics.uci.edu\" --header=\"User-Agent: Mozilla/5.0 (Windows NT 10.0; Win64; x64) AppleWebKit/537.36 (KHTML, like Gecko) Chrome/99.0.4844.74 Safari/537.36\" --header=\"Accept: text/html,application/xhtml+xml,application/xml;q=0.9,image/avif,image/webp,image/apng,*/*;q=0.8,application/signed-exchange;v=b3;q=0.9\" --header=\"Accept-Language: en-US,en;q=0.9,hi;q=0.8\" --header=\"Referer: https://archive.ics.uci.edu/ml/machine-learning-databases/00228/\" \"https://archive.ics.uci.edu/ml/machine-learning-databases/00228/smsspamcollection.zip\" -c -O 'smsspamcollection.zip'"
      ]
    },
    {
      "cell_type": "code",
      "execution_count": null,
      "metadata": {
        "colab": {
          "base_uri": "https://localhost:8080/"
        },
        "id": "bajYlO5x2GuV",
        "outputId": "ac16dd49-8e56-4fe6-d3ab-e76f7fe4e551"
      },
      "outputs": [
        {
          "name": "stdout",
          "output_type": "stream",
          "text": [
            "Archive:  /content/smsspamcollection.zip\n",
            "  inflating: SMSSpamCollection       \n",
            "  inflating: readme                  \n"
          ]
        }
      ],
      "source": [
        "!unzip \"/content/smsspamcollection.zip\""
      ]
    },
    {
      "cell_type": "code",
      "execution_count": null,
      "metadata": {
        "id": "cnvNAwJp2jXt"
      },
      "outputs": [],
      "source": [
        "message = pd.read_csv('/content/SMSSpamCollection', sep = '\\t', names=['label','message'])"
      ]
    },
    {
      "cell_type": "code",
      "execution_count": null,
      "metadata": {
        "colab": {
          "base_uri": "https://localhost:8080/",
          "height": 423
        },
        "id": "mJA2JQsc3H9j",
        "outputId": "95d7cc6a-21c4-46a4-e60e-0c8e2ac241f3"
      },
      "outputs": [
        {
          "data": {
            "text/html": [
              "\n",
              "  <div id=\"df-c1eebfb7-4252-4fc3-b264-7839f0d7346a\">\n",
              "    <div class=\"colab-df-container\">\n",
              "      <div>\n",
              "<style scoped>\n",
              "    .dataframe tbody tr th:only-of-type {\n",
              "        vertical-align: middle;\n",
              "    }\n",
              "\n",
              "    .dataframe tbody tr th {\n",
              "        vertical-align: top;\n",
              "    }\n",
              "\n",
              "    .dataframe thead th {\n",
              "        text-align: right;\n",
              "    }\n",
              "</style>\n",
              "<table border=\"1\" class=\"dataframe\">\n",
              "  <thead>\n",
              "    <tr style=\"text-align: right;\">\n",
              "      <th></th>\n",
              "      <th>label</th>\n",
              "      <th>message</th>\n",
              "    </tr>\n",
              "  </thead>\n",
              "  <tbody>\n",
              "    <tr>\n",
              "      <th>0</th>\n",
              "      <td>ham</td>\n",
              "      <td>Go until jurong point, crazy.. Available only ...</td>\n",
              "    </tr>\n",
              "    <tr>\n",
              "      <th>1</th>\n",
              "      <td>ham</td>\n",
              "      <td>Ok lar... Joking wif u oni...</td>\n",
              "    </tr>\n",
              "    <tr>\n",
              "      <th>2</th>\n",
              "      <td>spam</td>\n",
              "      <td>Free entry in 2 a wkly comp to win FA Cup fina...</td>\n",
              "    </tr>\n",
              "    <tr>\n",
              "      <th>3</th>\n",
              "      <td>ham</td>\n",
              "      <td>U dun say so early hor... U c already then say...</td>\n",
              "    </tr>\n",
              "    <tr>\n",
              "      <th>4</th>\n",
              "      <td>ham</td>\n",
              "      <td>Nah I don't think he goes to usf, he lives aro...</td>\n",
              "    </tr>\n",
              "    <tr>\n",
              "      <th>...</th>\n",
              "      <td>...</td>\n",
              "      <td>...</td>\n",
              "    </tr>\n",
              "    <tr>\n",
              "      <th>5567</th>\n",
              "      <td>spam</td>\n",
              "      <td>This is the 2nd time we have tried 2 contact u...</td>\n",
              "    </tr>\n",
              "    <tr>\n",
              "      <th>5568</th>\n",
              "      <td>ham</td>\n",
              "      <td>Will ü b going to esplanade fr home?</td>\n",
              "    </tr>\n",
              "    <tr>\n",
              "      <th>5569</th>\n",
              "      <td>ham</td>\n",
              "      <td>Pity, * was in mood for that. So...any other s...</td>\n",
              "    </tr>\n",
              "    <tr>\n",
              "      <th>5570</th>\n",
              "      <td>ham</td>\n",
              "      <td>The guy did some bitching but I acted like i'd...</td>\n",
              "    </tr>\n",
              "    <tr>\n",
              "      <th>5571</th>\n",
              "      <td>ham</td>\n",
              "      <td>Rofl. Its true to its name</td>\n",
              "    </tr>\n",
              "  </tbody>\n",
              "</table>\n",
              "<p>5572 rows × 2 columns</p>\n",
              "</div>\n",
              "      <button class=\"colab-df-convert\" onclick=\"convertToInteractive('df-c1eebfb7-4252-4fc3-b264-7839f0d7346a')\"\n",
              "              title=\"Convert this dataframe to an interactive table.\"\n",
              "              style=\"display:none;\">\n",
              "        \n",
              "  <svg xmlns=\"http://www.w3.org/2000/svg\" height=\"24px\"viewBox=\"0 0 24 24\"\n",
              "       width=\"24px\">\n",
              "    <path d=\"M0 0h24v24H0V0z\" fill=\"none\"/>\n",
              "    <path d=\"M18.56 5.44l.94 2.06.94-2.06 2.06-.94-2.06-.94-.94-2.06-.94 2.06-2.06.94zm-11 1L8.5 8.5l.94-2.06 2.06-.94-2.06-.94L8.5 2.5l-.94 2.06-2.06.94zm10 10l.94 2.06.94-2.06 2.06-.94-2.06-.94-.94-2.06-.94 2.06-2.06.94z\"/><path d=\"M17.41 7.96l-1.37-1.37c-.4-.4-.92-.59-1.43-.59-.52 0-1.04.2-1.43.59L10.3 9.45l-7.72 7.72c-.78.78-.78 2.05 0 2.83L4 21.41c.39.39.9.59 1.41.59.51 0 1.02-.2 1.41-.59l7.78-7.78 2.81-2.81c.8-.78.8-2.07 0-2.86zM5.41 20L4 18.59l7.72-7.72 1.47 1.35L5.41 20z\"/>\n",
              "  </svg>\n",
              "      </button>\n",
              "      \n",
              "  <style>\n",
              "    .colab-df-container {\n",
              "      display:flex;\n",
              "      flex-wrap:wrap;\n",
              "      gap: 12px;\n",
              "    }\n",
              "\n",
              "    .colab-df-convert {\n",
              "      background-color: #E8F0FE;\n",
              "      border: none;\n",
              "      border-radius: 50%;\n",
              "      cursor: pointer;\n",
              "      display: none;\n",
              "      fill: #1967D2;\n",
              "      height: 32px;\n",
              "      padding: 0 0 0 0;\n",
              "      width: 32px;\n",
              "    }\n",
              "\n",
              "    .colab-df-convert:hover {\n",
              "      background-color: #E2EBFA;\n",
              "      box-shadow: 0px 1px 2px rgba(60, 64, 67, 0.3), 0px 1px 3px 1px rgba(60, 64, 67, 0.15);\n",
              "      fill: #174EA6;\n",
              "    }\n",
              "\n",
              "    [theme=dark] .colab-df-convert {\n",
              "      background-color: #3B4455;\n",
              "      fill: #D2E3FC;\n",
              "    }\n",
              "\n",
              "    [theme=dark] .colab-df-convert:hover {\n",
              "      background-color: #434B5C;\n",
              "      box-shadow: 0px 1px 3px 1px rgba(0, 0, 0, 0.15);\n",
              "      filter: drop-shadow(0px 1px 2px rgba(0, 0, 0, 0.3));\n",
              "      fill: #FFFFFF;\n",
              "    }\n",
              "  </style>\n",
              "\n",
              "      <script>\n",
              "        const buttonEl =\n",
              "          document.querySelector('#df-c1eebfb7-4252-4fc3-b264-7839f0d7346a button.colab-df-convert');\n",
              "        buttonEl.style.display =\n",
              "          google.colab.kernel.accessAllowed ? 'block' : 'none';\n",
              "\n",
              "        async function convertToInteractive(key) {\n",
              "          const element = document.querySelector('#df-c1eebfb7-4252-4fc3-b264-7839f0d7346a');\n",
              "          const dataTable =\n",
              "            await google.colab.kernel.invokeFunction('convertToInteractive',\n",
              "                                                     [key], {});\n",
              "          if (!dataTable) return;\n",
              "\n",
              "          const docLinkHtml = 'Like what you see? Visit the ' +\n",
              "            '<a target=\"_blank\" href=https://colab.research.google.com/notebooks/data_table.ipynb>data table notebook</a>'\n",
              "            + ' to learn more about interactive tables.';\n",
              "          element.innerHTML = '';\n",
              "          dataTable['output_type'] = 'display_data';\n",
              "          await google.colab.output.renderOutput(dataTable, element);\n",
              "          const docLink = document.createElement('div');\n",
              "          docLink.innerHTML = docLinkHtml;\n",
              "          element.appendChild(docLink);\n",
              "        }\n",
              "      </script>\n",
              "    </div>\n",
              "  </div>\n",
              "  "
            ],
            "text/plain": [
              "     label                                            message\n",
              "0      ham  Go until jurong point, crazy.. Available only ...\n",
              "1      ham                      Ok lar... Joking wif u oni...\n",
              "2     spam  Free entry in 2 a wkly comp to win FA Cup fina...\n",
              "3      ham  U dun say so early hor... U c already then say...\n",
              "4      ham  Nah I don't think he goes to usf, he lives aro...\n",
              "...    ...                                                ...\n",
              "5567  spam  This is the 2nd time we have tried 2 contact u...\n",
              "5568   ham               Will ü b going to esplanade fr home?\n",
              "5569   ham  Pity, * was in mood for that. So...any other s...\n",
              "5570   ham  The guy did some bitching but I acted like i'd...\n",
              "5571   ham                         Rofl. Its true to its name\n",
              "\n",
              "[5572 rows x 2 columns]"
            ]
          },
          "execution_count": 41,
          "metadata": {},
          "output_type": "execute_result"
        }
      ],
      "source": [
        "message"
      ]
    },
    {
      "cell_type": "code",
      "execution_count": null,
      "metadata": {
        "colab": {
          "base_uri": "https://localhost:8080/"
        },
        "id": "khAdzhHy27YE",
        "outputId": "d839527b-d548-4a27-e885-8623af2906c2"
      },
      "outputs": [
        {
          "name": "stdout",
          "output_type": "stream",
          "text": [
            "[nltk_data] Downloading package stopwords to /root/nltk_data...\n",
            "[nltk_data]   Package stopwords is already up-to-date!\n"
          ]
        },
        {
          "data": {
            "text/plain": [
              "True"
            ]
          },
          "execution_count": 42,
          "metadata": {},
          "output_type": "execute_result"
        }
      ],
      "source": [
        "import re\n",
        "import nltk\n",
        "nltk.download('stopwords')"
      ]
    },
    {
      "cell_type": "code",
      "execution_count": null,
      "metadata": {
        "id": "CYuSsKjv3b8E"
      },
      "outputs": [],
      "source": [
        "from nltk.corpus import stopwords\n",
        "from nltk.stem import WordNetLemmatizer\n",
        "wn = WordNetLemmatizer()\n",
        "corpus=[]\n",
        "for i in range(0,len(message)):\n",
        "  review = re.sub('[^a-zA-Z]',' ', message['message'][i])\n",
        "  review = review.lower()\n",
        "  review = review.split()\n",
        "  review = [lemmatization.lemmatize(word)for word in review if word not in set(stopwords.words('english'))]\n",
        "  review = \" \".join(review)\n",
        "  corpus.append(review)"
      ]
    },
    {
      "cell_type": "code",
      "execution_count": null,
      "metadata": {
        "colab": {
          "base_uri": "https://localhost:8080/"
        },
        "id": "e4LWNCsT4vVh",
        "outputId": "a3af3436-9f87-4eaf-877b-5beab12cf7f9"
      },
      "outputs": [
        {
          "data": {
            "text/plain": [
              "['go jurong point crazy available bugis n great world la e buffet cine got amore wat',\n",
              " 'ok lar joking wif u oni',\n",
              " 'free entry wkly comp win fa cup final tkts st may text fa receive entry question std txt rate c apply',\n",
              " 'u dun say early hor u c already say',\n",
              " 'nah think go usf life around though',\n",
              " 'freemsg hey darling week word back like fun still tb ok xxx std chgs send rcv',\n",
              " 'even brother like speak treat like aid patent',\n",
              " 'per request melle melle oru minnaminunginte nurungu vettam set callertune caller press copy friend callertune',\n",
              " 'winner valued network customer selected receivea prize reward claim call claim code kl valid hour',\n",
              " 'mobile month u r entitled update latest colour mobile camera free call mobile update co free',\n",
              " 'gonna home soon want talk stuff anymore tonight k cried enough today',\n",
              " 'six chance win cash pound txt csh send cost p day day tsandcs apply reply hl info',\n",
              " 'urgent week free membership prize jackpot txt word claim c www dbuk net lccltd pobox ldnw rw',\n",
              " 'searching right word thank breather promise wont take help granted fulfil promise wonderful blessing time',\n",
              " 'date sunday',\n",
              " 'xxxmobilemovieclub use credit click wap link next txt message click http wap xxxmobilemovieclub com n qjkgighjjgcbl',\n",
              " 'oh k watching',\n",
              " 'eh u remember spell name yes v naughty make v wet',\n",
              " 'fine way u feel way gota b',\n",
              " 'england v macedonia dont miss goal team news txt ur national team eg england try wale scotland txt poboxox w wq',\n",
              " 'seriously spell name',\n",
              " 'going try month ha ha joking',\n",
              " 'pay first lar da stock comin',\n",
              " 'aft finish lunch go str lor ard smth lor u finish ur lunch already',\n",
              " 'ffffffffff alright way meet sooner',\n",
              " 'forced eat slice really hungry tho suck mark getting worried know sick turn pizza lol',\n",
              " 'lol always convincing',\n",
              " 'catch bus frying egg make tea eating mom left dinner feel love',\n",
              " 'back amp packing car let know room',\n",
              " 'ahhh work vaguely remember feel like lol',\n",
              " 'wait still clear sure sarcastic x want live u',\n",
              " 'yeah got v apologetic n fallen actin like spoilt child got caught till go badly cheer',\n",
              " 'k tell anything',\n",
              " 'fear fainting housework quick cuppa',\n",
              " 'thanks subscription ringtone uk mobile charged month please confirm replying yes reply charged',\n",
              " 'yup ok go home look timing msg xuhui going learn nd may lesson',\n",
              " 'oops let know roommate done',\n",
              " 'see letter b car',\n",
              " 'anything lor u decide',\n",
              " 'hello saturday go texting see decided anything tomo trying invite anything',\n",
              " 'pls go ahead watt wanted sure great weekend abiola',\n",
              " 'forget tell want need crave love sweet arabian steed mmmmmm yummy',\n",
              " 'rodger burn msg tried call reply sm free nokia mobile free camcorder please call delivery tomorrow',\n",
              " 'seeing',\n",
              " 'great hope like man well endowed lt gt inch',\n",
              " 'call message missed call',\n",
              " 'get hep b immunisation nigeria',\n",
              " 'fair enough anything going',\n",
              " 'yeah hopefully tyler could maybe ask around bit',\n",
              " 'u know stubborn even want go hospital kept telling mark weak sucker hospital weak sucker',\n",
              " 'thinked first time saw class',\n",
              " 'gram usually run like lt gt half eighth smarter though get almost whole second gram lt gt',\n",
              " 'k fyi x ride early tomorrow morning crashing place tonight',\n",
              " 'wow never realized embarassed accomodations thought liked since best could always seemed happy cave sorry give sorry offered sorry room embarassing',\n",
              " 'sm ac sptv new jersey devil detroit red wing play ice hockey correct incorrect end reply end sptv',\n",
              " 'know mallika sherawat yesterday find lt url gt',\n",
              " 'congrats year special cinema pas call c suprman v matrix starwars etc free bx ip pm dont miss',\n",
              " 'sorry call later meeting',\n",
              " 'tell reached',\n",
              " 'yes gauti sehwag odi series',\n",
              " 'gonna pick burger way home even move pain killing',\n",
              " 'ha ha ha good joke girl situation seeker',\n",
              " 'part checking iq',\n",
              " 'sorry roommate took forever ok come',\n",
              " 'ok lar double check wif da hair dresser already said wun cut v short said cut look nice',\n",
              " 'valued customer pleased advise following recent review mob awarded bonus prize call',\n",
              " 'today song dedicated day song u dedicate send ur valuable frnds first rply',\n",
              " 'urgent ur awarded complimentary trip eurodisinc trav aco entry claim txt dis morefrmmob shracomorsglsuplt l aj',\n",
              " 'hear new divorce barbie come ken stuff',\n",
              " 'plane give month end',\n",
              " 'wah lucky man save money hee',\n",
              " 'finished class',\n",
              " 'hi babe im home wanna something xx',\n",
              " 'k k performed',\n",
              " 'u call',\n",
              " 'waiting machan call free',\n",
              " 'thats cool gentleman treat dignity respect',\n",
              " 'like people much shy pa',\n",
              " 'operate lt gt',\n",
              " 'still looking job much ta earn',\n",
              " 'sorry call later',\n",
              " 'k call ah',\n",
              " 'ok way home hi hi',\n",
              " 'place man',\n",
              " 'yup next stop',\n",
              " 'call later network urgnt sm',\n",
              " 'real u getting yo need ticket one jacket done already used multis',\n",
              " 'yes started send request make pain came back back bed double coin factory gotta cash nitros',\n",
              " 'really still tonight babe',\n",
              " 'ela kano il download come wen ur free',\n",
              " 'yeah stand close tho catch something',\n",
              " 'sorry pain ok meet another night spent late afternoon casualty mean done stuff moro includes time sheet sorry',\n",
              " 'smile pleasure smile pain smile trouble pours like rain smile sum hurt u smile becoz someone still love see u smiling',\n",
              " 'please call customer service representative pm guaranteed cash prize',\n",
              " 'havent planning buy later check already lido got show e afternoon u finish work already',\n",
              " 'free ringtone waiting collected simply text password mix verify get usher britney fml po box mk h ppw',\n",
              " 'watching telugu movie wat abt u',\n",
              " 'see finish load loan pay',\n",
              " 'hi wk ok hols yes bit run forgot hairdresser appointment four need get home n shower beforehand cause prob u',\n",
              " 'see cup coffee animation',\n",
              " 'please text anymore nothing else say',\n",
              " 'okay name ur price long legal wen pick u ave x am xx',\n",
              " 'still looking car buy gone driving test yet',\n",
              " 'per request melle melle oru minnaminunginte nurungu vettam set callertune caller press copy friend callertune',\n",
              " 'wow right mean guess gave boston men changed search location nyc something changed cuz signin page still say boston',\n",
              " 'umma life vava umma love lot dear',\n",
              " 'thanks lot wish birthday thanks making birthday truly memorable',\n",
              " 'aight hit get cash',\n",
              " 'would ip address test considering computer minecraft server',\n",
              " 'know grumpy old people mom like better lying always one play joke',\n",
              " 'dont worry guess busy',\n",
              " 'plural noun research',\n",
              " 'going dinner msg',\n",
              " 'ok wif co like try new thing scared u dun like mah co u said loud',\n",
              " 'gent trying contact last weekend draw show prize guaranteed call claim code k valid hr ppm',\n",
              " 'wa ur openin sentence formal anyway fine juz tt eatin much n puttin weight haha anythin special happened',\n",
              " 'entered cabin pa said happy b day bos felt special askd lunch lunch invited apartment went',\n",
              " 'winner u specially selected receive holiday flight inc speak live operator claim p min',\n",
              " 'goodo yes must speak friday egg potato ratio tortilla needed',\n",
              " 'hmm uncle informed paying school directly pls buy food',\n",
              " 'private account statement show unredeemed bonus point claim call identifier code expires',\n",
              " 'urgent mobile awarded bonus caller prize final try contact u call landline box wr c ppm',\n",
              " 'new address apple pair malarky',\n",
              " 'today voda number ending selected receive award match please call quoting claim code standard rate app',\n",
              " 'going sao mu today done',\n",
              " 'predict wat time finish buying',\n",
              " 'good stuff',\n",
              " 'know yetunde sent money yet sent text bother sending dont involve anything imposed anything first place apologise',\n",
              " 'room',\n",
              " 'hey girl r u hope u r well del r bak long time c give call sum time lucyxx',\n",
              " 'k k much cost',\n",
              " 'home',\n",
              " 'dear call tmorrow pls accomodate',\n",
              " 'first answer question',\n",
              " 'sunshine quiz wkly q win top sony dvd player u know country algarve txt ansr sp tyrone',\n",
              " 'want get laid tonight want real dogging location sent direct ur mob join uk largest dogging network bt txting gravel nt ec p msg p',\n",
              " 'haf msn yijue hotmail com',\n",
              " 'call meet',\n",
              " 'check room befor activity',\n",
              " 'rcv msg chat svc free hardcore service text go u get nothing u must age verify yr network try',\n",
              " 'got c lazy type forgot lect saw pouch like v nice',\n",
              " 'k text way',\n",
              " 'sir waiting mail',\n",
              " 'swt thought nver get tired little thing lovable person coz somtimes little thing occupy biggest part heart gud ni',\n",
              " 'know pls open back',\n",
              " 'yes see ya dot',\n",
              " 'whats staff name taking class u',\n",
              " 'freemsg replied text randy sexy female live local luv hear u netcollex ltd p per msg reply stop end',\n",
              " 'ummma call check life begin qatar pls pray hard',\n",
              " 'k deleted contact',\n",
              " 'sindu got job birla soft',\n",
              " 'wine flowing nevering',\n",
              " 'yup thk cine better co need go plaza mah',\n",
              " 'ok ur typical reply',\n",
              " 'per request melle melle oru minnaminunginte nurungu vettam set callertune caller press copy friend callertune',\n",
              " 'everywhere dirt floor window even shirt sometimes open mouth come flowing dream world without half chore time joy lot tv show see guess like thing must exist like rain hail mist time done become one',\n",
              " 'aaooooright work',\n",
              " 'leaving house',\n",
              " 'hello love get interview today happy good boy think missing',\n",
              " 'customer service annoncement new year delivery waiting please call arrange delivery',\n",
              " 'winner u specially selected receive cash holiday flight inc speak live operator claim',\n",
              " 'keep safe need miss already envy everyone see real life',\n",
              " 'new car house parent new job hand',\n",
              " 'love excited day spend make happy',\n",
              " 'pls stop bootydelious f inviting friend reply yes see www sm ac u bootydelious stop send stop frnd',\n",
              " 'bangbabes ur order way u receive service msg download ur content u goto wap bangb tv ur mobile internet service menu',\n",
              " 'place ur point e culture module already',\n",
              " 'urgent trying contact last weekend draw show prize guaranteed call claim code valid hr',\n",
              " 'hi frnd best way avoid missunderstding wit beloved one',\n",
              " 'great escape fancy bridge need lager see tomo',\n",
              " 'yes completely form clark also utter waste',\n",
              " 'sir need axis bank account bank address',\n",
              " 'hmmm thk sure got time hop ard ya go free abt muz call u discus liao',\n",
              " 'time coming later',\n",
              " 'bloody hell cant believe forgot surname mr ill give u clue spanish begin',\n",
              " 'well gonna finish bath good fine night',\n",
              " 'let know got money carlos make call',\n",
              " 'u still going mall',\n",
              " 'turn friend staying whole show back til lt gt feel free go ahead smoke lt gt worth',\n",
              " 'text doesnt reply let know log',\n",
              " 'hi spoke maneesha v like know satisfied experience reply toll free yes',\n",
              " 'lifted hope offer money need especially end month approach hurt studying anyways gr weekend',\n",
              " 'lol u trust',\n",
              " 'ok gentleman treat dignity respect',\n",
              " 'guy close',\n",
              " 'going nothing great bye',\n",
              " 'hello handsome finding job lazy working towards getting back net mummy boytoy miss',\n",
              " 'haha awesome minute',\n",
              " 'please call customer service representative freephone pm guaranteed cash prize',\n",
              " 'got xmas radio time get',\n",
              " 'jus reached home go bathe first si using net tell u finish k',\n",
              " 'unique enough find th august www areyouunique co uk',\n",
              " 'sorry joined league people dont keep touch mean great deal friend time even great personal cost great week',\n",
              " 'hi finally completed course',\n",
              " 'stop however suggest stay someone able give or every stool',\n",
              " 'hope settled new school year wishin gr day',\n",
              " 'gud mrng dear hav nice day',\n",
              " 'u got person story',\n",
              " 'hamster dead hey tmr meet pm orchard mrt',\n",
              " 'hi kate evening hope see tomorrow bit bloody babyjontet txt back u xxx',\n",
              " 'found enc lt gt',\n",
              " 'sent lt gt buck',\n",
              " 'hello darlin ive finished college txt u finish u love kate xxx',\n",
              " 'account refilled successfully inr lt decimal gt keralacircle prepaid account balance r lt decimal gt transaction id kr lt gt',\n",
              " 'goodmorning sleeping ga',\n",
              " 'u call alter ok',\n",
              " 'say like dat dun buy ericsson oso cannot oredi lar',\n",
              " 'entered cabin pa said happy b day bos felt special askd lunch lunch invited apartment went',\n",
              " 'aight yo dat straight dogg',\n",
              " 'please give u connection today lt decimal gt refund bill',\n",
              " 'shoot big load get ready',\n",
              " 'bruv hope great break rewarding semester',\n",
              " 'home always chat',\n",
              " 'k k good study well',\n",
              " 'yup noe leh',\n",
              " 'sound great home',\n",
              " 'finally match heading towards draw prediction',\n",
              " 'tired slept well past night',\n",
              " 'easy ah sen got selected mean good',\n",
              " 'take exam march',\n",
              " 'yeah think use gt atm register sure anyway help let know sure ready',\n",
              " 'ok prob take ur time',\n",
              " 'o called ubandu run without installing hard disk use o copy important file system give repair shop',\n",
              " 'sorry call later',\n",
              " 'u say leh course nothing happen lar say v romantic jus bit lor thk e nite scenery nice leh',\n",
              " 'new mobile must go txt nokia collect today www tc biz optout gbp mtmsg',\n",
              " 'would really appreciate call need someone talk',\n",
              " 'u meet ur dream partner soon ur career flyng start find free txt horo followed ur star sign e g horo aries',\n",
              " 'hey company elama po mudyadhu',\n",
              " 'life strict teacher bcoz teacher teach lesson amp conduct exam life first conduct exam amp teach lesson happy morning',\n",
              " 'dear good morning',\n",
              " 'get gandhipuram walk cross cut road right side lt gt street road turn first right',\n",
              " 'dear going rubber place',\n",
              " 'sorry battery died yeah',\n",
              " 'yes tv always available work place',\n",
              " 'text meet someone sexy today u find date even flirt u join p reply name age eg sam msg recd thirtyeight penny',\n",
              " 'printed oh lt gt come upstairs',\n",
              " 'ill little closer like bus stop street',\n",
              " 'wil reach',\n",
              " 'new theory argument win situation loses person dont argue ur friend kick amp say always correct',\n",
              " 'u secret admirer looking make contact u find r reveal think ur special call',\n",
              " 'tomarrow final hearing laptop case cant',\n",
              " 'pleassssssseeeeee tel v avent done sportsx',\n",
              " 'okay shining meant signing sound better',\n",
              " 'although told u dat baig face watch really like e watch u gave co fr u thanx everything dat u done today touched',\n",
              " 'u remember old commercial',\n",
              " 'late said website dont slipper',\n",
              " 'asked call ok',\n",
              " 'kallis wont bat nd inning',\n",
              " 'didnt work oh ok goodnight fix ready time wake dearly missed good night sleep',\n",
              " 'congratulation ur awarded cd voucher gift guaranteed free entry wkly draw txt music tncs www ldew com win ppmx age',\n",
              " 'ranjith cal drpd deeraj deepak min hold',\n",
              " 'wen ur lovable bcums angry wid u dnt take seriously coz angry childish n true way showing deep affection care n luv kettoda manda nice day da',\n",
              " '',\n",
              " 'ups day also shipping company take wks way usps take week get lag may bribe nipost get stuff',\n",
              " 'back lemme know ready',\n",
              " 'necessarily expect done get back though headin',\n",
              " 'mmm yummy babe nice jolt suzy',\n",
              " 'lover need',\n",
              " 'tried contact reply offer video handset anytime network min unlimited text camcorder reply call',\n",
              " 'parked next mini coming today think',\n",
              " 'yup',\n",
              " 'anyway going shopping co si done yet dun disturb u liao',\n",
              " 'luton ring ur around h',\n",
              " 'hey really horny want chat see naked text hot text charged pm unsubscribe text stop',\n",
              " 'dint come u',\n",
              " 'wana plan trip sometme',\n",
              " 'sure yet still trying get hold',\n",
              " 'ur ringtone service changed free credit go club mobile com choose content stop txt club stop p wk club po box mk wt',\n",
              " 'evo download flash jealous',\n",
              " 'ringtone club get uk single chart mobile week choose top quality ringtone message free charge',\n",
              " 'come mu sorting narcotic situation',\n",
              " 'night ended another day morning come special way may smile like sunny ray leaf worry blue blue bay',\n",
              " 'hmv bonus special pound genuine hmv voucher answer easy question play send hmv info www percent real com',\n",
              " 'usf guess might well take car',\n",
              " 'objection bf coming',\n",
              " 'thanx',\n",
              " 'tell rob mack gf theater',\n",
              " 'awesome see bit',\n",
              " 'sent type food like',\n",
              " 'done handed celebration full swing yet',\n",
              " 'got called tool',\n",
              " 'wen u miss someone person definitely special u person special miss keep touch gdeve',\n",
              " 'ok asked money far',\n",
              " 'okie',\n",
              " 'yeah think usual guy still passed last night get ahold anybody let know throw',\n",
              " 'k might come tonight class let early',\n",
              " 'ok',\n",
              " 'hi baby im cruisin girl friend r u give call hour home thats alright fone fone love jenny xxx',\n",
              " 'life mean lot love life love people life world call friend call world ge',\n",
              " 'dear shall mail tonite busy street shall update tonite thing looking ok varunnathu edukkukayee raksha ollu good one real sense',\n",
              " 'hey told name gautham ah',\n",
              " 'haf u found feel stupid da v cam working',\n",
              " 'oops got bit',\n",
              " 'much buzy',\n",
              " 'accidentally deleted message resend please',\n",
              " 'mobile customer may claim free camera phone upgrade pay go sim card loyalty call offer end thfeb c apply',\n",
              " 'unless situation go gurl would appropriate',\n",
              " 'hurt tease make cry end life die plz keep one rose grave say stupid miss u nice day bslvyl',\n",
              " 'cant pick phone right pls send message',\n",
              " 'need coffee run tomo believe time week already',\n",
              " 'awesome remember last time got somebody high first time diesel v',\n",
              " 'shit really shocking scary cant imagine second def night u think somewhere could crash night save taxi',\n",
              " 'oh way food fridge want go meal tonight',\n",
              " 'womdarfull actor',\n",
              " 'sm ac blind date u rodds aberdeen united kingdom check http img sm ac w icmb cktz r blind date send hide',\n",
              " 'yup remb think book',\n",
              " 'jos ask u wana meet',\n",
              " 'lol yes friendship hanging thread cause u buy stuff',\n",
              " 'themob check newest selection content game tone gossip babe sport keep mobile fit funky text wap',\n",
              " 'garage key bookshelf',\n",
              " 'today accept day u accept brother sister lover dear best clos lvblefrnd jstfrnd cutefrnd lifpartnr belovd swtheart bstfrnd rply mean enemy',\n",
              " 'think ur smart win week weekly quiz text play c winnersclub po box uz gbp week',\n",
              " 'say give call friend got money definitely buying end week',\n",
              " 'hi way u day normal way real ur unique hope know u rest mylife hope u find wot lost',\n",
              " 'made day great day',\n",
              " 'k k advance happy pongal',\n",
              " 'hmmm guess go kb n power yoga haha dunno tahan power yoga anot thk got lo oso forgot liao',\n",
              " 'really dude friend afraid',\n",
              " 'december mobile mths entitled update latest colour camera mobile free call mobile update co free',\n",
              " 'coffee cake guess',\n",
              " 'merry christmas babe love ya kiss',\n",
              " 'hey dont go watch x men lunch haha',\n",
              " 'cud u tell ppl im gona b bit l co bus hav gon past co full im still waitin pete x',\n",
              " 'would great guild could meet bristol road somewhere get touch weekend plan take flight good week',\n",
              " 'problem',\n",
              " 'call message missed call',\n",
              " 'hi da today class',\n",
              " 'say good sign well know track record reading woman',\n",
              " 'cool text parked',\n",
              " 'reading text sent meant joke read light',\n",
              " 'k k apo k good movie',\n",
              " 'maybe could get book tomo return immediately something',\n",
              " 'call germany penny per minute call fixed line via access number prepayment direct access',\n",
              " 'chance might evaporated soon violated privacy stealing phone number employer paperwork cool please contact report supervisor',\n",
              " 'valentine day special win quiz take partner trip lifetime send go p msg rcvd custcare',\n",
              " 'ta daaaaa home babe still',\n",
              " 'cool come havent wined dined',\n",
              " 'sleeping surfing',\n",
              " 'sorry call later',\n",
              " 'u calling right call hand phone',\n",
              " 'ok great thanx lot',\n",
              " 'take post come must text happy reading one wiv hello caroline end favourite bless',\n",
              " 'u hiding stranger',\n",
              " 'interested like',\n",
              " 'sister cleared two round birla soft yesterday',\n",
              " 'gudnite tc practice going',\n",
              " 'dis yijue jus saw ur mail case huiming havent sent u num dis num',\n",
              " 'one small prestige problem',\n",
              " 'fancy shag interested sextextuk com txt xxuk suzy txts cost per msg tncs website x',\n",
              " 'checking really miss seeing jeremiah great month',\n",
              " 'nah help never iphone',\n",
              " 'car hour half going apeshit',\n",
              " 'today sorry day ever angry ever misbehaved hurt plz plz slap urself bcoz ur fault basically good',\n",
              " 'yo guy ever figure much need alcohol jay trying figure much safely spend weed',\n",
              " 'lt gt ish minute minute ago wtf',\n",
              " 'thank calling forgot say happy onam sirji fine remembered met insurance person meet qatar insha allah rakhesh ex tata aig joined tissco tayseer',\n",
              " 'congratulation ur awarded cd voucher gift guaranteed free entry wkly draw txt music tncs www ldew com win ppmx age',\n",
              " 'ur cash balance currently pound maximize ur cash send cash p msg cc hg suite land row w j hl',\n",
              " 'actor work work evening sleep late since unemployed moment always sleep late unemployed every day saturday',\n",
              " 'hello got st andrew boy long way cold keep posted',\n",
              " 'ha ha cool cool chikku chikku db',\n",
              " 'oh ok prob',\n",
              " 'check audrey status right',\n",
              " 'busy trying finish new year looking forward finally meeting',\n",
              " 'good afternoon sunshine dawn day refreshed happy alive breathe air smile think love always',\n",
              " 'well know z take care worry',\n",
              " 'update xmas offer latest motorola sonyericsson nokia free bluetooth double min txt orange call mobileupd call optout f q',\n",
              " 'discount code rp stop message reply stop www regalportfolio co uk customer service',\n",
              " 'wat uniform get',\n",
              " 'cool text ready',\n",
              " 'hello boytoy geeee miss already woke wish bed cuddling love',\n",
              " 'spoil bed well',\n",
              " 'going bath msg next lt gt min',\n",
              " 'cant keep talking people sure pay agree price pls tell want really buy much willing pay',\n",
              " 'thanks ringtone order reference charged gbp per week unsubscribe anytime calling customer service',\n",
              " 'say happen',\n",
              " 'could seen recognise face',\n",
              " 'well lot thing happening lindsay new year sigh bar ptbo blue heron something going',\n",
              " 'keep payasam rinu brings',\n",
              " 'taught ranjith sir called sm like becaus he verifying project prabu told today pa dont mistake',\n",
              " 'guess worried must know way body repair quite sure worry take slow first test guide ovulation relax nothing said reason worry keep followin',\n",
              " 'yeah sure give couple minute track wallet',\n",
              " 'hey leave big deal take care',\n",
              " 'hey late ah meet',\n",
              " 'double min txts month free bluetooth orange available sony nokia motorola phone call mobileupd call optout n dx',\n",
              " 'took mr owl lick',\n",
              " 'customer place call',\n",
              " 'mm time dont like fun',\n",
              " 'mths half price orange line rental latest camera phone free phone mths call mobilesdirect free update stoptxt',\n",
              " 'yup lunch buffet u eat already',\n",
              " 'huh late fr dinner',\n",
              " 'hey sat going intro pilate kickboxing',\n",
              " 'morning ok',\n",
              " 'yes think office lap room think thats last day didnt shut',\n",
              " 'pick bout ish time going',\n",
              " 'performance award calculated every two month current one month period',\n",
              " 'actually sleeping still might u call back text gr rock si send u text wen wake',\n",
              " 'always putting business put picture as facebook one open people ever met would think picture room would hurt make feel violated',\n",
              " 'good evening sir al salam wahleykkum sharing happy news grace god got offer tayseer tissco joined hope fine inshah allah meet sometime rakhesh visitor india',\n",
              " 'hmmm k want change field quickly da wanna get system administrator network administrator',\n",
              " 'free ringtone text first poly text get true tone help st free tone x pw e nd txt stop',\n",
              " 'dear chechi talk',\n",
              " 'hair cream shipped',\n",
              " 'none happening til get though',\n",
              " 'yep great loxahatchee xmas tree burning lt gt start hour',\n",
              " 'haha get used driving usf man know lot stoner',\n",
              " 'well slightly disastrous class pm fav darling hope day ok coffee wld good stay late tomorrow time place always',\n",
              " 'hello good week fancy drink something later',\n",
              " 'headin towards busetop',\n",
              " 'message text missing sender name missing number missing sent date missing missing u lot thats everything missing sent via fullonsms com',\n",
              " 'come room point iron plan weekend',\n",
              " 'co want thing',\n",
              " 'okies go yan jiu skip ard oso go cine den go mrt one blah blah blah',\n",
              " 'bring home wendy',\n",
              " 'dating service cal l box sk ch',\n",
              " 'whatsup dont u want sleep',\n",
              " 'alright new goal',\n",
              " 'free entry weekly competition text word win c www txttowin co uk',\n",
              " 'alright head minute text meet',\n",
              " 'send logo ur lover name joined heart txt love name name mobno eg love adam eve yahoo pobox w wq txtno ad p',\n",
              " 'yes last week taking live call',\n",
              " 'someone contacted dating service entered phone fancy find call landline pobox n tf p',\n",
              " 'siva hostel aha',\n",
              " 'urgent mobile number awarded prize guaranteed call land line claim valid hr',\n",
              " 'send ur friend receive something ur voice speaking expression childish naughty sentiment rowdy ful attitude romantic shy attractive funny lt gt irritating lt gt lovable reply',\n",
              " 'ok ok guess',\n",
              " 'aathi dear',\n",
              " 'pain urination thing else',\n",
              " 'esplanade mind giving lift co got car today',\n",
              " 'wnt buy bmw car urgently vry urgent hv shortage lt gt lac source arng dis amt lt gt lac thats prob',\n",
              " 'home watching tv lor',\n",
              " 'usually take fifteen fucking minute respond yes question',\n",
              " 'congrats nokia video camera phone call call cost ppm ave call min vary mobile close post bcm ldn wc n xx',\n",
              " 'booked ticket pongal',\n",
              " 'available like right around hillsborough amp lt gt th',\n",
              " 'message sent askin lt gt dollar shoul pay lt gt lt gt',\n",
              " 'ask g iouri told story like ten time already',\n",
              " 'long applebees fucking take',\n",
              " 'hi hope u get txt journey hasnt gd min late think',\n",
              " 'like love arrange',\n",
              " 'yes really great bhaji told kallis best cricketer sachin world tough get',\n",
              " 'supposed wake gt',\n",
              " 'oic saw tot din c found group liao',\n",
              " 'sorry call later',\n",
              " 'hey hey werethe monkeespeople say monkeyaround howdy gorgeous howu doin foundurself jobyet sausage love jen xxx',\n",
              " 'sorry battery died come getting gram place',\n",
              " 'well done blimey exercise yeah kinda remember wot hmm',\n",
              " 'wont get concentration dear know mind everything',\n",
              " 'lol made plan new year',\n",
              " 'min later k',\n",
              " 'hank lotsly',\n",
              " 'thanks hope good day today',\n",
              " 'k k detail want transfer acc enough',\n",
              " 'ok tell stay yeah tough optimistic thing improve month',\n",
              " 'loan purpose homeowner tenant welcome previously refused still help call free text back help',\n",
              " 'si si think ill go make oreo truffle',\n",
              " 'look amy ure beautiful intelligent woman like u lot know u like like worry',\n",
              " 'hope result consistently intelligent kind start asking practicum link keep ear open best ttyl',\n",
              " 'call cost guess isnt bad miss ya need ya want ya love ya',\n",
              " 'going thru different feeling wavering decision coping individual time heal everything believe',\n",
              " 'u go phone gonna die stay',\n",
              " 'great never better day give even reason thank god',\n",
              " 'upgrdcentre orange customer may claim free camera phone upgrade loyalty call offer end th july c apply opt available',\n",
              " 'sorry call later ok bye',\n",
              " 'ok way railway',\n",
              " 'great princess love giving receiving oral doggy style fave position enjoy making love lt gt time per night',\n",
              " 'put stuff road keep getting slippery',\n",
              " 'going ride bike',\n",
              " 'yup need jus wait e rain stop',\n",
              " 'many company tell language',\n",
              " 'okmail dear dave final notice collect tenerife holiday cash award call landline tc sae box cw wx ppm',\n",
              " 'long since screamed princess',\n",
              " 'nothing meant money enters account bank remove flat rate someone transfered lt gt account lt gt dollar got removed bank differ charge also differ sure trust ja person sending account detail co',\n",
              " 'want get laid tonight want real dogging location sent direct ur mob join uk largest dogging network txting moan nyt ec p msg p',\n",
              " 'nice line said broken heart plz cum time infront wise trust u good',\n",
              " 'ok gonna head usf like fifteen minute',\n",
              " 'love aathi love u lot',\n",
              " 'tension ah machi problem',\n",
              " 'k pick another th done',\n",
              " 'guy getting back g said thinking staying mcr',\n",
              " 'almost see u sec',\n",
              " 'yo carlos friend already asking working weekend',\n",
              " 'watching tv lor',\n",
              " 'thank baby cant wait taste real thing',\n",
              " 'change fb jaykwon thuglyfe falconerf',\n",
              " 'win really side long time',\n",
              " 'free message activate free text message replying message word free term condition visit www com',\n",
              " 'dear reached railway happen',\n",
              " 'depends quality want type sent boye faded glory want ralphs maybe',\n",
              " 'think fixed send test message',\n",
              " 'sorry man account dry would want could trade back half could buy shit credit card',\n",
              " 'congrats year special cinema pas call c suprman v matrix starwars etc free bx ip pm dont miss',\n",
              " 'sorry meeting call later',\n",
              " 'class lt gt reunion',\n",
              " 'free call',\n",
              " 'got meh',\n",
              " 'nope think go monday sorry replied late',\n",
              " 'told accenture confirm true',\n",
              " 'kate jackson rec center ish right',\n",
              " 'dear reache room',\n",
              " 'fighting world easy u either win lose bt fightng close u dificult u lose u lose u win u still lose',\n",
              " 'come',\n",
              " 'check nuerologist',\n",
              " 'lolnice went fish water',\n",
              " 'congratulation week competition draw u prize claim call b c stop sm ppm',\n",
              " 'waiting e car dat bored wat co wait outside got nothing home stuff watch tv wat',\n",
              " 'maybe westshore hyde park village place near house',\n",
              " 'know anthony bringing money school fee pay rent stuff like thats need help friend need',\n",
              " 'significance',\n",
              " 'opinion jada kusruthi lovable silent spl character matured stylish simple pls reply',\n",
              " 'latest g still scrounge ammo want give new ak try',\n",
              " 'prabha soryda realy frm heart sory',\n",
              " 'lol ok forgiven',\n",
              " 'jst change tat',\n",
              " 'guaranteed latest nokia phone gb ipod mp player prize txt word collect ibhltd ldnw h p mtmsgrcvd',\n",
              " 'competition',\n",
              " 'boltblue tone p reply poly mono eg poly cha cha slide yeah slow jamz toxic come stop tone txt',\n",
              " 'credit topped http www bubbletext com renewal pin tgxxrz',\n",
              " 'way transport le problematic sat night way u want ask n join bday feel free need know definite no booking fri',\n",
              " 'usually person unconscious child adult may behave abnormally call',\n",
              " 'ebay might le elsewhere',\n",
              " 'shall come get pickle',\n",
              " 'gonna go get taco',\n",
              " 'rude campus',\n",
              " 'urgent mobile awarded bonus caller prize nd attempt contact call box qu',\n",
              " 'hi b ard christmas enjoy n merry x ma',\n",
              " 'today offer claim ur worth discount voucher text yes savamob member offer mobile c sub unsub reply x',\n",
              " 'yes pretty lady like single',\n",
              " 'recieve tone within next hr term condition please see channel u teletext pg',\n",
              " 'jay say double faggot',\n",
              " 'private account statement show un redeemed point call identifier code expires',\n",
              " 'today sunday sunday holiday work',\n",
              " 'gudnite tc practice going',\n",
              " 'late',\n",
              " 'called hoping l r malaria know miss guy miss ban big pls give love especially great day',\n",
              " 'good afternoon love go day hope maybe got lead job think boytoy send passionate kiss across sea',\n",
              " 'probably gonna see later tonight lt',\n",
              " 'maybe fat finger press button know',\n",
              " 'ummmmmaah many many happy return day dear sweet heart happy birthday dear',\n",
              " 'tirupur da started office call',\n",
              " 'www applausestore com monthlysubscription p msg max month csc web age stop txt stop',\n",
              " 'famous quote develop ability listen anything unconditionally without losing temper self confidence mean married',\n",
              " 'going college pa else ill come self pa',\n",
              " 'oclock mine bash flat plan',\n",
              " 'girl stay bed girl need recovery time id rather pas fun cooped bed',\n",
              " 'special',\n",
              " 'know need get hotel got invitation apologise cali sweet come english bloke weddin',\n",
              " 'sorry took long omw',\n",
              " 'wait lt gt min',\n",
              " 'ok give minute think see btw alibi cutting hair whole time',\n",
              " 'imagine finally get sink bath put pace maybe even eat left also imagine feel cage cock surrounded bath water reminding always owns enjoy cuck',\n",
              " 'hurry weed deficient like three day',\n",
              " 'sure get acknowledgement astoundingly tactless generally faggy demand blood oath fo',\n",
              " 'ok every night take warm bath drink cup milk see work magic still need loose weight know',\n",
              " 'look frying pan case cheap book perhaps silly frying pan likely book',\n",
              " 'well uv cause mutation sunscreen like essential thesedays',\n",
              " 'lunch online',\n",
              " 'know friend already told',\n",
              " 'hi princess thank pic pretty',\n",
              " 'aiyo u always c ex one dunno abt mei reply first time u reply fast lucky workin huh got bao ur sugardad ah gee',\n",
              " 'hi msg office',\n",
              " 'thanx e brownie v nice',\n",
              " 'geeeee love much barely stand',\n",
              " 'gent trying contact last weekend draw show prize guaranteed call claim code k valid hr ppm',\n",
              " 'fuck babe miss already know let send money towards net need want crave',\n",
              " 'ill call u mrw ninish address icky american freek wont stop callin bad jen k eh',\n",
              " 'oooh bed ridden ey thinking',\n",
              " 'anyways go gym whatever love smile hope ok good day babe miss much already',\n",
              " 'love daddy make scream pleasure going slap as dick',\n",
              " 'wot u wanna missy',\n",
              " 'yar lor wait mum finish sch lunch lor whole morning stay home clean room room quite clean hee',\n",
              " 'know lab goggles went',\n",
              " 'open door',\n",
              " 'waiting call',\n",
              " 'nope waiting sch daddy',\n",
              " 'cash prize claim call',\n",
              " 'tired arguing week week want',\n",
              " 'wait sch finish ard',\n",
              " 'mobile number claim call u back ring claim hot line',\n",
              " 'arngd marriage u r walkin unfortuntly snake bite u bt love marriage dancing frnt snake amp sayin bite bite',\n",
              " 'huh early dinner outside izzit',\n",
              " 'ok anyway need change said',\n",
              " 'tried contact reply offer min textand new video phone call reply free delivery tomorrow',\n",
              " 'ex wife able kid want kid one day',\n",
              " 'scotland hope showing jjc tendency take care live dream',\n",
              " 'tell u headache want use hour sick time',\n",
              " 'dun thk quit yet hmmm go jazz yogasana oso go meet em lesson den',\n",
              " 'pete please ring meive hardly gotany credit',\n",
              " 'ya srsly better yi tho',\n",
              " 'meeting call later',\n",
              " 'ur chance win wkly shopping spree txt shop c www txt shop com custcare x p wk',\n",
              " 'specially selected receive pound award call line close cost ppm c apply ag promo',\n",
              " 'private account statement show un redeemed point call identifier code expires',\n",
              " 'still grand prix',\n",
              " 'met stranger choose friend long world stand friendship never end let friend forever gud nitz',\n",
              " 'great',\n",
              " 'gud mrng dear nice day',\n",
              " 'important customer service announcement call freephone',\n",
              " 'exhausted train morning much wine pie sleep well',\n",
              " 'going buy mum present ar',\n",
              " 'mind blastin tsunami occur rajnikant stopped swimming indian ocean',\n",
              " 'u sending home first ok lor ready yet',\n",
              " 'speaking cash yet',\n",
              " 'happy come noon',\n",
              " 'meet lunch la',\n",
              " 'take care n get well soon',\n",
              " 'xclusive clubsaisai morow soiree speciale zouk nichols paris free rose lady info',\n",
              " 'meant say cant wait see u getting bored bridgwater banter',\n",
              " 'neva mind ok',\n",
              " 'fine imma get drink somethin want come find',\n",
              " 'day kick euro u kept date latest news result daily removed send get txt stop',\n",
              " 'valentine game send dis msg ur friend answer r someone really love u ques colour suit best rply',\n",
              " 'many dependent',\n",
              " 'thanx today cer nice catch ave find time often oh well take care c u soon c',\n",
              " 'called said choose future',\n",
              " 'happy valentine day know early hundred handsomes beauty wish thought finish aunty uncle st',\n",
              " 'like v shock leh co telling shuhui like telling leona also like dat almost know liao got ask abt ur reaction lor',\n",
              " 'family happiness',\n",
              " 'come n pick come immediately aft ur lesson',\n",
              " 'let snow let snow kind weather brings ppl together friendship grow',\n",
              " 'dear got lt gt dollar hi hi',\n",
              " 'good word word may leave u dismay many time',\n",
              " 'make sure alex know birthday fifteen minute far concerned',\n",
              " 'sorry got thing may pub later',\n",
              " 'nah straight bring bud drink something actually little useful straight cash',\n",
              " 'haha good hear officially paid market th',\n",
              " 'many lick take get center tootsie pop',\n",
              " 'yup thk r e teacher said make face look longer darren ask cut short',\n",
              " 'new textbuddy chat horny guy ur area p free receive search postcode gaytextbuddy com txt one name',\n",
              " 'today vodafone number ending selected receive award number match call receive award',\n",
              " 'please dont say like hi hi hi',\n",
              " 'thank u',\n",
              " 'oh forwarded message thought send',\n",
              " 'got seventeen pound seven hundred ml hope ok',\n",
              " 'dear voucher holder claim week offer pc go http www e tlp co uk expressoffer t c apply stop text txt stop',\n",
              " 'n funny',\n",
              " 'sweetheart hope kind day one load reason smile biola',\n",
              " 'login dat time dad fetching home',\n",
              " 'shower baby',\n",
              " 'askd u question hour answer',\n",
              " 'well imma definitely need restock thanksgiving let know',\n",
              " 'said kiss kiss sound effect gorgeous man kind person need smile brighten day',\n",
              " 'probably gonna swing wee bit',\n",
              " 'ya nice ready thursday',\n",
              " 'allo braved bus taken train triumphed mean b ham jolly good rest week',\n",
              " 'watching cartoon listening music amp eve go temple amp church u',\n",
              " 'mind ask happened dont say uncomfortable',\n",
              " 'private account statement show un redeemed point call identifier code expires',\n",
              " 'prob send email',\n",
              " 'cash prize claim call c rstm sw s ppm',\n",
              " 'thats cool sometimes slow gentle sonetimes rough hard',\n",
              " 'gonna say sorry would normal starting panic time sorry seeing tuesday',\n",
              " 'wait know wesley town bet hella drug',\n",
              " 'fine miss much',\n",
              " 'u got person story',\n",
              " 'tell drug dealer getting impatient',\n",
              " 'sun cant come earth send luv ray cloud cant come river send luv rain cant come meet u send care msg u gud evng',\n",
              " 'place man',\n",
              " 'doesnt make sense take unless free need know wikipedia com',\n",
              " 'premium phone service call',\n",
              " 'sea lay rock rock envelope envelope paper paper word',\n",
              " 'mum repent',\n",
              " 'sorry going home first daddy come fetch later',\n",
              " 'leave de start prepare next',\n",
              " 'yes baby study position kama sutra',\n",
              " 'en chikku nange bakra msg kalstiya tea coffee',\n",
              " 'carlos minute still need buy',\n",
              " 'pay lt decimal gt lakh',\n",
              " 'good evening ttyl',\n",
              " 'u receive msg',\n",
              " 'ho ho big belly laugh see ya tomo',\n",
              " 'sm ac sun post hello seem cool wanted say hi hi stop send stop',\n",
              " 'get ur st ringtone free reply msg tone gr top tone phone every week per wk opt send stop',\n",
              " 'ditto worry saying anything anymore like said last night whatever want peace',\n",
              " 'got lt gt way could pick',\n",
              " 'dont knw pa drink milk',\n",
              " 'maybe say hi find got card great escape wetherspoons',\n",
              " 'piggy r u awake bet u still sleeping going lunch',\n",
              " 'cause freaky lol',\n",
              " 'missed call cause yelling scrappy miss u wait u come home lonely today',\n",
              " 'hex place talk explain',\n",
              " 'log wat sdryb',\n",
              " 'xy going e lunch',\n",
              " 'hi sue year old work lapdancer love sex text live bedroom text sue textoperator g da ppmsg',\n",
              " 'wanted ask wait finish lect co lect finish hour anyway',\n",
              " 'finished work yet',\n",
              " 'every king cry baby every great building map imprtant u r today u wil reach tomorw gud ni',\n",
              " 'dear cherthala case u r coming cochin pls call bfore u start shall also reach accordingly tell day u r coming tmorow engaged an holiday',\n",
              " 'thanks love torch bold',\n",
              " 'forwarded please call immediately urgent message waiting',\n",
              " 'farm open',\n",
              " 'sorry trouble u buy dad big small sat n sun thanx',\n",
              " 'sister law hope great month saying hey abiola',\n",
              " 'purchase stuff today mail po box number',\n",
              " 'ah poop look like ill prob send laptop get fixed cuz gpu problem',\n",
              " 'good good job like entrepreneur',\n",
              " 'aight close still around alex place',\n",
              " 'meet corporation st outside gap see mind working',\n",
              " 'mum ask buy food home',\n",
              " 'k u also dont msg reply msg',\n",
              " 'much r willing pay',\n",
              " 'sorry call later',\n",
              " 'important prevent dehydration giving enough fluid',\n",
              " 'thats bit weird even supposed happening good idea sure pub',\n",
              " 'true dear sat pray evening felt sm time',\n",
              " 'think get away trek long family town sorry',\n",
              " 'wanna gym harri',\n",
              " 'quite late lar ard anyway wun b drivin',\n",
              " 'review keep fantastic nokia n gage game deck club nokia go www cnupdates com newsletter unsubscribe alert reply word',\n",
              " 'mths half price orange line rental latest camera phone free phone mths call mobilesdirect free update stoptxt c',\n",
              " 'height confidence aeronautics professor wer calld amp wer askd sit aeroplane aftr sat wer told dat plane w made student dey hurried plane bt didnt move said made student wont even start datz confidence',\n",
              " 'seems like weird timing night g want come smoke day shitstorm attributed always coming making everyone smoke',\n",
              " 'pm cost p',\n",
              " 'save stress person dorm account send account detail money sent',\n",
              " 'also know lunch menu da know',\n",
              " 'stuff sell tell',\n",
              " 'urgent nd attempt contact u u call b csbcm wc n xx callcost ppm mobilesvary max',\n",
              " 'book lesson msg call work sth going get spec membership px',\n",
              " 'guaranteed cash prize claim yr prize call customer service representative pm',\n",
              " 'macha dont feel upset assume mindset believe one evening wonderful plan u let life begin call anytime',\n",
              " 'oh send address',\n",
              " 'fine anytime best',\n",
              " 'wondar full flim',\n",
              " 'ya even cooky jelly',\n",
              " 'world running still maybe feeling admit mad correction let call life keep running world may u r also running let run',\n",
              " 'got look scrumptious daddy want eat night long',\n",
              " 'co lar ba dao ok pm lor u never ask go ah said u would ask fri said u ask today',\n",
              " 'alright omw gotta change order half th',\n",
              " 'exactly anyways far jide study visiting',\n",
              " 'dunno u ask',\n",
              " 'email alertfrom jeri stewartsize kbsubject low cost prescripiton drvgsto listen email call',\n",
              " 'spring coming early yay',\n",
              " 'lol feel bad use money take steak dinner',\n",
              " 'even u dont get trouble convincing tel twice tel neglect msg dont c read dont reply',\n",
              " 'leaving qatar tonite search opportunity went fast pls add ur prayer dear rakhesh',\n",
              " 'one talking',\n",
              " 'thanks looking really appreciate',\n",
              " 'hi customer loyalty offer new nokia mobile txtauction txt word start get ctxt tc p mtmsg',\n",
              " 'wish',\n",
              " 'haha mayb u rite u know well da feeling liked someone gd lor u faster go find one gal group attached liao',\n",
              " 'yes glad made',\n",
              " 'well little time thing good time ahead',\n",
              " 'got room soon put clock back til shouted everyone get realised wahay another hour bed',\n",
              " 'ok may free gym',\n",
              " 'men like shorter lady gaze eye',\n",
              " 'dunno jus say go lido time',\n",
              " 'promise take good care princess run please send pic get chance ttyl',\n",
              " 'u subscribed best mobile content service uk per day send stop helpline',\n",
              " 'reason spoken year anyways great week best exam',\n",
              " 'monday next week give full gist',\n",
              " 'realize year thousand old lady running around tattoo',\n",
              " 'important customer service announcement premier',\n",
              " 'dont gimme lip caveboy',\n",
              " 'get library',\n",
              " 'realy sorry recognise number confused r u please',\n",
              " 'didnt holla',\n",
              " 'cant think anyone spare room top head',\n",
              " 'faith make thing possible hope make thing work love make thing beautiful may three christmas merry christmas',\n",
              " 'u made appointment',\n",
              " 'call carlos phone vibrate acting might hear text',\n",
              " 'romantic paris night flight book next year call t c apply',\n",
              " 'grandma oh dear u still ill felt shit morning think hungover another night leave sat',\n",
              " 'urgent ur guaranteed award still unclaimed call closingdate claimcode pmmorefrommobile bremoved mobypobox l yf',\n",
              " 'nothing jus tot u would ask co u ba gua went mt faber yest yest jus went already mah today going jus call lor',\n",
              " 'wishing family merry x ma happy new year advance',\n",
              " 'ur awarded city break could win summer shopping spree every wk txt store skilgme tscs winawk age perwksub',\n",
              " 'nt goin got somethin unless meetin dinner lor haha wonder go ti time',\n",
              " 'sorry call later',\n",
              " 'cant pick phone right pls send message',\n",
              " 'lol know dramatic school already closed tomorrow apparently drive inch snow supposed get',\n",
              " 'getting anywhere damn job hunting',\n",
              " 'lol u drunkard hair moment yeah still tonight wats plan',\n",
              " 'idc get weaseling way shit twice row',\n",
              " 'wil lt gt minute got space',\n",
              " 'sleeping surfing',\n",
              " 'thanks picking trash',\n",
              " 'go tell friend sure want live smoke much spend hour begging come smoke',\n",
              " 'hi kate lovely see tonight ill phone tomorrow got sing guy gave card xxx',\n",
              " 'happy new year dear brother really miss got number decided send text wishing happiness abiola',\n",
              " 'mean get door',\n",
              " 'opinion jada kusruthi lovable silent spl character matured stylish simple pls reply',\n",
              " 'hmmm thought said hour slave late punish',\n",
              " 'beerage',\n",
              " 'important customer service announcement premier call freephone',\n",
              " 'dont think turn like randomlly within min opening',\n",
              " 'supposed make still town though',\n",
              " 'time fix spelling sometimes get completely diff word go figure',\n",
              " 'ever thought living good life perfect partner txt back name age join mobile community p sm',\n",
              " 'free top polyphonic tone call national rate get toppoly tune sent every week text subpoly per pole unsub',\n",
              " 'gud mrng dear hav nice day',\n",
              " 'hoping enjoyed game yesterday sorry touch pls know fondly bein thot great week abiola',\n",
              " 'e best ur driving tmr',\n",
              " 'u dogbreath sounding like jan c al',\n",
              " 'omg want scream weighed lost weight woohoo',\n",
              " 'generally one uncountable noun u dictionary piece research',\n",
              " 'really getting hanging around',\n",
              " 'orange customer may claim free camera phone upgrade loyalty call offer end thmarch c apply opt availa',\n",
              " 'petey boy whereare friendsare thekingshead come canlove nic',\n",
              " 'ok msg u b leave house',\n",
              " 'gimme lt gt minute ago',\n",
              " 'last chance claim ur worth discount voucher today text shop savamob offer mobile c savamob pobox uz sub',\n",
              " 'appt lt time gt fault u listen told u twice',\n",
              " 'free st week nokia tone ur mobile every week txt nokia get txting tell ur mate www getzed co uk pobox w wq norm p tone',\n",
              " 'guaranteed award even cashto claim ur award call free stop getstop php rg jx',\n",
              " 'k',\n",
              " 'dled imp',\n",
              " 'sure make sure know smokin yet',\n",
              " 'boooo always work quit',\n",
              " 'taking half day leave bec well',\n",
              " 'ugh wanna get bed warm',\n",
              " 'nervous lt gt',\n",
              " 'ring come guy costume gift future yowifes hint hint',\n",
              " 'congratulation ur awarded either cd gift voucher free entry weekly draw txt music tncs www ldew com win ppmx age',\n",
              " 'borrow ur bag ok',\n",
              " 'u outbid simonwatson shinco dvd plyr bid visit sm ac smsrewards end bid notification reply end',\n",
              " 'boytoy miss happened',\n",
              " 'lot used one babe model help youi bring match',\n",
              " 'also bringing galileo dobby',\n",
              " 'responding',\n",
              " 'boo babe u enjoyin yourjob u seemed b gettin well hunny hope ure ok take care llspeak u soonlots loveme xxxx',\n",
              " 'good afternoon starshine boytoy crave yet ache fuck sip cappuccino miss babe teasing kiss',\n",
              " 'road cant txt',\n",
              " 'smsservices yourinclusive text credit pls goto www comuk net login qxj unsubscribe stop extra charge help comuk cm ae',\n",
              " 'p alfie moon child need song ur mob tell ur txt tone charity nokias poly charity polys zed profit charity',\n",
              " 'good evening ttyl',\n",
              " 'hmm bit piece lol sigh',\n",
              " 'hahaha use brain dear',\n",
              " 'hey got mail',\n",
              " 'sorry light turned green meant another friend wanted lt gt worth may around',\n",
              " 'thanks yesterday sir wonderful hope enjoyed burial mojibiola',\n",
              " 'u secret admirer reveal think u r special call opt reply reveal stop per msg recd cust care',\n",
              " 'hi mate rv u hav nice hol message say hello coz sent u age started driving stay road rvx',\n",
              " 'dear voucher holder claim week offer pc please go http www e tlp co uk expressoffer t c apply stop text txt stop',\n",
              " 'thank much skyped wit kz sura didnt get pleasure company hope good given ultimatum oh countin aburo enjoy message sent day ago',\n",
              " 'surely result offer',\n",
              " 'good morning dear great amp successful day',\n",
              " 'want anytime network min text new video phone five pound per week call reply delivery tomorrow',\n",
              " 'sir late paying rent past month pay lt gt charge felt would inconsiderate nag something give great cost didnt speak however recession wont able pay charge month hence askin well ahead month end please help thanks',\n",
              " 'tried contact offer new video phone anytime network min half price rental camcorder call reply delivery wed',\n",
              " 'last chance claim ur worth discount voucher text yes savamob member offer mobile c sub remove txt x stop',\n",
              " 'luv u soo much u understand special u r ring u morrow luv u xxx',\n",
              " 'pls send comprehensive mail paying much',\n",
              " 'prashanthettan mother passed away last night pray family',\n",
              " 'urgent call landline complimentary ibiza holiday cash await collection sae c po box sk wp ppm',\n",
              " 'k k going',\n",
              " 'meanwhile shit suite xavier decided give u lt gt second warning samantha coming playing jay guitar impress shit also think doug realizes live anymore',\n",
              " 'stomach thru much trauma swear eat better lose weight',\n",
              " 'office whats matter msg call break',\n",
              " 'yeah barely enough room two u x many fucking shoe sorry man see later',\n",
              " 'today offer claim ur worth discount voucher text yes savamob member offer mobile c sub unsub reply x',\n",
              " 'u reach orchard already u wan go buy ticket first',\n",
              " 'real baby want bring inner tigress',\n",
              " 'da run activate full version da',\n",
              " 'ah poor baby hope urfeeling bettersn luv probthat overdose work hey go careful spk u sn lot lovejen xxx',\n",
              " 'stop story told returned saying order',\n",
              " 'talk sexy make new friend fall love world discreet text dating service text vip see could meet',\n",
              " 'going take babe',\n",
              " 'hai ana tomarrow coming morning lt decimal gt ill sathy go rto office reply came home',\n",
              " 'spoon okay',\n",
              " 'say somebody named tampa',\n",
              " 'work going min',\n",
              " 'brother genius',\n",
              " 'sorry guess whenever get hold connection maybe hour two text',\n",
              " 'u find time bus coz need sort stuff',\n",
              " 'dude ive seeing lotta corvette lately',\n",
              " 'congratulation ur awarded either yr supply cd virgin record mystery gift guaranteed call t c www smsco net pm approx min',\n",
              " 'consider wall bunker shit important never play peaceful guess place high enough matter',\n",
              " 'private account statement xxxxxx show un redeemed point call identifier code expires',\n",
              " 'hello need posh bird chap user trial prod champneys put need address dob asap ta r',\n",
              " 'u want xmas free text message new video phone half price line rental call free find',\n",
              " 'well officially philosophical hole u wanna call home ready saved',\n",
              " 'going good problem still need little experience understand american customer voice',\n",
              " 'text drop x',\n",
              " 'ugh long day exhausted want cuddle take nap',\n",
              " 'talk atleast day otherwise miss best friend world shakespeare shesil lt gt',\n",
              " 'shop till u drop either k k cash travel voucher call ntt po box cr bt fixedline cost ppm mobile vary',\n",
              " 'castor need see something',\n",
              " 'sunshine quiz wkly q win top sony dvd player u know country liverpool played mid week txt ansr sp tyrone',\n",
              " 'u secret admirer looking make contact u find r reveal think ur special call',\n",
              " 'u secret admirer looking make contact u find r reveal think ur special call stopsms',\n",
              " 'reminder downloaded content already paid goto http doit mymoby tv collect content',\n",
              " 'see knew giving break time woul lead always wanting miss curfew gonna gibe til one midnight movie gonna get til need come home need getsleep anything need b studdying ear training',\n",
              " 'love give massage use lot baby oil fave position',\n",
              " 'dude go sup',\n",
              " 'yoyyooo u know change permission drive mac usb flash drive',\n",
              " 'gibbs unsold mike hussey',\n",
              " 'like talk pa able dont know',\n",
              " 'dun cut short leh u dun like ah failed quite sad',\n",
              " 'unbelievable faglord',\n",
              " 'wife knew time murder exactly',\n",
              " 'ask princess',\n",
              " 'great princess thinking',\n",
              " 'nutter cutter ctter cttergg cttargg ctargg ctagg ie',\n",
              " 'ok noe u busy really bored msg u oso dunno wat colour choose one',\n",
              " 'g class early tomorrow thus trying smoke lt gt',\n",
              " 'superb thought grateful u dont everything u want mean u still opportunity happier tomorrow u today',\n",
              " 'hope good week checking',\n",
              " 'used hope agent drop since booked thing year whole boston nyc experiment',\n",
              " 'thursday night yeah sure thing work',\n",
              " 'free ringtone waiting collected simply text password mix verify get usher britney fml po box mk h ppw',\n",
              " 'probably money worry thing coming due several outstanding invoice work two three month ago',\n",
              " 'possible teach',\n",
              " 'wonder phone battery went dead tell love babe',\n",
              " 'lovely smell bus tobacco',\n",
              " 'getting worried derek taylor already assumed worst',\n",
              " 'hey charles sorry late reply',\n",
              " 'lastest stereophonics marley dizzee racal libertine stroke win nookii game flirt click themob wap bookmark text wap',\n",
              " 'give plus said grinule greet whenever speak',\n",
              " 'white fudge oreo store',\n",
              " 'january male sale hot gay chat cheaper call national rate p min cheap p min peak stop text call p min',\n",
              " 'love come took long leave zaher got word ym happy see sad left miss',\n",
              " 'sorry hurt',\n",
              " 'feel nauseous pissed eat sweet week cause today planning pig dieting week hungry',\n",
              " 'ok lor early still project meeting',\n",
              " 'call da waiting call',\n",
              " 'could ask carlos could get anybody else chip',\n",
              " 'actually send reminder today wonderful weekend',\n",
              " 'people see msg think iam addicted msging wrong bcoz know iam addicted sweet friend bslvyl',\n",
              " 'hey gave photo registered driving ah tmr wanna meet yck',\n",
              " 'dont talk ever ok word',\n",
              " 'u wana see',\n",
              " 'way school pls send ashley number',\n",
              " 'shall fine avalarr hollalater',\n",
              " 'went attend another two round today still reach home',\n",
              " 'actually deleted old website blogging magicalsongs blogspot com',\n",
              " 'k wait chikku il send aftr lt gt min',\n",
              " 'diet ate many slice pizza yesterday ugh always diet',\n",
              " 'k give kvb acc detail',\n",
              " 'oh come ah',\n",
              " 'money r lucky winner claim prize text money million give away ppt x normal text rate box w jy',\n",
              " 'really sorry b able friday hope u find alternative hope yr term going ok',\n",
              " 'congratulation ore mo owo wa enjoy wish many happy moment fro wherever go',\n",
              " 'samus shoulder yet',\n",
              " 'time think need know near campus',\n",
              " 'dear matthew please call landline complimentary lux tenerife holiday cash await collection ppm sae c box sk xh',\n",
              " 'dun wear jean lor',\n",
              " 'since side fever vomitin',\n",
              " 'k k college',\n",
              " 'urgent call landline complimentary tenerife holiday cash await collection sae c box hp yf ppm',\n",
              " 'better made friday stuffed like pig yesterday feel bleh least writhing pain kind bleh',\n",
              " 'sell ton coin sell coin someone thru paypal voila money back life pocket',\n",
              " 'theyre lot place hospital medical place safe',\n",
              " 'getting touch folk waiting company txt back name age opt enjoy community p sm',\n",
              " 'also sorta blown couple time recently id rather text blue looking weed',\n",
              " 'sent score sophas secondary application school think thinking applying research cost also contact joke ogunrinde school one le expensive one',\n",
              " 'cant wait see photo useful',\n",
              " 'ur cash balance currently pound maximize ur cash send go p msg cc po box tcr w',\n",
              " 'hey booked kb sat already lesson going ah keep sat night free need meet confirm lodging',\n",
              " 'chk ur belovd m dict',\n",
              " 'time want come',\n",
              " 'awesome lemme know whenever around',\n",
              " 'shb b ok lor thanx',\n",
              " 'beautiful truth gravity read carefully heart feel light someone feel heavy someone leaf good night',\n",
              " 'also remember get dobby bowl car',\n",
              " 'filthy story girl waiting',\n",
              " 'sorry c ur msg yar lor poor thing one night tmr u brand new room sleep',\n",
              " 'love decision feeling could decide love life would much simpler le magical',\n",
              " 'welp apparently retired',\n",
              " 'sort code acc bank natwest reply confirm sent right person',\n",
              " '',\n",
              " 'u sure u take sick time',\n",
              " 'urgent trying contact u today draw show prize guaranteed call land line claim valid hr',\n",
              " 'watching cartoon listening music amp eve go temple amp church u',\n",
              " 'yo chad gymnastics class wanna take site say christian class full',\n",
              " 'much buzy',\n",
              " 'better still catch let ask sell lt gt',\n",
              " 'sure night menu know noon menu',\n",
              " 'u want come back beautiful necklace token heart thats give wife liking see one give dont call wait till come',\n",
              " 'willing go aptitude class',\n",
              " 'wont b trying sort house ok',\n",
              " 'yar lor wan go c horse racing today mah eat earlier lor ate chicken rice u',\n",
              " 'haha awesome omw back',\n",
              " 'yup thk e shop close lor',\n",
              " 'account number',\n",
              " 'eh u send wrongly lar',\n",
              " 'hey ad crap nite borin without ya boggy u boring biatch thanx u wait til nxt time il ave ya',\n",
              " 'ok shall talk',\n",
              " 'dont hesitate know second time weakness like keep notebook eat day anything changed day sure nothing',\n",
              " 'hey pay salary de lt gt',\n",
              " 'another month need chocolate weed alcohol',\n",
              " 'started searching get job day great potential talent',\n",
              " 'reckon need town eightish walk carpark',\n",
              " 'congrats mobile g videophones r call videochat wid mate play java game dload polyph music noline rentl',\n",
              " 'look fuckin time fuck think',\n",
              " 'yo guess dropped',\n",
              " 'carlos say mu lt gt minute',\n",
              " 'office call lt gt min',\n",
              " 'geeee miss already know think fuck wait till next year together loving kiss',\n",
              " 'yun ah ubi one say wan call tomorrow call look irene ere got bus ubi cres ubi tech park ph st wkg day n',\n",
              " 'ugh gotta drive back sd la butt sore',\n",
              " 'th july',\n",
              " 'hi im relaxing time ever get every day party good night get home tomorrow ish',\n",
              " 'wan come come lor din c stripe skirt',\n",
              " 'xmas story peace xmas msg love xmas miracle jesus hav blessed month ahead amp wish u merry xmas',\n",
              " 'number',\n",
              " 'change e one next escalator',\n",
              " 'yetunde class run water make ok pls',\n",
              " 'lot happened feel quiet beth aunt charlie working lot helen mo',\n",
              " 'wait bus stop aft ur lect lar dun c go get car come back n pick',\n",
              " ...]"
            ]
          },
          "execution_count": 44,
          "metadata": {},
          "output_type": "execute_result"
        }
      ],
      "source": [
        "corpus"
      ]
    },
    {
      "cell_type": "code",
      "execution_count": null,
      "metadata": {
        "id": "hyfKOVmM5a3h"
      },
      "outputs": [],
      "source": [
        "from sklearn.feature_extraction.text import CountVectorizer #BOW\n",
        "cv = CountVectorizer(max_features=5000)\n",
        "X = cv.fit_transform(corpus).toarray()"
      ]
    },
    {
      "cell_type": "code",
      "execution_count": null,
      "metadata": {
        "id": "jglcLgkp5-JR"
      },
      "outputs": [],
      "source": [
        "y = pd.get_dummies(message['label']) #one-hot-encoding"
      ]
    },
    {
      "cell_type": "code",
      "execution_count": null,
      "metadata": {
        "colab": {
          "base_uri": "https://localhost:8080/",
          "height": 423
        },
        "id": "br9PwPKA6XGd",
        "outputId": "899f19c0-5e95-48ad-df05-e42b96005a7d"
      },
      "outputs": [
        {
          "data": {
            "text/html": [
              "\n",
              "  <div id=\"df-8ce806da-d7cd-433d-8fea-8b11a3cf2997\">\n",
              "    <div class=\"colab-df-container\">\n",
              "      <div>\n",
              "<style scoped>\n",
              "    .dataframe tbody tr th:only-of-type {\n",
              "        vertical-align: middle;\n",
              "    }\n",
              "\n",
              "    .dataframe tbody tr th {\n",
              "        vertical-align: top;\n",
              "    }\n",
              "\n",
              "    .dataframe thead th {\n",
              "        text-align: right;\n",
              "    }\n",
              "</style>\n",
              "<table border=\"1\" class=\"dataframe\">\n",
              "  <thead>\n",
              "    <tr style=\"text-align: right;\">\n",
              "      <th></th>\n",
              "      <th>ham</th>\n",
              "      <th>spam</th>\n",
              "    </tr>\n",
              "  </thead>\n",
              "  <tbody>\n",
              "    <tr>\n",
              "      <th>0</th>\n",
              "      <td>1</td>\n",
              "      <td>0</td>\n",
              "    </tr>\n",
              "    <tr>\n",
              "      <th>1</th>\n",
              "      <td>1</td>\n",
              "      <td>0</td>\n",
              "    </tr>\n",
              "    <tr>\n",
              "      <th>2</th>\n",
              "      <td>0</td>\n",
              "      <td>1</td>\n",
              "    </tr>\n",
              "    <tr>\n",
              "      <th>3</th>\n",
              "      <td>1</td>\n",
              "      <td>0</td>\n",
              "    </tr>\n",
              "    <tr>\n",
              "      <th>4</th>\n",
              "      <td>1</td>\n",
              "      <td>0</td>\n",
              "    </tr>\n",
              "    <tr>\n",
              "      <th>...</th>\n",
              "      <td>...</td>\n",
              "      <td>...</td>\n",
              "    </tr>\n",
              "    <tr>\n",
              "      <th>5567</th>\n",
              "      <td>0</td>\n",
              "      <td>1</td>\n",
              "    </tr>\n",
              "    <tr>\n",
              "      <th>5568</th>\n",
              "      <td>1</td>\n",
              "      <td>0</td>\n",
              "    </tr>\n",
              "    <tr>\n",
              "      <th>5569</th>\n",
              "      <td>1</td>\n",
              "      <td>0</td>\n",
              "    </tr>\n",
              "    <tr>\n",
              "      <th>5570</th>\n",
              "      <td>1</td>\n",
              "      <td>0</td>\n",
              "    </tr>\n",
              "    <tr>\n",
              "      <th>5571</th>\n",
              "      <td>1</td>\n",
              "      <td>0</td>\n",
              "    </tr>\n",
              "  </tbody>\n",
              "</table>\n",
              "<p>5572 rows × 2 columns</p>\n",
              "</div>\n",
              "      <button class=\"colab-df-convert\" onclick=\"convertToInteractive('df-8ce806da-d7cd-433d-8fea-8b11a3cf2997')\"\n",
              "              title=\"Convert this dataframe to an interactive table.\"\n",
              "              style=\"display:none;\">\n",
              "        \n",
              "  <svg xmlns=\"http://www.w3.org/2000/svg\" height=\"24px\"viewBox=\"0 0 24 24\"\n",
              "       width=\"24px\">\n",
              "    <path d=\"M0 0h24v24H0V0z\" fill=\"none\"/>\n",
              "    <path d=\"M18.56 5.44l.94 2.06.94-2.06 2.06-.94-2.06-.94-.94-2.06-.94 2.06-2.06.94zm-11 1L8.5 8.5l.94-2.06 2.06-.94-2.06-.94L8.5 2.5l-.94 2.06-2.06.94zm10 10l.94 2.06.94-2.06 2.06-.94-2.06-.94-.94-2.06-.94 2.06-2.06.94z\"/><path d=\"M17.41 7.96l-1.37-1.37c-.4-.4-.92-.59-1.43-.59-.52 0-1.04.2-1.43.59L10.3 9.45l-7.72 7.72c-.78.78-.78 2.05 0 2.83L4 21.41c.39.39.9.59 1.41.59.51 0 1.02-.2 1.41-.59l7.78-7.78 2.81-2.81c.8-.78.8-2.07 0-2.86zM5.41 20L4 18.59l7.72-7.72 1.47 1.35L5.41 20z\"/>\n",
              "  </svg>\n",
              "      </button>\n",
              "      \n",
              "  <style>\n",
              "    .colab-df-container {\n",
              "      display:flex;\n",
              "      flex-wrap:wrap;\n",
              "      gap: 12px;\n",
              "    }\n",
              "\n",
              "    .colab-df-convert {\n",
              "      background-color: #E8F0FE;\n",
              "      border: none;\n",
              "      border-radius: 50%;\n",
              "      cursor: pointer;\n",
              "      display: none;\n",
              "      fill: #1967D2;\n",
              "      height: 32px;\n",
              "      padding: 0 0 0 0;\n",
              "      width: 32px;\n",
              "    }\n",
              "\n",
              "    .colab-df-convert:hover {\n",
              "      background-color: #E2EBFA;\n",
              "      box-shadow: 0px 1px 2px rgba(60, 64, 67, 0.3), 0px 1px 3px 1px rgba(60, 64, 67, 0.15);\n",
              "      fill: #174EA6;\n",
              "    }\n",
              "\n",
              "    [theme=dark] .colab-df-convert {\n",
              "      background-color: #3B4455;\n",
              "      fill: #D2E3FC;\n",
              "    }\n",
              "\n",
              "    [theme=dark] .colab-df-convert:hover {\n",
              "      background-color: #434B5C;\n",
              "      box-shadow: 0px 1px 3px 1px rgba(0, 0, 0, 0.15);\n",
              "      filter: drop-shadow(0px 1px 2px rgba(0, 0, 0, 0.3));\n",
              "      fill: #FFFFFF;\n",
              "    }\n",
              "  </style>\n",
              "\n",
              "      <script>\n",
              "        const buttonEl =\n",
              "          document.querySelector('#df-8ce806da-d7cd-433d-8fea-8b11a3cf2997 button.colab-df-convert');\n",
              "        buttonEl.style.display =\n",
              "          google.colab.kernel.accessAllowed ? 'block' : 'none';\n",
              "\n",
              "        async function convertToInteractive(key) {\n",
              "          const element = document.querySelector('#df-8ce806da-d7cd-433d-8fea-8b11a3cf2997');\n",
              "          const dataTable =\n",
              "            await google.colab.kernel.invokeFunction('convertToInteractive',\n",
              "                                                     [key], {});\n",
              "          if (!dataTable) return;\n",
              "\n",
              "          const docLinkHtml = 'Like what you see? Visit the ' +\n",
              "            '<a target=\"_blank\" href=https://colab.research.google.com/notebooks/data_table.ipynb>data table notebook</a>'\n",
              "            + ' to learn more about interactive tables.';\n",
              "          element.innerHTML = '';\n",
              "          dataTable['output_type'] = 'display_data';\n",
              "          await google.colab.output.renderOutput(dataTable, element);\n",
              "          const docLink = document.createElement('div');\n",
              "          docLink.innerHTML = docLinkHtml;\n",
              "          element.appendChild(docLink);\n",
              "        }\n",
              "      </script>\n",
              "    </div>\n",
              "  </div>\n",
              "  "
            ],
            "text/plain": [
              "      ham  spam\n",
              "0       1     0\n",
              "1       1     0\n",
              "2       0     1\n",
              "3       1     0\n",
              "4       1     0\n",
              "...   ...   ...\n",
              "5567    0     1\n",
              "5568    1     0\n",
              "5569    1     0\n",
              "5570    1     0\n",
              "5571    1     0\n",
              "\n",
              "[5572 rows x 2 columns]"
            ]
          },
          "execution_count": 47,
          "metadata": {},
          "output_type": "execute_result"
        }
      ],
      "source": [
        "y"
      ]
    },
    {
      "cell_type": "code",
      "execution_count": null,
      "metadata": {
        "colab": {
          "base_uri": "https://localhost:8080/"
        },
        "id": "kW1S7CF_9Eik",
        "outputId": "dd888295-cdbe-45db-a8fd-69e10c8932ad"
      },
      "outputs": [
        {
          "data": {
            "text/plain": [
              "ham     86.593683\n",
              "spam    13.406317\n",
              "Name: label, dtype: float64"
            ]
          },
          "execution_count": 48,
          "metadata": {},
          "output_type": "execute_result"
        }
      ],
      "source": [
        "message['label'].value_counts()/len(message['label'])*100"
      ]
    },
    {
      "cell_type": "code",
      "execution_count": null,
      "metadata": {
        "id": "aqCoBo0A6Xsm"
      },
      "outputs": [],
      "source": [
        "y = y.iloc[:,1].values #only one feature is required to classifiy ham or spam (binary)"
      ]
    },
    {
      "cell_type": "code",
      "execution_count": null,
      "metadata": {
        "colab": {
          "base_uri": "https://localhost:8080/"
        },
        "id": "gsHSt16d6k9g",
        "outputId": "ec214284-e81a-4fec-967b-5b30d7a7cf5f"
      },
      "outputs": [
        {
          "data": {
            "text/plain": [
              "array([0, 0, 1, ..., 0, 0, 0], dtype=uint8)"
            ]
          },
          "execution_count": 50,
          "metadata": {},
          "output_type": "execute_result"
        }
      ],
      "source": [
        "y"
      ]
    },
    {
      "cell_type": "code",
      "execution_count": null,
      "metadata": {
        "id": "MYQMH7sw6n0Z"
      },
      "outputs": [],
      "source": [
        "#train test split\n",
        "from sklearn.model_selection import train_test_split\n",
        "X_train,X_test,y_train,y_test = train_test_split(X,y, test_size=0.2, random_state=0)"
      ]
    },
    {
      "cell_type": "code",
      "execution_count": null,
      "metadata": {
        "id": "GiIXr_x47Q33"
      },
      "outputs": [],
      "source": [
        "#training model using naive biase classification\n",
        "from sklearn.naive_bayes import MultinomialNB\n",
        "spam_detection= MultinomialNB().fit(X_train, y_train)\n",
        "y_pred = spam_detection.predict(X_test)"
      ]
    },
    {
      "cell_type": "code",
      "execution_count": null,
      "metadata": {
        "colab": {
          "base_uri": "https://localhost:8080/"
        },
        "id": "gaHpDJo58ACI",
        "outputId": "d1fb4631-8f7a-4834-f90d-a85510297aad"
      },
      "outputs": [
        {
          "data": {
            "text/plain": [
              "array([[944,  11],\n",
              "       [  9, 151]])"
            ]
          },
          "execution_count": 53,
          "metadata": {},
          "output_type": "execute_result"
        }
      ],
      "source": [
        "from sklearn.metrics import confusion_matrix\n",
        "confusion_m = confusion_matrix(y_test,y_pred)\n",
        "confusion_m"
      ]
    },
    {
      "cell_type": "code",
      "execution_count": null,
      "metadata": {
        "colab": {
          "base_uri": "https://localhost:8080/"
        },
        "id": "TRIl0D7n8iIs",
        "outputId": "999c8385-1028-4ab4-9252-dc1aed2a2e47"
      },
      "outputs": [
        {
          "data": {
            "text/plain": [
              "0.9820627802690582"
            ]
          },
          "execution_count": 54,
          "metadata": {},
          "output_type": "execute_result"
        }
      ],
      "source": [
        "from sklearn.metrics import accuracy_score\n",
        "accu_score = accuracy_score(y_test, y_pred)\n",
        "accu_score"
      ]
    },
    {
      "cell_type": "markdown",
      "metadata": {
        "id": "MeasjOuY-5h-"
      },
      "source": [
        "**Word2Vec**"
      ]
    },
    {
      "cell_type": "code",
      "execution_count": null,
      "metadata": {
        "id": "MLza9Qlg-69J"
      },
      "outputs": [],
      "source": [
        "from gensim.models import word2vec"
      ]
    },
    {
      "cell_type": "code",
      "execution_count": null,
      "metadata": {
        "id": "l1gBEmUbB7zr"
      },
      "outputs": [],
      "source": [
        "text = re.sub(r'\\[[0-9]*\\]',' ', paragraph)\n",
        "text = re.sub(r'\\s+',' ', paragraph)\n",
        "text = text.lower()\n",
        "text = re.sub(r'\\d',' ',paragraph)\n",
        "text = re.sub(r'\\s+',' ',paragraph)"
      ]
    },
    {
      "cell_type": "code",
      "execution_count": null,
      "metadata": {
        "colab": {
          "base_uri": "https://localhost:8080/",
          "height": 70
        },
        "id": "vKcHan2tUETQ",
        "outputId": "2a118378-a19a-4cfe-9993-d37c5db7bb5a"
      },
      "outputs": [
        {
          "data": {
            "application/vnd.google.colaboratory.intrinsic+json": {
              "type": "string"
            },
            "text/plain": [
              "'So far 21566013, we have reviewed the main concepts and areas surrounding natural language processing (NLP) and text analytics. We also got a good grip on the Python programming language in the last chapter, especially on the different constructs and syntax and how to work with strings to manage textual data. To carry out different operations and analyze text, you will need to process and parse textual data into more easy-to-interpret formats.'"
            ]
          },
          "execution_count": 57,
          "metadata": {},
          "output_type": "execute_result"
        }
      ],
      "source": [
        "text"
      ]
    },
    {
      "cell_type": "code",
      "execution_count": null,
      "metadata": {
        "id": "SZpEa8ZSVON7"
      },
      "outputs": [],
      "source": [
        "sentences = nltk.sent_tokenize(text)"
      ]
    },
    {
      "cell_type": "code",
      "execution_count": null,
      "metadata": {
        "colab": {
          "base_uri": "https://localhost:8080/"
        },
        "id": "oiB8TEX5W0ld",
        "outputId": "5c303d55-8f92-42dd-c453-3599a2f49383"
      },
      "outputs": [
        {
          "data": {
            "text/plain": [
              "['So far 21566013, we have reviewed the main concepts and areas surrounding natural language processing (NLP) and text analytics.',\n",
              " 'We also got a good grip on the Python programming language in the last chapter, especially on the different constructs and syntax and how to work with strings to manage textual data.',\n",
              " 'To carry out different operations and analyze text, you will need to process and parse textual data into more easy-to-interpret formats.']"
            ]
          },
          "execution_count": 59,
          "metadata": {},
          "output_type": "execute_result"
        }
      ],
      "source": [
        "sentences"
      ]
    },
    {
      "cell_type": "code",
      "execution_count": null,
      "metadata": {
        "id": "26CCWsrcW4nW"
      },
      "outputs": [],
      "source": [
        "sentences = [nltk.word_tokenize(word) for word in sentences]"
      ]
    },
    {
      "cell_type": "code",
      "execution_count": null,
      "metadata": {
        "colab": {
          "base_uri": "https://localhost:8080/"
        },
        "id": "5N25433fXRLt",
        "outputId": "d94f5af9-8c20-46c5-8b55-ceb38e0afecb"
      },
      "outputs": [
        {
          "data": {
            "text/plain": [
              "[['So',\n",
              "  'far',\n",
              "  '21566013',\n",
              "  ',',\n",
              "  'we',\n",
              "  'have',\n",
              "  'reviewed',\n",
              "  'the',\n",
              "  'main',\n",
              "  'concepts',\n",
              "  'and',\n",
              "  'areas',\n",
              "  'surrounding',\n",
              "  'natural',\n",
              "  'language',\n",
              "  'processing',\n",
              "  '(',\n",
              "  'NLP',\n",
              "  ')',\n",
              "  'and',\n",
              "  'text',\n",
              "  'analytics',\n",
              "  '.'],\n",
              " ['We',\n",
              "  'also',\n",
              "  'got',\n",
              "  'a',\n",
              "  'good',\n",
              "  'grip',\n",
              "  'on',\n",
              "  'the',\n",
              "  'Python',\n",
              "  'programming',\n",
              "  'language',\n",
              "  'in',\n",
              "  'the',\n",
              "  'last',\n",
              "  'chapter',\n",
              "  ',',\n",
              "  'especially',\n",
              "  'on',\n",
              "  'the',\n",
              "  'different',\n",
              "  'constructs',\n",
              "  'and',\n",
              "  'syntax',\n",
              "  'and',\n",
              "  'how',\n",
              "  'to',\n",
              "  'work',\n",
              "  'with',\n",
              "  'strings',\n",
              "  'to',\n",
              "  'manage',\n",
              "  'textual',\n",
              "  'data',\n",
              "  '.'],\n",
              " ['To',\n",
              "  'carry',\n",
              "  'out',\n",
              "  'different',\n",
              "  'operations',\n",
              "  'and',\n",
              "  'analyze',\n",
              "  'text',\n",
              "  ',',\n",
              "  'you',\n",
              "  'will',\n",
              "  'need',\n",
              "  'to',\n",
              "  'process',\n",
              "  'and',\n",
              "  'parse',\n",
              "  'textual',\n",
              "  'data',\n",
              "  'into',\n",
              "  'more',\n",
              "  'easy-to-interpret',\n",
              "  'formats',\n",
              "  '.']]"
            ]
          },
          "execution_count": 61,
          "metadata": {},
          "output_type": "execute_result"
        }
      ],
      "source": [
        "sentences"
      ]
    },
    {
      "cell_type": "code",
      "execution_count": null,
      "metadata": {
        "id": "Z-hiAouJXSFq"
      },
      "outputs": [],
      "source": [
        "for i in range(len(sentences)):\n",
        "  sentences[i] = [word for word in sentences[i] if word not in stopwords.words('english')]"
      ]
    },
    {
      "cell_type": "code",
      "execution_count": null,
      "metadata": {
        "colab": {
          "base_uri": "https://localhost:8080/",
          "height": 165
        },
        "id": "D_ua1UthYKM7",
        "outputId": "a5fb395d-646b-44ad-f200-9419f89f2f0d"
      },
      "outputs": [
        {
          "ename": "NameError",
          "evalue": "ignored",
          "output_type": "error",
          "traceback": [
            "\u001b[0;31m---------------------------------------------------------------------------\u001b[0m",
            "\u001b[0;31mNameError\u001b[0m                                 Traceback (most recent call last)",
            "\u001b[0;32m<ipython-input-64-8981704810a6>\u001b[0m in \u001b[0;36m<module>\u001b[0;34m()\u001b[0m\n\u001b[0;32m----> 1\u001b[0;31m \u001b[0mmodel\u001b[0m \u001b[0;34m=\u001b[0m \u001b[0mWord2Vec\u001b[0m\u001b[0;34m(\u001b[0m\u001b[0msentences\u001b[0m\u001b[0;34m,\u001b[0m\u001b[0mmin_count\u001b[0m\u001b[0;34m=\u001b[0m\u001b[0;36m1\u001b[0m\u001b[0;34m)\u001b[0m \u001b[0;31m#if senetese contains words <1 then skip it(min_count=1)\u001b[0m\u001b[0;34m\u001b[0m\u001b[0;34m\u001b[0m\u001b[0m\n\u001b[0m",
            "\u001b[0;31mNameError\u001b[0m: name 'Word2Vec' is not defined"
          ]
        }
      ],
      "source": [
        "model = Word2Vec(sentences,min_count=1) #if senetese contains words <1 then skip it(min_count=1)"
      ]
    },
    {
      "cell_type": "code",
      "execution_count": null,
      "metadata": {
        "id": "h3U5-C4tYP66"
      },
      "outputs": [],
      "source": [
        "words = model.wv.vocab"
      ]
    },
    {
      "cell_type": "code",
      "execution_count": null,
      "metadata": {
        "id": "g-RXzWLib_ej"
      },
      "outputs": [],
      "source": [
        "words"
      ]
    },
    {
      "cell_type": "code",
      "execution_count": null,
      "metadata": {
        "id": "Rf_vNPTRZgtw"
      },
      "outputs": [],
      "source": [
        "#finding word vector of word good\n",
        "vector = model.wv['good']"
      ]
    },
    {
      "cell_type": "code",
      "execution_count": null,
      "metadata": {
        "id": "6EQhWnWfbjhd"
      },
      "outputs": [],
      "source": [
        "vector"
      ]
    },
    {
      "cell_type": "code",
      "execution_count": null,
      "metadata": {
        "id": "Rz_CWBXBcNOI"
      },
      "outputs": [],
      "source": [
        "similar = model.wv.most_similar('good')"
      ]
    },
    {
      "cell_type": "code",
      "execution_count": null,
      "metadata": {
        "id": "_mt9VJmBchPA"
      },
      "outputs": [],
      "source": [
        "similar"
      ]
    },
    {
      "cell_type": "markdown",
      "metadata": {
        "id": "-E6PW_vQDf-Z"
      },
      "source": [
        "#About Regular expression"
      ]
    },
    {
      "cell_type": "markdown",
      "metadata": {
        "id": "-D5MF_YLWJvm"
      },
      "source": [
        "two type of characters:\n",
        "\n",
        "for example : \"Ronak\"\n",
        "* **literal character**: Ronak is literal character/pattern search in which text is started with capital R, followed by lowercase o,n,a and k\n",
        "\n",
        "* **meta character**: a character whuch dose not indicate any specific literal character but it defines more general way such as string starting with any character followed by space and followed by digit and so on."
      ]
    },
    {
      "cell_type": "markdown",
      "source": [
        "**single character**\n",
        "\n",
        "---\n",
        "* \\d - 0 to 9\n",
        "* \\w - A-Z,a-z,0-9\n",
        "* \\s - white space(space/tab)\n",
        "* \\D - not a digit\n",
        "* \\W - not a word\n",
        "* \\ S - not a space\n",
        "\n",
        "\n",
        "**Quantifires**\n",
        "\n",
        "---\n",
        "* (*) - 0 or more\n",
        "* (+) - 1 or more\n",
        "* ?  - 0 or one (or condition)\n",
        "* {min, max} - range\n",
        "* {n} - number of time repeatatioin\n",
        "\n",
        "\n",
        "**Position**\n",
        "\n",
        "\n",
        "---\n",
        "* ^  - beginning\n",
        "* $ - end\n",
        "* \\b - word boundary\n",
        "\n",
        "\n"
      ],
      "metadata": {
        "id": "Ngmeh_Tor8yY"
      }
    },
    {
      "cell_type": "markdown",
      "source": [
        "* [] - matches any of the character present inside the square breaket\n",
        "* . - anything\n",
        "* () - accesing perticular sub string/ sub group from a hroup / string\n",
        "* (dollar 1), (dollar 2) .. - indicates group numbers in (), where default group by () is 0\n",
        "* inside regex expression \\1, \\2 etc. - indicates repetation of first or second group\n",
        "* [^ ]- not a.\n",
        "\n"
      ],
      "metadata": {
        "id": "CsOSq7gKtnL4"
      }
    },
    {
      "cell_type": "code",
      "execution_count": null,
      "metadata": {
        "colab": {
          "background_save": true
        },
        "id": "hZ5CvIwucj2t"
      },
      "outputs": [],
      "source": [
        "import re"
      ]
    },
    {
      "cell_type": "code",
      "execution_count": null,
      "metadata": {
        "colab": {
          "base_uri": "https://localhost:8080/",
          "height": 35
        },
        "id": "rW4pdqZgn0J0",
        "outputId": "d175334c-2ec3-4c2f-c391-28f38ad2b5fb"
      },
      "outputs": [
        {
          "data": {
            "application/vnd.google.colaboratory.intrinsic+json": {
              "type": "string"
            },
            "text/plain": [
              "'Hèllo'"
            ]
          },
          "execution_count": 99,
          "metadata": {},
          "output_type": "execute_result"
        }
      ],
      "source": [
        "s = u'H\\u00e8llo'\n",
        "s"
      ]
    },
    {
      "cell_type": "code",
      "execution_count": null,
      "metadata": {
        "id": "T0NlfA1Sn8bv"
      },
      "outputs": [],
      "source": [
        "re.findall(r'\\w+',s)"
      ]
    },
    {
      "cell_type": "code",
      "execution_count": null,
      "metadata": {
        "id": "yDLZjemioDC9"
      },
      "outputs": [],
      "source": [
        "re.findall(r'\\w+',s, re.UNICODE)"
      ]
    },
    {
      "cell_type": "code",
      "execution_count": null,
      "metadata": {
        "id": "gIEQuZi1oQhp"
      },
      "outputs": [],
      "source": [
        "pattern ='python'\n",
        "s1 = 'Python is an excellent language'\n",
        "s2 = 'I love the Python language. I also used Python to build application at a work!'"
      ]
    },
    {
      "cell_type": "code",
      "execution_count": null,
      "metadata": {
        "id": "lu_btW2rotDV"
      },
      "outputs": [],
      "source": [
        "re.match(pattern,s1)"
      ]
    },
    {
      "cell_type": "code",
      "execution_count": null,
      "metadata": {
        "colab": {
          "base_uri": "https://localhost:8080/"
        },
        "id": "u0g3eMplox0Q",
        "outputId": "6d3c518e-6c3d-4f56-9c34-c37579c9c771"
      },
      "outputs": [
        {
          "data": {
            "text/plain": [
              "<re.Match object; span=(0, 6), match='Python'>"
            ]
          },
          "execution_count": 95,
          "metadata": {},
          "output_type": "execute_result"
        }
      ],
      "source": [
        "re.match(pattern,s1, flags=re.IGNORECASE)"
      ]
    },
    {
      "cell_type": "code",
      "execution_count": null,
      "metadata": {
        "id": "m2QZJnI6o6-8"
      },
      "outputs": [],
      "source": [
        "m = re.match(pattern,s1, flags=re.IGNORECASE)"
      ]
    },
    {
      "cell_type": "code",
      "execution_count": null,
      "metadata": {
        "colab": {
          "base_uri": "https://localhost:8080/"
        },
        "id": "uhQU3f3JpbP_",
        "outputId": "1bcb07c0-d18d-49e2-a1cf-82a7e65cf568"
      },
      "outputs": [
        {
          "data": {
            "text/plain": [
              "<re.Match object; span=(0, 6), match='Python'>"
            ]
          },
          "execution_count": 97,
          "metadata": {},
          "output_type": "execute_result"
        }
      ],
      "source": [
        "m"
      ]
    },
    {
      "cell_type": "code",
      "execution_count": null,
      "metadata": {
        "colab": {
          "base_uri": "https://localhost:8080/"
        },
        "id": "iQMLRsp9pEu7",
        "outputId": "ed101477-ae4f-4fca-ced5-d3dcaa4e18b9"
      },
      "outputs": [
        {
          "name": "stdout",
          "output_type": "stream",
          "text": [
            "Found match Python ranging from index 0 - 6 in the string Hèllo\n"
          ]
        }
      ],
      "source": [
        "print(f\"Found match {m.group(0)} ranging from index {m.start()} - {m.end()} in the string {s}\")"
      ]
    },
    {
      "cell_type": "code",
      "execution_count": null,
      "metadata": {
        "colab": {
          "base_uri": "https://localhost:8080/"
        },
        "id": "yAjPUAMDpZSB",
        "outputId": "48db4f8a-b38a-420b-bf82-08c6d6ffb1cd"
      },
      "outputs": [
        {
          "data": {
            "text/plain": [
              "['Python', 'Python']"
            ]
          },
          "execution_count": 101,
          "metadata": {},
          "output_type": "execute_result"
        }
      ],
      "source": [
        "re.findall(pattern, s2, re.IGNORECASE)"
      ]
    },
    {
      "cell_type": "code",
      "execution_count": null,
      "metadata": {
        "id": "9pFqBoOPp0js"
      },
      "outputs": [],
      "source": [
        "match_obj = re.findall(pattern, s2,re.IGNORECASE)"
      ]
    },
    {
      "cell_type": "code",
      "execution_count": null,
      "metadata": {
        "colab": {
          "base_uri": "https://localhost:8080/",
          "height": 182
        },
        "id": "IH9pDSQYqlyQ",
        "outputId": "23910e99-8498-4147-c67d-c4a9e1fe6fbc"
      },
      "outputs": [
        {
          "ename": "AttributeError",
          "evalue": "ignored",
          "output_type": "error",
          "traceback": [
            "\u001b[0;31m---------------------------------------------------------------------------\u001b[0m",
            "\u001b[0;31mAttributeError\u001b[0m                            Traceback (most recent call last)",
            "\u001b[0;32m<ipython-input-103-90220fcee0be>\u001b[0m in \u001b[0;36m<module>\u001b[0;34m()\u001b[0m\n\u001b[1;32m      1\u001b[0m \u001b[0;32mfor\u001b[0m \u001b[0mi\u001b[0m \u001b[0;32min\u001b[0m \u001b[0mmatch_obj\u001b[0m\u001b[0;34m:\u001b[0m\u001b[0;34m\u001b[0m\u001b[0;34m\u001b[0m\u001b[0m\n\u001b[0;32m----> 2\u001b[0;31m   \u001b[0mprint\u001b[0m\u001b[0;34m(\u001b[0m\u001b[0;34mf'found match {i.group(0)} ranging from index{i.start()} - {i.end()} in the string'\u001b[0m\u001b[0;34m)\u001b[0m\u001b[0;34m\u001b[0m\u001b[0;34m\u001b[0m\u001b[0m\n\u001b[0m",
            "\u001b[0;31mAttributeError\u001b[0m: 'str' object has no attribute 'group'"
          ]
        }
      ],
      "source": [
        "for i in match_obj:\n",
        "  print(f'found match {i.group(0)} ranging from index{i.start()} - {i.end()} in the string')"
      ]
    },
    {
      "cell_type": "code",
      "execution_count": null,
      "metadata": {
        "colab": {
          "base_uri": "https://localhost:8080/"
        },
        "id": "jdd1cutArAPE",
        "outputId": "6bd8c466-6b8b-43d4-f161-d894a2394a52"
      },
      "outputs": [
        {
          "data": {
            "text/plain": [
              "['9427533135', '(+91)-9427572584']"
            ]
          },
          "execution_count": 104,
          "metadata": {},
          "output_type": "execute_result"
        }
      ],
      "source": [
        "text = \"my phone number is 9427533135,in another way (+91)-9427572584\"\n",
        "pattern = '\\d{10}|\\(\\+\\d{2}\\)-\\d{10}'\n",
        "match = re.findall(pattern,text)\n",
        "match"
      ]
    },
    {
      "cell_type": "code",
      "execution_count": null,
      "metadata": {
        "id": "5B4Bw_bo07Hw"
      },
      "outputs": [],
      "source": [
        "text = '''Note 1 – Overview\n",
        "\n",
        "Tesla, Inc. (“Tesla”, the “Company”, “we”, “us” or “our”) was incorporated in the State of Delaware on July 1, 2003. We design, develop, manufacture and sell high-performance fully electric vehicles and design, manufacture, install and sell solar energy generation and energy storage products. Our Chief Executive Officer, as the chief operating decision maker (“CODM”), organizes our company, manages resource allocations and measures performance among two operating and reportable segments: (i) automotive and (ii) energy generation and storage.\n",
        "\n",
        "Beginning in the first quarter of 2021, there has been a trend in many parts of the world of increasing availability and administration of vaccines against COVID-19, as well as an easing of restrictions on social, business, travel and government activities and functions. On the other hand, infection rates and regulations continue to fluctuate in various regions and there are ongoing global impacts resulting from the pandemic, including challenges and increases in costs for logistics and supply chains, such as increased port congestion, intermittent supplier delays and a shortfall of semiconductor supply. We have also previously been affected by temporary manufacturing closures, employment and compensation adjustments and impediments to administrative activities supporting our product deliveries and deployments.\n",
        "Note 2 – Summary of Significant Accounting Policies\n",
        "\n",
        "Unaudited Interim Financial Statements\n",
        "\n",
        "The consolidated balance sheet as of September 30, 2021, the consolidated statements of operations, the consolidated statements of comprehensive income, the consolidated statements of redeemable noncontrolling interests and equity for the three and nine months ended September 30, 2021 and 2020 and the consolidated statements of cash flows for the nine months ended September 30, 2021 and 2020, as well as other information disclosed in the accompanying notes, are unaudited. The consolidated balance sheet as of December 31, 2020 was derived from the audited consolidated financial statements as of that date. The interim consolidated financial statements and the accompanying notes should be read in conjunction with the annual consolidated financial statements and the accompanying notes contained in our Annual Report on Form 10-K for the year ended December 31, 2020.\n",
        "\n",
        "The interim consolidated financial statements and the accompanying notes have been prepared on the same basis as the annual consolidated financial statements and, in the opinion of management, reflect all adjustments, which include only normal recurring adjustments, necessary for a fair statement of the results of operations for the periods presented. The consolidated results of operations for any interim period are not necessarily indicative of the results to be expected for the full year or for any other future years or interim periods.\n",
        "\n",
        "Use of Estimates\n",
        "\n",
        "The preparation of financial statements in conformity with U.S. generally accepted accounting principles (“GAAP”) requires management to make estimates and assumptions that affect the reported amounts of assets, liabilities, revenues, costs and expenses and related disclosures in the accompanying notes. \n",
        "\n",
        "Due to the COVID-19 pandemic, there has been uncertainty and disruption in the global economy and financial markets which could impact our estimates and assumptions. We have assessed the impact and are not aware of any specific events or circumstances that required an update to our estimates and assumptions or materially affected the carrying value of our assets or liabilities as of the date of issuance of this Quarterly Report on Form 10-Q. These estimates may change as new events occur and additional information is obtained. Actual results could differ materially from these estimates under different assumptions or conditions.'''"
      ]
    },
    {
      "cell_type": "code",
      "execution_count": null,
      "metadata": {
        "id": "HkL2494u6gfC"
      },
      "outputs": [],
      "source": [
        "pattern = \"Note \\d ([^\\n]*)\""
      ]
    },
    {
      "cell_type": "code",
      "execution_count": null,
      "metadata": {
        "colab": {
          "base_uri": "https://localhost:8080/"
        },
        "id": "7laEshbr6ruO",
        "outputId": "8343e547-9b28-4987-e535-c5b2a94226de"
      },
      "outputs": [
        {
          "data": {
            "text/plain": [
              "['– Overview', '– Summary of Significant Accounting Policies']"
            ]
          },
          "execution_count": 120,
          "metadata": {},
          "output_type": "execute_result"
        }
      ],
      "source": [
        "re.findall(pattern,text)"
      ]
    },
    {
      "cell_type": "code",
      "execution_count": null,
      "metadata": {
        "id": "CuPr2rM76t9F"
      },
      "outputs": [],
      "source": [
        "text = '''The gross cost of operating lease vehicles as of fy2021 Q1 was $4.85 billion and $3.54 billion, respectively. Operating lease vehicles on the consolidated balance sheets are presented net of accumulated depreciation of $683 million and $446 million as of in the FY2021 Q4, respectively.specific events or circumstances that required an update to our estimates and assumptions or materially affected the carrying value of our assets or liabilities as of the date of issuance of this Quarterly Report on Form 10-Q. These estimates may change as new events occur and additional information is obtained. Actual results could differ materially from these estimates under different assumptions or conditions.'''\n",
        "pattern = \"FY\\d{4} Q[1-4]\"\n",
        "pattern_1 = \"FY(\\d{4} Q[1-4])\" \n",
        "pattern_2 ='\\$([\\d\\.]+)'\n",
        "pattern_3 = 'FY(\\d{4})[^\\$]+\\$([\\d\\.]+)'"
      ]
    },
    {
      "cell_type": "code",
      "execution_count": null,
      "metadata": {
        "id": "WW_95par8TyS"
      },
      "outputs": [],
      "source": [
        "re.findall(pattern,text, flags = re.IGNORECASE)"
      ]
    },
    {
      "cell_type": "code",
      "execution_count": null,
      "metadata": {
        "id": "xjns6v9k8WTr"
      },
      "outputs": [],
      "source": [
        "re.findall(pattern_1,text, flags = re.IGNORECASE)"
      ]
    },
    {
      "cell_type": "code",
      "execution_count": null,
      "metadata": {
        "id": "lFhrmgNd-YCP"
      },
      "outputs": [],
      "source": [
        "re.findall(pattern_2,text, flags = re.IGNORECASE)"
      ]
    },
    {
      "cell_type": "code",
      "execution_count": null,
      "metadata": {
        "id": "mvkxoQ1W-s8t"
      },
      "outputs": [],
      "source": [
        "re.findall(pattern_3,text, flags = re.IGNORECASE)"
      ]
    },
    {
      "cell_type": "markdown",
      "metadata": {
        "id": "t1MYQfiK_iwc"
      },
      "source": [
        "#exercise"
      ]
    },
    {
      "cell_type": "markdown",
      "metadata": {
        "id": "tW6koP2T_nJe"
      },
      "source": [
        "**1. Extract all twitter handles from following text. Twitter handle is the text that appears after https://twitter.com/ and is a single word. Also it contains only alpha numeric characters i.e. A-Z a-z , o to 9 and underscore _**"
      ]
    },
    {
      "cell_type": "code",
      "execution_count": null,
      "metadata": {
        "id": "nq-Dqr-v_Lga"
      },
      "outputs": [],
      "source": [
        "text = '''\n",
        "Follow our leader Elon musk on twitter here: https://twitter.com/elonmusk, more information \n",
        "on Tesla's products can be found at https://www.tesla.com/. Also here are leading influencers \n",
        "for tesla related news,\n",
        "https://twitter.com/teslarati\n",
        "https://twitter.com/dummy_tesla\n",
        "https://twitter.com/dummy_2_tesla\n",
        "'''\n",
        "pattern = 'https://twitter.com/([A-Za-z0-9_]+)' "
      ]
    },
    {
      "cell_type": "code",
      "execution_count": null,
      "metadata": {
        "id": "hBQ3vW50ALFx"
      },
      "outputs": [],
      "source": [
        "re.findall(pattern, text)"
      ]
    },
    {
      "cell_type": "markdown",
      "metadata": {
        "id": "Tw6hlDpxARIr"
      },
      "source": [
        "**2. Extract Concentration Risk Types. It will be a text that appears after \"Concentration Risk:\", In below example, your regex should extract these two strings**"
      ]
    },
    {
      "cell_type": "markdown",
      "metadata": {
        "id": "7UksmPPUAWPO"
      },
      "source": [
        "(1) Credit Risk\n",
        "\n",
        "(2) Supply Rish"
      ]
    },
    {
      "cell_type": "code",
      "execution_count": null,
      "metadata": {
        "id": "xSISAqOQAM-I"
      },
      "outputs": [],
      "source": [
        "text = '''\n",
        "Concentration of Risk: Credit Risk\n",
        "Financial instruments that potentially subject us to a concentration of credit risk consist of cash, cash equivalents, marketable securities,\n",
        "restricted cash, accounts receivable, convertible note hedges, and interest rate swaps. Our cash balances are primarily invested in money market funds\n",
        "or on deposit at high credit quality financial institutions in the U.S. These deposits are typically in excess of insured limits. As of September 30, 2021\n",
        "and December 31, 2020, no entity represented 10% or more of our total accounts receivable balance. The risk of concentration for our convertible note\n",
        "hedges and interest rate swaps is mitigated by transacting with several highly-rated multinational banks.\n",
        "Concentration of Risk: Supply Risk\n",
        "We are dependent on our suppliers, including single source suppliers, and the inability of these suppliers to deliver necessary components of our\n",
        "products in a timely manner at prices, quality levels and volumes acceptable to us, or our inability to efficiently manage these components from these\n",
        "suppliers, could have a material adverse effect on our business, prospects, financial condition and operating results.\n",
        "'''\n",
        "pattern = 'Concentration of Risk: ([^\\n]*)'"
      ]
    },
    {
      "cell_type": "code",
      "execution_count": null,
      "metadata": {
        "id": "lzd9GfbLBMxa"
      },
      "outputs": [],
      "source": [
        "re.findall(pattern, text)"
      ]
    },
    {
      "cell_type": "markdown",
      "metadata": {
        "id": "nmDVimR9BPfO"
      },
      "source": [
        "**3. Companies in europe reports their financial numbers of semi annual basis and you can have a document like this. To exatract quarterly and semin annual period you can use a regex as shown below**"
      ]
    },
    {
      "cell_type": "code",
      "execution_count": null,
      "metadata": {
        "id": "I9pxjD1hBNhk"
      },
      "outputs": [],
      "source": [
        "text = '''\n",
        "Tesla's gross cost of operating lease vehicles in FY2021 Q1 was $4.85 billion.\n",
        "BMW's gross cost of operating vehicles in FY2021 S1 was $8 billion.\n",
        "'''\n",
        "\n",
        "pattern = 'FY(\\d{4} (?:Q[1-4]|S[1-2]))'\n",
        "#or in another way FY(\\d{4} [^\\s]+) "
      ]
    },
    {
      "cell_type": "code",
      "execution_count": null,
      "metadata": {
        "id": "8RVMrZSdDF9h"
      },
      "outputs": [],
      "source": [
        "re.findall(pattern, text)"
      ]
    },
    {
      "cell_type": "code",
      "execution_count": null,
      "metadata": {
        "id": "zEfZio0CDGNB"
      },
      "outputs": [],
      "source": [
        ""
      ]
    },
    {
      "cell_type": "markdown",
      "metadata": {
        "id": "gEPXHbaLizZN"
      },
      "source": [
        "#sentence Tokenizer"
      ]
    },
    {
      "cell_type": "markdown",
      "metadata": {
        "id": "YpDExVIXi5BS"
      },
      "source": [
        "\n",
        "\n",
        "*   sent_tokenizer\n",
        "*   PunktSentenceTokenizer\n",
        "*   RegexpTokenizer\n",
        "*   Pre-trained sentence tokenization models\n",
        "\n"
      ]
    },
    {
      "cell_type": "code",
      "execution_count": null,
      "metadata": {
        "id": "zF-7gLTHig48"
      },
      "outputs": [],
      "source": [
        "import nltk\n",
        "from nltk.corpus import gutenberg\n",
        "from pprint import pprint"
      ]
    },
    {
      "cell_type": "code",
      "execution_count": null,
      "metadata": {
        "id": "hhJb-Mvhktjo"
      },
      "outputs": [],
      "source": [
        "sampletext = '''We will discuss briefly about the basic syntax, structure and\n",
        "design philosophies. There is a defined hierarchical syntax for Python code\n",
        "which you should remember when writing code! Python is a really powerful\n",
        "programming language!'''\n",
        "#sampletext = '''मुकेश धीरूभाई अंबानी (जन्म 19 अप्रैल 1957 को यमन में) एक भारतीय व्यवसायी हैं और इंडिया टाइम्स के अनुसार 31 मार्च 2020 तक उनकी सम्पत्ति लगभग 48 अरब डॉलर हैं। [6] वे रिलायंस इंडस्ट्रीज के अध्यक्ष, प्रबंध निदेशक और कंपनी के सबसे बड़े शेयरधारक हैं। यह भारत में निजी क्षेत्र की सबसे बड़ी तथा फोर्च्यून ५०० कंपनी है।[7] रिलायंस इंडस्ट्रीज में उनकी व्यक्तिगत हिस्सेदारी 87.56 % है | मुकेश अंबानी अभी भी मार्च, 2020 तक एशिया के सबसे अमीर और दुनिया के 17 वें सबसे अमीर व्यक्ति बने हुए हैं |[8] उनकी संपत्ति का मूल्य (फोर्ब्स के अनुसार) 488 अरब अमेरिकी डॉलर है, जिससे वे भारत के सबसे अमीर व्यक्ति हैं।[6]तथा उनकी कंपनी रिलायंस जियो भारत की सबसे बड़ी टेलिकॉम कंपनी है।'''"
      ]
    },
    {
      "cell_type": "code",
      "execution_count": null,
      "metadata": {
        "id": "2XOK8MRRlKQA"
      },
      "outputs": [],
      "source": [
        "alice = gutenberg.raw(fileids='carroll-alice.txt')"
      ]
    },
    {
      "cell_type": "code",
      "execution_count": null,
      "metadata": {
        "colab": {
          "base_uri": "https://localhost:8080/"
        },
        "id": "qEtyFUi3kxtc",
        "outputId": "bfbead60-3560-4751-a0a6-0e375fab57ae"
      },
      "outputs": [
        {
          "name": "stdout",
          "output_type": "stream",
          "text": [
            "144395\n"
          ]
        }
      ],
      "source": [
        "print(len(alice))"
      ]
    },
    {
      "cell_type": "code",
      "execution_count": null,
      "metadata": {
        "colab": {
          "base_uri": "https://localhost:8080/",
          "height": 122
        },
        "id": "eY2vrZwrlYjW",
        "outputId": "fe582a04-d9da-4bff-ae18-e9d93975d5b3"
      },
      "outputs": [
        {
          "data": {
            "application/vnd.google.colaboratory.intrinsic+json": {
              "type": "string"
            },
            "text/plain": [
              "'[Alice\\'s Adventures in Wonderland by Lewis Carroll 1865]\\n\\nCHAPTER I. Down the Rabbit-Hole\\n\\nAlice was beginning to get very tired of sitting by her sister on the\\nbank, and of having nothing to do: once or twice she had peeped into the\\nbook her sister was reading, but it had no pictures or conversations in\\nit, \\'and what is the use of a book,\\' thought Alice \\'without pictures or\\nconversation?\\'\\n\\nSo she was considering in her own mind (as well as she could, for the\\nhot day made her feel very sleepy and stupid), whether the pleasure\\nof making a daisy-chain would be worth the trouble of getting up and\\npicking the daisies, when suddenly a White Rabbit with pink eyes ran\\nclose by her.\\n\\nThere was nothing so VERY remarkable in that; nor did Alice think it so\\nVERY much out of the way to hear the Rabbit say to itself, \\'Oh dear!\\nOh dear! I shall be late!\\' (when she thought it over afterwards, it\\noccurred to her that she ought to have wondered at this, but at the time\\nit all seemed quite natural); but when the Rabbit actually TOOK A WATCH\\nOUT OF ITS WAISTCOAT-POCKET, and looked at it, and then hurried on,\\nAlice started to her feet, for it flashed across her mind that she had\\nnever before seen a rabbit with either a waistcoat-pocket, or a watch\\nto take out of it, and burning with curiosity, she ran across the field\\nafter it, and fortunately was just in time to see it pop down a large\\nrabbit-hole under the hedge.\\n\\nIn another moment down went Alice after it, never once considering how\\nin the world she was to get out again.\\n\\nThe rabbit-hole went straight on like a tunnel for some way, and then\\ndipped suddenly down, so suddenly that Alice had not a moment to think\\nabout stopping herself before she found herself falling down a very deep\\nwell.\\n\\nEither the well was very deep, or she fell very slowly, for she had\\nplenty of time as she went down to look about her and to wonder what was\\ngoing to happen next. First, she tried to look down and make out what\\nshe was coming to, but it was too dark to see anything; then she\\nlooked at the sides of the well, and noticed that they were filled with\\ncupboards and book-shelves; here and there she saw maps and pictures\\nhung upon pegs. She took down a jar from one of the shelves as\\nshe passed; it was labelled \\'ORANGE MARMALADE\\', but to her great\\ndisappointment it was empty: she did not like to drop the jar for fear\\nof killing somebody, so managed to put it into one of the cupboards as\\nshe fell past it.\\n\\n\\'Well!\\' thought Alice to herself, \\'after such a fall as this, I shall\\nthink nothing of tumbling down stairs! How brave they\\'ll all think me at\\nhome! Why, I wouldn\\'t say anything about it, even if I fell off the top\\nof the house!\\' (Which was very likely true.)\\n\\nDown, down, down. Would the fall NEVER come to an end! \\'I wonder how\\nmany miles I\\'ve fallen by this time?\\' she said aloud. \\'I must be getting\\nsomewhere near the centre of the earth. Let me see: that would be four\\nthousand miles down, I think--\\' (for, you see, Alice had learnt several\\nthings of this sort in her lessons in the schoolroom, and though this\\nwas not a VERY good opportunity for showing off her knowledge, as there\\nwas no one to listen to her, still it was good practice to say it over)\\n\\'--yes, that\\'s about the right distance--but then I wonder what Latitude\\nor Longitude I\\'ve got to?\\' (Alice had no idea what Latitude was, or\\nLongitude either, but thought they were nice grand words to say.)\\n\\nPresently she began again. \\'I wonder if I shall fall right THROUGH the\\nearth! How funny it\\'ll seem to come out among the people that walk with\\ntheir heads downward! The Antipathies, I think--\\' (she was rather glad\\nthere WAS no one listening, this time, as it didn\\'t sound at all the\\nright word) \\'--but I shall have to ask them what the name of the country\\nis, you know. Please, Ma\\'am, is this New Zealand or Australia?\\' (and\\nshe tried to curtsey as she spoke--fancy CURTSEYING as you\\'re falling\\nthrough the air! Do you think you could manage it?) \\'And what an\\nignorant little girl she\\'ll think me for asking! No, it\\'ll never do to\\nask: perhaps I shall see it written up somewhere.\\'\\n\\nDown, down, down. There was nothing else to do, so Alice soon began\\ntalking again. \\'Dinah\\'ll miss me very much to-night, I should think!\\'\\n(Dinah was the cat.) \\'I hope they\\'ll remember her saucer of milk at\\ntea-time. Dinah my dear! I wish you were down here with me! There are no\\nmice in the air, I\\'m afraid, but you might catch a bat, and that\\'s very\\nlike a mouse, you know. But do cats eat bats, I wonder?\\' And here Alice\\nbegan to get rather sleepy, and went on saying to herself, in a dreamy\\nsort of way, \\'Do cats eat bats? Do cats eat bats?\\' and sometimes, \\'Do\\nbats eat cats?\\' for, you see, as she couldn\\'t answer either question,\\nit didn\\'t much matter which way she put it. She felt that she was dozing\\noff, and had just begun to dream that she was walking hand in hand with\\nDinah, and saying to her very earnestly, \\'Now, Dinah, tell me the truth:\\ndid you ever eat a bat?\\' when suddenly, thump! thump! down she came upon\\na heap of sticks and dry leaves, and the fall was over.\\n\\nAlice was not a bit hurt, and she jumped up on to her feet in a moment:\\nshe looked up, but it was all dark overhead; before her was another\\nlong passage, and the White Rabbit was still in sight, hurrying down it.\\nThere was not a moment to be lost: away went Alice like the wind, and\\nwas just in time to hear it say, as it turned a corner, \\'Oh my ears\\nand whiskers, how late it\\'s getting!\\' She was close behind it when she\\nturned the corner, but the Rabbit was no longer to be seen: she found\\nherself in a long, low hall, which was lit up by a row of lamps hanging\\nfrom the roof.\\n\\nThere were doors all round the hall, but they were all locked; and when\\nAlice had been all the way down one side and up the other, trying every\\ndoor, she walked sadly down the middle, wondering how she was ever to\\nget out again.\\n\\nSuddenly she came upon a little three-legged table, all made of solid\\nglass; there was nothing on it except a tiny golden key, and Alice\\'s\\nfirst thought was that it might belong to one of the doors of the hall;\\nbut, alas! either the locks were too large, or the key was too small,\\nbut at any rate it would not open any of them. However, on the second\\ntime round, she came upon a low curtain she had not noticed before, and\\nbehind it was a little door about fifteen inches high: she tried the\\nlittle golden key in the lock, and to her great delight it fitted!\\n\\nAlice opened the door and found that it led into a small passage, not\\nmuch larger than a rat-hole: she knelt down and looked along the passage\\ninto the loveliest garden you ever saw. How she longed to get out of\\nthat dark hall, and wander about among those beds of bright flowers and\\nthose cool fountains, but she could not even get her head through the\\ndoorway; \\'and even if my head would go through,\\' thought poor Alice, \\'it\\nwould be of very little use without my shoulders. Oh, how I wish I could\\nshut up like a telescope! I think I could, if I only know how to begin.\\'\\nFor, you see, so many out-of-the-way things had happened lately,\\nthat Alice had begun to think that very few things indeed were really\\nimpossible.\\n\\nThere seemed to be no use in waiting by the little door, so she went\\nback to the table, half hoping she might find another key on it, or at\\nany rate a book of rules for shutting people up like telescopes: this\\ntime she found a little bottle on it, (\\'which certainly was not here\\nbefore,\\' said Alice,) and round the neck of the bottle was a paper\\nlabel, with the words \\'DRINK ME\\' beautifully printed on it in large\\nletters.\\n\\nIt was all very well to say \\'Drink me,\\' but the wise little Alice was\\nnot going to do THAT in a hurry. \\'No, I\\'ll look first,\\' she said, \\'and\\nsee whether it\\'s marked \"poison\" or not\\'; for she had read several nice\\nlittle histories about children who had got burnt, and eaten up by wild\\nbeasts and other unpleasant things, all because they WOULD not remember\\nthe simple rules their friends had taught them: such as, that a red-hot\\npoker will burn you if you hold it too long; and that if you cut your\\nfinger VERY deeply with a knife, it usually bleeds; and she had never\\nforgotten that, if you drink much from a bottle marked \\'poison,\\' it is\\nalmost certain to disagree with you, sooner or later.\\n\\nHowever, this bottle was NOT marked \\'poison,\\' so Alice ventured to taste\\nit, and finding it very nice, (it had, in fact, a sort of mixed flavour\\nof cherry-tart, custard, pine-apple, roast turkey, toffee, and hot\\nbuttered toast,) she very soon finished it off.\\n\\n  *    *    *    *    *    *    *\\n\\n    *    *    *    *    *    *\\n\\n  *    *    *    *    *    *    *\\n\\n\\'What a curious feeling!\\' said Alice; \\'I must be shutting up like a\\ntelescope.\\'\\n\\nAnd so it was indeed: she was now only ten inches high, and her face\\nbrightened up at the thought that she was now the right size for going\\nthrough the little door into that lovely garden. First, however, she\\nwaited for a few minutes to see if she was going to shrink any further:\\nshe felt a little nervous about this; \\'for it might end, you know,\\' said\\nAlice to herself, \\'in my going out altogether, like a candle. I wonder\\nwhat I should be like then?\\' And she tried to fancy what the flame of a\\ncandle is like after the candle is blown out, for she could not remember\\never having seen such a thing.\\n\\nAfter a while, finding that nothing more happened, she decided on going\\ninto the garden at once; but, alas for poor Alice! when she got to the\\ndoor, she found she had forgotten the little golden key, and when she\\nwent back to the table for it, she found she could not possibly reach\\nit: she could see it quite plainly through the glass, and she tried her\\nbest to climb up one of the legs of the table, but it was too slippery;\\nand when she had tired herself out with trying, the poor little thing\\nsat down and cried.\\n\\n\\'Come, there\\'s no use in crying like that!\\' said Alice to herself,\\nrather sharply; \\'I advise you to leave off this minute!\\' She generally\\ngave herself very good advice, (though she very seldom followed it),\\nand sometimes she scolded herself so severely as to bring tears into\\nher eyes; and once she remembered trying to box her own ears for having\\ncheated herself in a game of croquet she was playing against herself,\\nfor this curious child was very fond of pretending to be two people.\\n\\'But it\\'s no use now,\\' thought poor Alice, \\'to pretend to be two people!\\nWhy, there\\'s hardly enough of me left to make ONE respectable person!\\'\\n\\nSoon her eye fell on a little glass box that was lying under the table:\\nshe opened it, and found in it a very small cake, on which the words\\n\\'EAT ME\\' were beautifully marked in currants. \\'Well, I\\'ll eat it,\\' said\\nAlice, \\'and if it makes me grow larger, I can reach the key; and if it\\nmakes me grow smaller, I can creep under the door; so either way I\\'ll\\nget into the garden, and I don\\'t care which happens!\\'\\n\\nShe ate a little bit, and said anxiously to herself, \\'Which way? Which\\nway?\\', holding her hand on the top of her head to feel which way it was\\ngrowing, and she was quite surprised to find that she remained the same\\nsize: to be sure, this generally happens when one eats cake, but Alice\\nhad got so much into the way of expecting nothing but out-of-the-way\\nthings to happen, that it seemed quite dull and stupid for life to go on\\nin the common way.\\n\\nSo she set to work, and very soon finished off the cake.\\n\\n  *    *    *    *    *    *    *\\n\\n    *    *    *    *    *    *\\n\\n  *    *    *    *    *    *    *\\n\\n\\n\\n\\nCHAPTER II. The Pool of Tears\\n\\n\\'Curiouser and curiouser!\\' cried Alice (she was so much surprised, that\\nfor the moment she quite forgot how to speak good English); \\'now I\\'m\\nopening out like the largest telescope that ever was! Good-bye, feet!\\'\\n(for when she looked down at her feet, they seemed to be almost out of\\nsight, they were getting so far off). \\'Oh, my poor little feet, I wonder\\nwho will put on your shoes and stockings for you now, dears? I\\'m sure\\n_I_ shan\\'t be able! I shall be a great deal too far off to trouble\\nmyself about you: you must manage the best way you can;--but I must be\\nkind to them,\\' thought Alice, \\'or perhaps they won\\'t walk the way I want\\nto go! Let me see: I\\'ll give them a new pair of boots every Christmas.\\'\\n\\nAnd she went on planning to herself how she would manage it. \\'They must\\ngo by the carrier,\\' she thought; \\'and how funny it\\'ll seem, sending\\npresents to one\\'s own feet! And how odd the directions will look!\\n\\n     ALICE\\'S RIGHT FOOT, ESQ.\\n       HEARTHRUG,\\n         NEAR THE FENDER,\\n           (WITH ALICE\\'S LOVE).\\n\\nOh dear, what nonsense I\\'m talking!\\'\\n\\nJust then her head struck against the roof of the hall: in fact she was\\nnow more than nine feet high, and she at once took up the little golden\\nkey and hurried off to the garden door.\\n\\nPoor Alice! It was as much as she could do, lying down on one side, to\\nlook through into the garden with one eye; but to get through was more\\nhopeless than ever: she sat down and began to cry again.\\n\\n\\'You ought to be ashamed of yourself,\\' said Alice, \\'a great girl like\\nyou,\\' (she might well say this), \\'to go on crying in this way! Stop this\\nmoment, I tell you!\\' But she went on all the same, shedding gallons of\\ntears, until there was a large pool all round her, about four inches\\ndeep and reaching half down the hall.\\n\\nAfter a time she heard a little pattering of feet in the distance, and\\nshe hastily dried her eyes to see what was coming. It was the White\\nRabbit returning, splendidly dressed, with a pair of white kid gloves in\\none hand and a large fan in the other: he came trotting along in a great\\nhurry, muttering to himself as he came, \\'Oh! the Duchess, the Duchess!\\nOh! won\\'t she be savage if I\\'ve kept her waiting!\\' Alice felt so\\ndesperate that she was ready to ask help of any one; so, when the Rabbit\\ncame near her, she began, in a low, timid voice, \\'If you please, sir--\\'\\nThe Rabbit started violently, dropped the white kid gloves and the fan,\\nand skurried away into the darkness as hard as he could go.\\n\\nAlice took up the fan and gloves, and, as the hall was very hot, she\\nkept fanning herself all the time she went on talking: \\'Dear, dear! How\\nqueer everything is to-day! And yesterday things went on just as usual.\\nI wonder if I\\'ve been changed in the night? Let me think: was I the\\nsame when I got up this morning? I almost think I can remember feeling a\\nlittle different. But if I\\'m not the same, the next question is, Who\\nin the world am I? Ah, THAT\\'S the great puzzle!\\' And she began thinking\\nover all the children she knew that were of the same age as herself, to\\nsee if she could have been changed for any of them.\\n\\n\\'I\\'m sure I\\'m not Ada,\\' she said, \\'for her hair goes in such long\\nringlets, and mine doesn\\'t go in ringlets at all; and I\\'m sure I can\\'t\\nbe Mabel, for I know all sorts of things, and she, oh! she knows such a\\nvery little! Besides, SHE\\'S she, and I\\'m I, and--oh dear, how puzzling\\nit all is! I\\'ll try if I know all the things I used to know. Let me\\nsee: four times five is twelve, and four times six is thirteen, and\\nfour times seven is--oh dear! I shall never get to twenty at that rate!\\nHowever, the Multiplication Table doesn\\'t signify: let\\'s try Geography.\\nLondon is the capital of Paris, and Paris is the capital of Rome, and\\nRome--no, THAT\\'S all wrong, I\\'m certain! I must have been changed for\\nMabel! I\\'ll try and say \"How doth the little--\"\\' and she crossed her\\nhands on her lap as if she were saying lessons, and began to repeat it,\\nbut her voice sounded hoarse and strange, and the words did not come the\\nsame as they used to do:--\\n\\n     \\'How doth the little crocodile\\n      Improve his shining tail,\\n     And pour the waters of the Nile\\n      On every golden scale!\\n\\n     \\'How cheerfully he seems to grin,\\n      How neatly spread his claws,\\n     And welcome little fishes in\\n      With gently smiling jaws!\\'\\n\\n\\'I\\'m sure those are not the right words,\\' said poor Alice, and her eyes\\nfilled with tears again as she went on, \\'I must be Mabel after all, and\\nI shall have to go and live in that poky little house, and have next to\\nno toys to play with, and oh! ever so many lessons to learn! No, I\\'ve\\nmade up my mind about it; if I\\'m Mabel, I\\'ll stay down here! It\\'ll be no\\nuse their putting their heads down and saying \"Come up again, dear!\" I\\nshall only look up and say \"Who am I then? Tell me that first, and then,\\nif I like being that person, I\\'ll come up: if not, I\\'ll stay down here\\ntill I\\'m somebody else\"--but, oh dear!\\' cried Alice, with a sudden burst\\nof tears, \\'I do wish they WOULD put their heads down! I am so VERY tired\\nof being all alone here!\\'\\n\\nAs she said this she looked down at her hands, and was surprised to see\\nthat she had put on one of the Rabbit\\'s little white kid gloves while\\nshe was talking. \\'How CAN I have done that?\\' she thought. \\'I must\\nbe growing small again.\\' She got up and went to the table to measure\\nherself by it, and found that, as nearly as she could guess, she was now\\nabout two feet high, and was going on shrinking rapidly: she soon found\\nout that the cause of this was the fan she was holding, and she dropped\\nit hastily, just in time to avoid shrinking away altogether.\\n\\n\\'That WAS a narrow escape!\\' said Alice, a good deal frightened at the\\nsudden change, but very glad to find herself still in existence; \\'and\\nnow for the garden!\\' and she ran with all speed back to the little door:\\nbut, alas! the little door was shut again, and the little golden key was\\nlying on the glass table as before, \\'and things are worse than ever,\\'\\nthought the poor child, \\'for I never was so small as this before, never!\\nAnd I declare it\\'s too bad, that it is!\\'\\n\\nAs she said these words her foot slipped, and in another moment, splash!\\nshe was up to her chin in salt water. Her first idea was that she\\nhad somehow fallen into the sea, \\'and in that case I can go back by\\nrailway,\\' she said to herself. (Alice had been to the seaside once in\\nher life, and had come to the general conclusion, that wherever you go\\nto on the English coast you find a number of bathing machines in the\\nsea, some children digging in the sand with wooden spades, then a row\\nof lodging houses, and behind them a railway station.) However, she soon\\nmade out that she was in the pool of tears which she had wept when she\\nwas nine feet high.\\n\\n\\'I wish I hadn\\'t cried so much!\\' said Alice, as she swam about, trying\\nto find her way out. \\'I shall be punished for it now, I suppose, by\\nbeing drowned in my own tears! That WILL be a queer thing, to be sure!\\nHowever, everything is queer to-day.\\'\\n\\nJust then she heard something splashing about in the pool a little way\\noff, and she swam nearer to make out what it was: at first she thought\\nit must be a walrus or hippopotamus, but then she remembered how small\\nshe was now, and she soon made out that it was only a mouse that had\\nslipped in like herself.\\n\\n\\'Would it be of any use, now,\\' thought Alice, \\'to speak to this mouse?\\nEverything is so out-of-the-way down here, that I should think very\\nlikely it can talk: at any rate, there\\'s no harm in trying.\\' So she\\nbegan: \\'O Mouse, do you know the way out of this pool? I am very tired\\nof swimming about here, O Mouse!\\' (Alice thought this must be the right\\nway of speaking to a mouse: she had never done such a thing before, but\\nshe remembered having seen in her brother\\'s Latin Grammar, \\'A mouse--of\\na mouse--to a mouse--a mouse--O mouse!\\') The Mouse looked at her rather\\ninquisitively, and seemed to her to wink with one of its little eyes,\\nbut it said nothing.\\n\\n\\'Perhaps it doesn\\'t understand English,\\' thought Alice; \\'I daresay it\\'s\\na French mouse, come over with William the Conqueror.\\' (For, with all\\nher knowledge of history, Alice had no very clear notion how long ago\\nanything had happened.) So she began again: \\'Ou est ma chatte?\\' which\\nwas the first sentence in her French lesson-book. The Mouse gave a\\nsudden leap out of the water, and seemed to quiver all over with fright.\\n\\'Oh, I beg your pardon!\\' cried Alice hastily, afraid that she had hurt\\nthe poor animal\\'s feelings. \\'I quite forgot you didn\\'t like cats.\\'\\n\\n\\'Not like cats!\\' cried the Mouse, in a shrill, passionate voice. \\'Would\\nYOU like cats if you were me?\\'\\n\\n\\'Well, perhaps not,\\' said Alice in a soothing tone: \\'don\\'t be angry\\nabout it. And yet I wish I could show you our cat Dinah: I think you\\'d\\ntake a fancy to cats if you could only see her. She is such a dear quiet\\nthing,\\' Alice went on, half to herself, as she swam lazily about in the\\npool, \\'and she sits purring so nicely by the fire, licking her paws and\\nwashing her face--and she is such a nice soft thing to nurse--and she\\'s\\nsuch a capital one for catching mice--oh, I beg your pardon!\\' cried\\nAlice again, for this time the Mouse was bristling all over, and she\\nfelt certain it must be really offended. \\'We won\\'t talk about her any\\nmore if you\\'d rather not.\\'\\n\\n\\'We indeed!\\' cried the Mouse, who was trembling down to the end of his\\ntail. \\'As if I would talk on such a subject! Our family always HATED\\ncats: nasty, low, vulgar things! Don\\'t let me hear the name again!\\'\\n\\n\\'I won\\'t indeed!\\' said Alice, in a great hurry to change the subject of\\nconversation. \\'Are you--are you fond--of--of dogs?\\' The Mouse did not\\nanswer, so Alice went on eagerly: \\'There is such a nice little dog near\\nour house I should like to show you! A little bright-eyed terrier, you\\nknow, with oh, such long curly brown hair! And it\\'ll fetch things when\\nyou throw them, and it\\'ll sit up and beg for its dinner, and all sorts\\nof things--I can\\'t remember half of them--and it belongs to a farmer,\\nyou know, and he says it\\'s so useful, it\\'s worth a hundred pounds! He\\nsays it kills all the rats and--oh dear!\\' cried Alice in a sorrowful\\ntone, \\'I\\'m afraid I\\'ve offended it again!\\' For the Mouse was swimming\\naway from her as hard as it could go, and making quite a commotion in\\nthe pool as it went.\\n\\nSo she called softly after it, \\'Mouse dear! Do come back again, and we\\nwon\\'t talk about cats or dogs either, if you don\\'t like them!\\' When the\\nMouse heard this, it turned round and swam slowly back to her: its\\nface was quite pale (with passion, Alice thought), and it said in a low\\ntrembling voice, \\'Let us get to the shore, and then I\\'ll tell you my\\nhistory, and you\\'ll understand why it is I hate cats and dogs.\\'\\n\\nIt was high time to go, for the pool was getting quite crowded with the\\nbirds and animals that had fallen into it: there were a Duck and a Dodo,\\na Lory and an Eaglet, and several other curious creatures. Alice led the\\nway, and the whole party swam to the shore.\\n\\n\\n\\n\\nCHAPTER III. A Caucus-Race and a Long Tale\\n\\nThey were indeed a queer-looking party that assembled on the bank--the\\nbirds with draggled feathers, the animals with their fur clinging close\\nto them, and all dripping wet, cross, and uncomfortable.\\n\\nThe first question of course was, how to get dry again: they had a\\nconsultation about this, and after a few minutes it seemed quite natural\\nto Alice to find herself talking familiarly with them, as if she had\\nknown them all her life. Indeed, she had quite a long argument with the\\nLory, who at last turned sulky, and would only say, \\'I am older than\\nyou, and must know better\\'; and this Alice would not allow without\\nknowing how old it was, and, as the Lory positively refused to tell its\\nage, there was no more to be said.\\n\\nAt last the Mouse, who seemed to be a person of authority among them,\\ncalled out, \\'Sit down, all of you, and listen to me! I\\'LL soon make you\\ndry enough!\\' They all sat down at once, in a large ring, with the Mouse\\nin the middle. Alice kept her eyes anxiously fixed on it, for she felt\\nsure she would catch a bad cold if she did not get dry very soon.\\n\\n\\'Ahem!\\' said the Mouse with an important air, \\'are you all ready? This\\nis the driest thing I know. Silence all round, if you please! \"William\\nthe Conqueror, whose cause was favoured by the pope, was soon submitted\\nto by the English, who wanted leaders, and had been of late much\\naccustomed to usurpation and conquest. Edwin and Morcar, the earls of\\nMercia and Northumbria--\"\\'\\n\\n\\'Ugh!\\' said the Lory, with a shiver.\\n\\n\\'I beg your pardon!\\' said the Mouse, frowning, but very politely: \\'Did\\nyou speak?\\'\\n\\n\\'Not I!\\' said the Lory hastily.\\n\\n\\'I thought you did,\\' said the Mouse. \\'--I proceed. \"Edwin and Morcar,\\nthe earls of Mercia and Northumbria, declared for him: and even Stigand,\\nthe patriotic archbishop of Canterbury, found it advisable--\"\\'\\n\\n\\'Found WHAT?\\' said the Duck.\\n\\n\\'Found IT,\\' the Mouse replied rather crossly: \\'of course you know what\\n\"it\" means.\\'\\n\\n\\'I know what \"it\" means well enough, when I find a thing,\\' said the\\nDuck: \\'it\\'s generally a frog or a worm. The question is, what did the\\narchbishop find?\\'\\n\\nThe Mouse did not notice this question, but hurriedly went on, \\'\"--found\\nit advisable to go with Edgar Atheling to meet William and offer him the\\ncrown. William\\'s conduct at first was moderate. But the insolence of his\\nNormans--\" How are you getting on now, my dear?\\' it continued, turning\\nto Alice as it spoke.\\n\\n\\'As wet as ever,\\' said Alice in a melancholy tone: \\'it doesn\\'t seem to\\ndry me at all.\\'\\n\\n\\'In that case,\\' said the Dodo solemnly, rising to its feet, \\'I move\\nthat the meeting adjourn, for the immediate adoption of more energetic\\nremedies--\\'\\n\\n\\'Speak English!\\' said the Eaglet. \\'I don\\'t know the meaning of half\\nthose long words, and, what\\'s more, I don\\'t believe you do either!\\' And\\nthe Eaglet bent down its head to hide a smile: some of the other birds\\ntittered audibly.\\n\\n\\'What I was going to say,\\' said the Dodo in an offended tone, \\'was, that\\nthe best thing to get us dry would be a Caucus-race.\\'\\n\\n\\'What IS a Caucus-race?\\' said Alice; not that she wanted much to know,\\nbut the Dodo had paused as if it thought that SOMEBODY ought to speak,\\nand no one else seemed inclined to say anything.\\n\\n\\'Why,\\' said the Dodo, \\'the best way to explain it is to do it.\\' (And, as\\nyou might like to try the thing yourself, some winter day, I will tell\\nyou how the Dodo managed it.)\\n\\nFirst it marked out a race-course, in a sort of circle, (\\'the exact\\nshape doesn\\'t matter,\\' it said,) and then all the party were placed\\nalong the course, here and there. There was no \\'One, two, three, and\\naway,\\' but they began running when they liked, and left off when they\\nliked, so that it was not easy to know when the race was over. However,\\nwhen they had been running half an hour or so, and were quite dry again,\\nthe Dodo suddenly called out \\'The race is over!\\' and they all crowded\\nround it, panting, and asking, \\'But who has won?\\'\\n\\nThis question the Dodo could not answer without a great deal of thought,\\nand it sat for a long time with one finger pressed upon its forehead\\n(the position in which you usually see Shakespeare, in the pictures\\nof him), while the rest waited in silence. At last the Dodo said,\\n\\'EVERYBODY has won, and all must have prizes.\\'\\n\\n\\'But who is to give the prizes?\\' quite a chorus of voices asked.\\n\\n\\'Why, SHE, of course,\\' said the Dodo, pointing to Alice with one finger;\\nand the whole party at once crowded round her, calling out in a confused\\nway, \\'Prizes! Prizes!\\'\\n\\nAlice had no idea what to do, and in despair she put her hand in her\\npocket, and pulled out a box of comfits, (luckily the salt water had\\nnot got into it), and handed them round as prizes. There was exactly one\\na-piece all round.\\n\\n\\'But she must have a prize herself, you know,\\' said the Mouse.\\n\\n\\'Of course,\\' the Dodo replied very gravely. \\'What else have you got in\\nyour pocket?\\' he went on, turning to Alice.\\n\\n\\'Only a thimble,\\' said Alice sadly.\\n\\n\\'Hand it over here,\\' said the Dodo.\\n\\nThen they all crowded round her once more, while the Dodo solemnly\\npresented the thimble, saying \\'We beg your acceptance of this elegant\\nthimble\\'; and, when it had finished this short speech, they all cheered.\\n\\nAlice thought the whole thing very absurd, but they all looked so grave\\nthat she did not dare to laugh; and, as she could not think of anything\\nto say, she simply bowed, and took the thimble, looking as solemn as she\\ncould.\\n\\nThe next thing was to eat the comfits: this caused some noise and\\nconfusion, as the large birds complained that they could not taste\\ntheirs, and the small ones choked and had to be patted on the back.\\nHowever, it was over at last, and they sat down again in a ring, and\\nbegged the Mouse to tell them something more.\\n\\n\\'You promised to tell me your history, you know,\\' said Alice, \\'and why\\nit is you hate--C and D,\\' she added in a whisper, half afraid that it\\nwould be offended again.\\n\\n\\'Mine is a long and a sad tale!\\' said the Mouse, turning to Alice, and\\nsighing.\\n\\n\\'It IS a long tail, certainly,\\' said Alice, looking down with wonder at\\nthe Mouse\\'s tail; \\'but why do you call it sad?\\' And she kept on puzzling\\nabout it while the Mouse was speaking, so that her idea of the tale was\\nsomething like this:--\\n\\n         \\'Fury said to a\\n         mouse, That he\\n        met in the\\n       house,\\n     \"Let us\\n      both go to\\n       law: I will\\n        prosecute\\n         YOU.--Come,\\n           I\\'ll take no\\n           denial; We\\n          must have a\\n        trial: For\\n      really this\\n     morning I\\'ve\\n    nothing\\n    to do.\"\\n     Said the\\n      mouse to the\\n       cur, \"Such\\n        a trial,\\n         dear Sir,\\n            With\\n          no jury\\n        or judge,\\n       would be\\n      wasting\\n      our\\n      breath.\"\\n       \"I\\'ll be\\n        judge, I\\'ll\\n         be jury,\"\\n            Said\\n         cunning\\n          old Fury:\\n          \"I\\'ll\\n          try the\\n            whole\\n            cause,\\n              and\\n           condemn\\n           you\\n          to\\n           death.\"\\'\\n\\n\\n\\'You are not attending!\\' said the Mouse to Alice severely. \\'What are you\\nthinking of?\\'\\n\\n\\'I beg your pardon,\\' said Alice very humbly: \\'you had got to the fifth\\nbend, I think?\\'\\n\\n\\'I had NOT!\\' cried the Mouse, sharply and very angrily.\\n\\n\\'A knot!\\' said Alice, always ready to make herself useful, and looking\\nanxiously about her. \\'Oh, do let me help to undo it!\\'\\n\\n\\'I shall do nothing of the sort,\\' said the Mouse, getting up and walking\\naway. \\'You insult me by talking such nonsense!\\'\\n\\n\\'I didn\\'t mean it!\\' pleaded poor Alice. \\'But you\\'re so easily offended,\\nyou know!\\'\\n\\nThe Mouse only growled in reply.\\n\\n\\'Please come back and finish your story!\\' Alice called after it; and the\\nothers all joined in chorus, \\'Yes, please do!\\' but the Mouse only shook\\nits head impatiently, and walked a little quicker.\\n\\n\\'What a pity it wouldn\\'t stay!\\' sighed the Lory, as soon as it was quite\\nout of sight; and an old Crab took the opportunity of saying to her\\ndaughter \\'Ah, my dear! Let this be a lesson to you never to lose\\nYOUR temper!\\' \\'Hold your tongue, Ma!\\' said the young Crab, a little\\nsnappishly. \\'You\\'re enough to try the patience of an oyster!\\'\\n\\n\\'I wish I had our Dinah here, I know I do!\\' said Alice aloud, addressing\\nnobody in particular. \\'She\\'d soon fetch it back!\\'\\n\\n\\'And who is Dinah, if I might venture to ask the question?\\' said the\\nLory.\\n\\nAlice replied eagerly, for she was always ready to talk about her pet:\\n\\'Dinah\\'s our cat. And she\\'s such a capital one for catching mice you\\ncan\\'t think! And oh, I wish you could see her after the birds! Why,\\nshe\\'ll eat a little bird as soon as look at it!\\'\\n\\nThis speech caused a remarkable sensation among the party. Some of the\\nbirds hurried off at once: one old Magpie began wrapping itself up very\\ncarefully, remarking, \\'I really must be getting home; the night-air\\ndoesn\\'t suit my throat!\\' and a Canary called out in a trembling voice to\\nits children, \\'Come away, my dears! It\\'s high time you were all in bed!\\'\\nOn various pretexts they all moved off, and Alice was soon left alone.\\n\\n\\'I wish I hadn\\'t mentioned Dinah!\\' she said to herself in a melancholy\\ntone. \\'Nobody seems to like her, down here, and I\\'m sure she\\'s the best\\ncat in the world! Oh, my dear Dinah! I wonder if I shall ever see you\\nany more!\\' And here poor Alice began to cry again, for she felt very\\nlonely and low-spirited. In a little while, however, she again heard\\na little pattering of footsteps in the distance, and she looked up\\neagerly, half hoping that the Mouse had changed his mind, and was coming\\nback to finish his story.\\n\\n\\n\\n\\nCHAPTER IV. The Rabbit Sends in a Little Bill\\n\\nIt was the White Rabbit, trotting slowly back again, and looking\\nanxiously about as it went, as if it had lost something; and she heard\\nit muttering to itself \\'The Duchess! The Duchess! Oh my dear paws! Oh\\nmy fur and whiskers! She\\'ll get me executed, as sure as ferrets are\\nferrets! Where CAN I have dropped them, I wonder?\\' Alice guessed in a\\nmoment that it was looking for the fan and the pair of white kid gloves,\\nand she very good-naturedly began hunting about for them, but they were\\nnowhere to be seen--everything seemed to have changed since her swim in\\nthe pool, and the great hall, with the glass table and the little door,\\nhad vanished completely.\\n\\nVery soon the Rabbit noticed Alice, as she went hunting about, and\\ncalled out to her in an angry tone, \\'Why, Mary Ann, what ARE you doing\\nout here? Run home this moment, and fetch me a pair of gloves and a fan!\\nQuick, now!\\' And Alice was so much frightened that she ran off at once\\nin the direction it pointed to, without trying to explain the mistake it\\nhad made.\\n\\n\\'He took me for his housemaid,\\' she said to herself as she ran. \\'How\\nsurprised he\\'ll be when he finds out who I am! But I\\'d better take him\\nhis fan and gloves--that is, if I can find them.\\' As she said this, she\\ncame upon a neat little house, on the door of which was a bright brass\\nplate with the name \\'W. RABBIT\\' engraved upon it. She went in without\\nknocking, and hurried upstairs, in great fear lest she should meet the\\nreal Mary Ann, and be turned out of the house before she had found the\\nfan and gloves.\\n\\n\\'How queer it seems,\\' Alice said to herself, \\'to be going messages for\\na rabbit! I suppose Dinah\\'ll be sending me on messages next!\\' And she\\nbegan fancying the sort of thing that would happen: \\'\"Miss Alice! Come\\nhere directly, and get ready for your walk!\" \"Coming in a minute,\\nnurse! But I\\'ve got to see that the mouse doesn\\'t get out.\" Only I don\\'t\\nthink,\\' Alice went on, \\'that they\\'d let Dinah stop in the house if it\\nbegan ordering people about like that!\\'\\n\\nBy this time she had found her way into a tidy little room with a table\\nin the window, and on it (as she had hoped) a fan and two or three pairs\\nof tiny white kid gloves: she took up the fan and a pair of the gloves,\\nand was just going to leave the room, when her eye fell upon a little\\nbottle that stood near the looking-glass. There was no label this time\\nwith the words \\'DRINK ME,\\' but nevertheless she uncorked it and put it\\nto her lips. \\'I know SOMETHING interesting is sure to happen,\\' she said\\nto herself, \\'whenever I eat or drink anything; so I\\'ll just see what\\nthis bottle does. I do hope it\\'ll make me grow large again, for really\\nI\\'m quite tired of being such a tiny little thing!\\'\\n\\nIt did so indeed, and much sooner than she had expected: before she had\\ndrunk half the bottle, she found her head pressing against the ceiling,\\nand had to stoop to save her neck from being broken. She hastily put\\ndown the bottle, saying to herself \\'That\\'s quite enough--I hope I shan\\'t\\ngrow any more--As it is, I can\\'t get out at the door--I do wish I hadn\\'t\\ndrunk quite so much!\\'\\n\\nAlas! it was too late to wish that! She went on growing, and growing,\\nand very soon had to kneel down on the floor: in another minute there\\nwas not even room for this, and she tried the effect of lying down with\\none elbow against the door, and the other arm curled round her head.\\nStill she went on growing, and, as a last resource, she put one arm out\\nof the window, and one foot up the chimney, and said to herself \\'Now I\\ncan do no more, whatever happens. What WILL become of me?\\'\\n\\nLuckily for Alice, the little magic bottle had now had its full effect,\\nand she grew no larger: still it was very uncomfortable, and, as there\\nseemed to be no sort of chance of her ever getting out of the room\\nagain, no wonder she felt unhappy.\\n\\n\\'It was much pleasanter at home,\\' thought poor Alice, \\'when one wasn\\'t\\nalways growing larger and smaller, and being ordered about by mice and\\nrabbits. I almost wish I hadn\\'t gone down that rabbit-hole--and yet--and\\nyet--it\\'s rather curious, you know, this sort of life! I do wonder what\\nCAN have happened to me! When I used to read fairy-tales, I fancied that\\nkind of thing never happened, and now here I am in the middle of one!\\nThere ought to be a book written about me, that there ought! And when I\\ngrow up, I\\'ll write one--but I\\'m grown up now,\\' she added in a sorrowful\\ntone; \\'at least there\\'s no room to grow up any more HERE.\\'\\n\\n\\'But then,\\' thought Alice, \\'shall I NEVER get any older than I am\\nnow? That\\'ll be a comfort, one way--never to be an old woman--but\\nthen--always to have lessons to learn! Oh, I shouldn\\'t like THAT!\\'\\n\\n\\'Oh, you foolish Alice!\\' she answered herself. \\'How can you learn\\nlessons in here? Why, there\\'s hardly room for YOU, and no room at all\\nfor any lesson-books!\\'\\n\\nAnd so she went on, taking first one side and then the other, and making\\nquite a conversation of it altogether; but after a few minutes she heard\\na voice outside, and stopped to listen.\\n\\n\\'Mary Ann! Mary Ann!\\' said the voice. \\'Fetch me my gloves this moment!\\'\\nThen came a little pattering of feet on the stairs. Alice knew it was\\nthe Rabbit coming to look for her, and she trembled till she shook the\\nhouse, quite forgetting that she was now about a thousand times as large\\nas the Rabbit, and had no reason to be afraid of it.\\n\\nPresently the Rabbit came up to the door, and tried to open it; but, as\\nthe door opened inwards, and Alice\\'s elbow was pressed hard against it,\\nthat attempt proved a failure. Alice heard it say to itself \\'Then I\\'ll\\ngo round and get in at the window.\\'\\n\\n\\'THAT you won\\'t\\' thought Alice, and, after waiting till she fancied\\nshe heard the Rabbit just under the window, she suddenly spread out her\\nhand, and made a snatch in the air. She did not get hold of anything,\\nbut she heard a little shriek and a fall, and a crash of broken glass,\\nfrom which she concluded that it was just possible it had fallen into a\\ncucumber-frame, or something of the sort.\\n\\nNext came an angry voice--the Rabbit\\'s--\\'Pat! Pat! Where are you?\\' And\\nthen a voice she had never heard before, \\'Sure then I\\'m here! Digging\\nfor apples, yer honour!\\'\\n\\n\\'Digging for apples, indeed!\\' said the Rabbit angrily. \\'Here! Come and\\nhelp me out of THIS!\\' (Sounds of more broken glass.)\\n\\n\\'Now tell me, Pat, what\\'s that in the window?\\'\\n\\n\\'Sure, it\\'s an arm, yer honour!\\' (He pronounced it \\'arrum.\\')\\n\\n\\'An arm, you goose! Who ever saw one that size? Why, it fills the whole\\nwindow!\\'\\n\\n\\'Sure, it does, yer honour: but it\\'s an arm for all that.\\'\\n\\n\\'Well, it\\'s got no business there, at any rate: go and take it away!\\'\\n\\nThere was a long silence after this, and Alice could only hear whispers\\nnow and then; such as, \\'Sure, I don\\'t like it, yer honour, at all, at\\nall!\\' \\'Do as I tell you, you coward!\\' and at last she spread out her\\nhand again, and made another snatch in the air. This time there were\\nTWO little shrieks, and more sounds of broken glass. \\'What a number of\\ncucumber-frames there must be!\\' thought Alice. \\'I wonder what they\\'ll do\\nnext! As for pulling me out of the window, I only wish they COULD! I\\'m\\nsure I don\\'t want to stay in here any longer!\\'\\n\\nShe waited for some time without hearing anything more: at last came a\\nrumbling of little cartwheels, and the sound of a good many voices\\nall talking together: she made out the words: \\'Where\\'s the other\\nladder?--Why, I hadn\\'t to bring but one; Bill\\'s got the other--Bill!\\nfetch it here, lad!--Here, put \\'em up at this corner--No, tie \\'em\\ntogether first--they don\\'t reach half high enough yet--Oh! they\\'ll\\ndo well enough; don\\'t be particular--Here, Bill! catch hold of this\\nrope--Will the roof bear?--Mind that loose slate--Oh, it\\'s coming\\ndown! Heads below!\\' (a loud crash)--\\'Now, who did that?--It was Bill, I\\nfancy--Who\\'s to go down the chimney?--Nay, I shan\\'t! YOU do it!--That I\\nwon\\'t, then!--Bill\\'s to go down--Here, Bill! the master says you\\'re to\\ngo down the chimney!\\'\\n\\n\\'Oh! So Bill\\'s got to come down the chimney, has he?\\' said Alice to\\nherself. \\'Shy, they seem to put everything upon Bill! I wouldn\\'t be in\\nBill\\'s place for a good deal: this fireplace is narrow, to be sure; but\\nI THINK I can kick a little!\\'\\n\\nShe drew her foot as far down the chimney as she could, and waited\\ntill she heard a little animal (she couldn\\'t guess of what sort it was)\\nscratching and scrambling about in the chimney close above her: then,\\nsaying to herself \\'This is Bill,\\' she gave one sharp kick, and waited to\\nsee what would happen next.\\n\\nThe first thing she heard was a general chorus of \\'There goes Bill!\\'\\nthen the Rabbit\\'s voice along--\\'Catch him, you by the hedge!\\' then\\nsilence, and then another confusion of voices--\\'Hold up his head--Brandy\\nnow--Don\\'t choke him--How was it, old fellow? What happened to you? Tell\\nus all about it!\\'\\n\\nLast came a little feeble, squeaking voice, (\\'That\\'s Bill,\\' thought\\nAlice,) \\'Well, I hardly know--No more, thank ye; I\\'m better now--but I\\'m\\na deal too flustered to tell you--all I know is, something comes at me\\nlike a Jack-in-the-box, and up I goes like a sky-rocket!\\'\\n\\n\\'So you did, old fellow!\\' said the others.\\n\\n\\'We must burn the house down!\\' said the Rabbit\\'s voice; and Alice called\\nout as loud as she could, \\'If you do. I\\'ll set Dinah at you!\\'\\n\\nThere was a dead silence instantly, and Alice thought to herself, \\'I\\nwonder what they WILL do next! If they had any sense, they\\'d take the\\nroof off.\\' After a minute or two, they began moving about again, and\\nAlice heard the Rabbit say, \\'A barrowful will do, to begin with.\\'\\n\\n\\'A barrowful of WHAT?\\' thought Alice; but she had not long to doubt,\\nfor the next moment a shower of little pebbles came rattling in at the\\nwindow, and some of them hit her in the face. \\'I\\'ll put a stop to this,\\'\\nshe said to herself, and shouted out, \\'You\\'d better not do that again!\\'\\nwhich produced another dead silence.\\n\\nAlice noticed with some surprise that the pebbles were all turning into\\nlittle cakes as they lay on the floor, and a bright idea came into her\\nhead. \\'If I eat one of these cakes,\\' she thought, \\'it\\'s sure to make\\nSOME change in my size; and as it can\\'t possibly make me larger, it must\\nmake me smaller, I suppose.\\'\\n\\nSo she swallowed one of the cakes, and was delighted to find that she\\nbegan shrinking directly. As soon as she was small enough to get through\\nthe door, she ran out of the house, and found quite a crowd of little\\nanimals and birds waiting outside. The poor little Lizard, Bill, was\\nin the middle, being held up by two guinea-pigs, who were giving it\\nsomething out of a bottle. They all made a rush at Alice the moment she\\nappeared; but she ran off as hard as she could, and soon found herself\\nsafe in a thick wood.\\n\\n\\'The first thing I\\'ve got to do,\\' said Alice to herself, as she wandered\\nabout in the wood, \\'is to grow to my right size again; and the second\\nthing is to find my way into that lovely garden. I think that will be\\nthe best plan.\\'\\n\\nIt sounded an excellent plan, no doubt, and very neatly and simply\\narranged; the only difficulty was, that she had not the smallest idea\\nhow to set about it; and while she was peering about anxiously among\\nthe trees, a little sharp bark just over her head made her look up in a\\ngreat hurry.\\n\\nAn enormous puppy was looking down at her with large round eyes, and\\nfeebly stretching out one paw, trying to touch her. \\'Poor little thing!\\'\\nsaid Alice, in a coaxing tone, and she tried hard to whistle to it; but\\nshe was terribly frightened all the time at the thought that it might be\\nhungry, in which case it would be very likely to eat her up in spite of\\nall her coaxing.\\n\\nHardly knowing what she did, she picked up a little bit of stick, and\\nheld it out to the puppy; whereupon the puppy jumped into the air off\\nall its feet at once, with a yelp of delight, and rushed at the stick,\\nand made believe to worry it; then Alice dodged behind a great thistle,\\nto keep herself from being run over; and the moment she appeared on the\\nother side, the puppy made another rush at the stick, and tumbled head\\nover heels in its hurry to get hold of it; then Alice, thinking it was\\nvery like having a game of play with a cart-horse, and expecting every\\nmoment to be trampled under its feet, ran round the thistle again; then\\nthe puppy began a series of short charges at the stick, running a very\\nlittle way forwards each time and a long way back, and barking hoarsely\\nall the while, till at last it sat down a good way off, panting, with\\nits tongue hanging out of its mouth, and its great eyes half shut.\\n\\nThis seemed to Alice a good opportunity for making her escape; so she\\nset off at once, and ran till she was quite tired and out of breath, and\\ntill the puppy\\'s bark sounded quite faint in the distance.\\n\\n\\'And yet what a dear little puppy it was!\\' said Alice, as she leant\\nagainst a buttercup to rest herself, and fanned herself with one of the\\nleaves: \\'I should have liked teaching it tricks very much, if--if I\\'d\\nonly been the right size to do it! Oh dear! I\\'d nearly forgotten that\\nI\\'ve got to grow up again! Let me see--how IS it to be managed? I\\nsuppose I ought to eat or drink something or other; but the great\\nquestion is, what?\\'\\n\\nThe great question certainly was, what? Alice looked all round her at\\nthe flowers and the blades of grass, but she did not see anything that\\nlooked like the right thing to eat or drink under the circumstances.\\nThere was a large mushroom growing near her, about the same height as\\nherself; and when she had looked under it, and on both sides of it, and\\nbehind it, it occurred to her that she might as well look and see what\\nwas on the top of it.\\n\\nShe stretched herself up on tiptoe, and peeped over the edge of the\\nmushroom, and her eyes immediately met those of a large caterpillar,\\nthat was sitting on the top with its arms folded, quietly smoking a long\\nhookah, and taking not the smallest notice of her or of anything else.\\n\\n\\n\\n\\nCHAPTER V. Advice from a Caterpillar\\n\\nThe Caterpillar and Alice looked at each other for some time in silence:\\nat last the Caterpillar took the hookah out of its mouth, and addressed\\nher in a languid, sleepy voice.\\n\\n\\'Who are YOU?\\' said the Caterpillar.\\n\\nThis was not an encouraging opening for a conversation. Alice replied,\\nrather shyly, \\'I--I hardly know, sir, just at present--at least I know\\nwho I WAS when I got up this morning, but I think I must have been\\nchanged several times since then.\\'\\n\\n\\'What do you mean by that?\\' said the Caterpillar sternly. \\'Explain\\nyourself!\\'\\n\\n\\'I can\\'t explain MYSELF, I\\'m afraid, sir\\' said Alice, \\'because I\\'m not\\nmyself, you see.\\'\\n\\n\\'I don\\'t see,\\' said the Caterpillar.\\n\\n\\'I\\'m afraid I can\\'t put it more clearly,\\' Alice replied very politely,\\n\\'for I can\\'t understand it myself to begin with; and being so many\\ndifferent sizes in a day is very confusing.\\'\\n\\n\\'It isn\\'t,\\' said the Caterpillar.\\n\\n\\'Well, perhaps you haven\\'t found it so yet,\\' said Alice; \\'but when you\\nhave to turn into a chrysalis--you will some day, you know--and then\\nafter that into a butterfly, I should think you\\'ll feel it a little\\nqueer, won\\'t you?\\'\\n\\n\\'Not a bit,\\' said the Caterpillar.\\n\\n\\'Well, perhaps your feelings may be different,\\' said Alice; \\'all I know\\nis, it would feel very queer to ME.\\'\\n\\n\\'You!\\' said the Caterpillar contemptuously. \\'Who are YOU?\\'\\n\\nWhich brought them back again to the beginning of the conversation.\\nAlice felt a little irritated at the Caterpillar\\'s making such VERY\\nshort remarks, and she drew herself up and said, very gravely, \\'I think,\\nyou ought to tell me who YOU are, first.\\'\\n\\n\\'Why?\\' said the Caterpillar.\\n\\nHere was another puzzling question; and as Alice could not think of any\\ngood reason, and as the Caterpillar seemed to be in a VERY unpleasant\\nstate of mind, she turned away.\\n\\n\\'Come back!\\' the Caterpillar called after her. \\'I\\'ve something important\\nto say!\\'\\n\\nThis sounded promising, certainly: Alice turned and came back again.\\n\\n\\'Keep your temper,\\' said the Caterpillar.\\n\\n\\'Is that all?\\' said Alice, swallowing down her anger as well as she\\ncould.\\n\\n\\'No,\\' said the Caterpillar.\\n\\nAlice thought she might as well wait, as she had nothing else to do, and\\nperhaps after all it might tell her something worth hearing. For some\\nminutes it puffed away without speaking, but at last it unfolded its\\narms, took the hookah out of its mouth again, and said, \\'So you think\\nyou\\'re changed, do you?\\'\\n\\n\\'I\\'m afraid I am, sir,\\' said Alice; \\'I can\\'t remember things as I\\nused--and I don\\'t keep the same size for ten minutes together!\\'\\n\\n\\'Can\\'t remember WHAT things?\\' said the Caterpillar.\\n\\n\\'Well, I\\'ve tried to say \"HOW DOTH THE LITTLE BUSY BEE,\" but it all came\\ndifferent!\\' Alice replied in a very melancholy voice.\\n\\n\\'Repeat, \"YOU ARE OLD, FATHER WILLIAM,\"\\' said the Caterpillar.\\n\\nAlice folded her hands, and began:--\\n\\n   \\'You are old, Father William,\\' the young man said,\\n    \\'And your hair has become very white;\\n   And yet you incessantly stand on your head--\\n    Do you think, at your age, it is right?\\'\\n\\n   \\'In my youth,\\' Father William replied to his son,\\n    \\'I feared it might injure the brain;\\n   But, now that I\\'m perfectly sure I have none,\\n    Why, I do it again and again.\\'\\n\\n   \\'You are old,\\' said the youth, \\'as I mentioned before,\\n    And have grown most uncommonly fat;\\n   Yet you turned a back-somersault in at the door--\\n    Pray, what is the reason of that?\\'\\n\\n   \\'In my youth,\\' said the sage, as he shook his grey locks,\\n    \\'I kept all my limbs very supple\\n   By the use of this ointment--one shilling the box--\\n    Allow me to sell you a couple?\\'\\n\\n   \\'You are old,\\' said the youth, \\'and your jaws are too weak\\n    For anything tougher than suet;\\n   Yet you finished the goose, with the bones and the beak--\\n    Pray how did you manage to do it?\\'\\n\\n   \\'In my youth,\\' said his father, \\'I took to the law,\\n    And argued each case with my wife;\\n   And the muscular strength, which it gave to my jaw,\\n    Has lasted the rest of my life.\\'\\n\\n   \\'You are old,\\' said the youth, \\'one would hardly suppose\\n    That your eye was as steady as ever;\\n   Yet you balanced an eel on the end of your nose--\\n    What made you so awfully clever?\\'\\n\\n   \\'I have answered three questions, and that is enough,\\'\\n    Said his father; \\'don\\'t give yourself airs!\\n   Do you think I can listen all day to such stuff?\\n    Be off, or I\\'ll kick you down stairs!\\'\\n\\n\\n\\'That is not said right,\\' said the Caterpillar.\\n\\n\\'Not QUITE right, I\\'m afraid,\\' said Alice, timidly; \\'some of the words\\nhave got altered.\\'\\n\\n\\'It is wrong from beginning to end,\\' said the Caterpillar decidedly, and\\nthere was silence for some minutes.\\n\\nThe Caterpillar was the first to speak.\\n\\n\\'What size do you want to be?\\' it asked.\\n\\n\\'Oh, I\\'m not particular as to size,\\' Alice hastily replied; \\'only one\\ndoesn\\'t like changing so often, you know.\\'\\n\\n\\'I DON\\'T know,\\' said the Caterpillar.\\n\\nAlice said nothing: she had never been so much contradicted in her life\\nbefore, and she felt that she was losing her temper.\\n\\n\\'Are you content now?\\' said the Caterpillar.\\n\\n\\'Well, I should like to be a LITTLE larger, sir, if you wouldn\\'t mind,\\'\\nsaid Alice: \\'three inches is such a wretched height to be.\\'\\n\\n\\'It is a very good height indeed!\\' said the Caterpillar angrily, rearing\\nitself upright as it spoke (it was exactly three inches high).\\n\\n\\'But I\\'m not used to it!\\' pleaded poor Alice in a piteous tone. And\\nshe thought of herself, \\'I wish the creatures wouldn\\'t be so easily\\noffended!\\'\\n\\n\\'You\\'ll get used to it in time,\\' said the Caterpillar; and it put the\\nhookah into its mouth and began smoking again.\\n\\nThis time Alice waited patiently until it chose to speak again. In\\na minute or two the Caterpillar took the hookah out of its mouth\\nand yawned once or twice, and shook itself. Then it got down off the\\nmushroom, and crawled away in the grass, merely remarking as it went,\\n\\'One side will make you grow taller, and the other side will make you\\ngrow shorter.\\'\\n\\n\\'One side of WHAT? The other side of WHAT?\\' thought Alice to herself.\\n\\n\\'Of the mushroom,\\' said the Caterpillar, just as if she had asked it\\naloud; and in another moment it was out of sight.\\n\\nAlice remained looking thoughtfully at the mushroom for a minute, trying\\nto make out which were the two sides of it; and as it was perfectly\\nround, she found this a very difficult question. However, at last she\\nstretched her arms round it as far as they would go, and broke off a bit\\nof the edge with each hand.\\n\\n\\'And now which is which?\\' she said to herself, and nibbled a little of\\nthe right-hand bit to try the effect: the next moment she felt a violent\\nblow underneath her chin: it had struck her foot!\\n\\nShe was a good deal frightened by this very sudden change, but she felt\\nthat there was no time to be lost, as she was shrinking rapidly; so she\\nset to work at once to eat some of the other bit. Her chin was pressed\\nso closely against her foot, that there was hardly room to open her\\nmouth; but she did it at last, and managed to swallow a morsel of the\\nlefthand bit.\\n\\n\\n  *    *    *    *    *    *    *\\n\\n    *    *    *    *    *    *\\n\\n  *    *    *    *    *    *    *\\n\\n\\'Come, my head\\'s free at last!\\' said Alice in a tone of delight, which\\nchanged into alarm in another moment, when she found that her shoulders\\nwere nowhere to be found: all she could see, when she looked down, was\\nan immense length of neck, which seemed to rise like a stalk out of a\\nsea of green leaves that lay far below her.\\n\\n\\'What CAN all that green stuff be?\\' said Alice. \\'And where HAVE my\\nshoulders got to? And oh, my poor hands, how is it I can\\'t see you?\\'\\nShe was moving them about as she spoke, but no result seemed to follow,\\nexcept a little shaking among the distant green leaves.\\n\\nAs there seemed to be no chance of getting her hands up to her head, she\\ntried to get her head down to them, and was delighted to find that her\\nneck would bend about easily in any direction, like a serpent. She had\\njust succeeded in curving it down into a graceful zigzag, and was going\\nto dive in among the leaves, which she found to be nothing but the tops\\nof the trees under which she had been wandering, when a sharp hiss made\\nher draw back in a hurry: a large pigeon had flown into her face, and\\nwas beating her violently with its wings.\\n\\n\\'Serpent!\\' screamed the Pigeon.\\n\\n\\'I\\'m NOT a serpent!\\' said Alice indignantly. \\'Let me alone!\\'\\n\\n\\'Serpent, I say again!\\' repeated the Pigeon, but in a more subdued tone,\\nand added with a kind of sob, \\'I\\'ve tried every way, and nothing seems\\nto suit them!\\'\\n\\n\\'I haven\\'t the least idea what you\\'re talking about,\\' said Alice.\\n\\n\\'I\\'ve tried the roots of trees, and I\\'ve tried banks, and I\\'ve tried\\nhedges,\\' the Pigeon went on, without attending to her; \\'but those\\nserpents! There\\'s no pleasing them!\\'\\n\\nAlice was more and more puzzled, but she thought there was no use in\\nsaying anything more till the Pigeon had finished.\\n\\n\\'As if it wasn\\'t trouble enough hatching the eggs,\\' said the Pigeon;\\n\\'but I must be on the look-out for serpents night and day! Why, I\\nhaven\\'t had a wink of sleep these three weeks!\\'\\n\\n\\'I\\'m very sorry you\\'ve been annoyed,\\' said Alice, who was beginning to\\nsee its meaning.\\n\\n\\'And just as I\\'d taken the highest tree in the wood,\\' continued the\\nPigeon, raising its voice to a shriek, \\'and just as I was thinking I\\nshould be free of them at last, they must needs come wriggling down from\\nthe sky! Ugh, Serpent!\\'\\n\\n\\'But I\\'m NOT a serpent, I tell you!\\' said Alice. \\'I\\'m a--I\\'m a--\\'\\n\\n\\'Well! WHAT are you?\\' said the Pigeon. \\'I can see you\\'re trying to\\ninvent something!\\'\\n\\n\\'I--I\\'m a little girl,\\' said Alice, rather doubtfully, as she remembered\\nthe number of changes she had gone through that day.\\n\\n\\'A likely story indeed!\\' said the Pigeon in a tone of the deepest\\ncontempt. \\'I\\'ve seen a good many little girls in my time, but never ONE\\nwith such a neck as that! No, no! You\\'re a serpent; and there\\'s no use\\ndenying it. I suppose you\\'ll be telling me next that you never tasted an\\negg!\\'\\n\\n\\'I HAVE tasted eggs, certainly,\\' said Alice, who was a very truthful\\nchild; \\'but little girls eat eggs quite as much as serpents do, you\\nknow.\\'\\n\\n\\'I don\\'t believe it,\\' said the Pigeon; \\'but if they do, why then they\\'re\\na kind of serpent, that\\'s all I can say.\\'\\n\\nThis was such a new idea to Alice, that she was quite silent for a\\nminute or two, which gave the Pigeon the opportunity of adding, \\'You\\'re\\nlooking for eggs, I know THAT well enough; and what does it matter to me\\nwhether you\\'re a little girl or a serpent?\\'\\n\\n\\'It matters a good deal to ME,\\' said Alice hastily; \\'but I\\'m not looking\\nfor eggs, as it happens; and if I was, I shouldn\\'t want YOURS: I don\\'t\\nlike them raw.\\'\\n\\n\\'Well, be off, then!\\' said the Pigeon in a sulky tone, as it settled\\ndown again into its nest. Alice crouched down among the trees as well as\\nshe could, for her neck kept getting entangled among the branches, and\\nevery now and then she had to stop and untwist it. After a while she\\nremembered that she still held the pieces of mushroom in her hands, and\\nshe set to work very carefully, nibbling first at one and then at the\\nother, and growing sometimes taller and sometimes shorter, until she had\\nsucceeded in bringing herself down to her usual height.\\n\\nIt was so long since she had been anything near the right size, that it\\nfelt quite strange at first; but she got used to it in a few minutes,\\nand began talking to herself, as usual. \\'Come, there\\'s half my plan done\\nnow! How puzzling all these changes are! I\\'m never sure what I\\'m going\\nto be, from one minute to another! However, I\\'ve got back to my right\\nsize: the next thing is, to get into that beautiful garden--how IS that\\nto be done, I wonder?\\' As she said this, she came suddenly upon an open\\nplace, with a little house in it about four feet high. \\'Whoever lives\\nthere,\\' thought Alice, \\'it\\'ll never do to come upon them THIS size: why,\\nI should frighten them out of their wits!\\' So she began nibbling at the\\nrighthand bit again, and did not venture to go near the house till she\\nhad brought herself down to nine inches high.\\n\\n\\n\\n\\nCHAPTER VI. Pig and Pepper\\n\\nFor a minute or two she stood looking at the house, and wondering what\\nto do next, when suddenly a footman in livery came running out of the\\nwood--(she considered him to be a footman because he was in livery:\\notherwise, judging by his face only, she would have called him a\\nfish)--and rapped loudly at the door with his knuckles. It was opened\\nby another footman in livery, with a round face, and large eyes like a\\nfrog; and both footmen, Alice noticed, had powdered hair that curled all\\nover their heads. She felt very curious to know what it was all about,\\nand crept a little way out of the wood to listen.\\n\\nThe Fish-Footman began by producing from under his arm a great letter,\\nnearly as large as himself, and this he handed over to the other,\\nsaying, in a solemn tone, \\'For the Duchess. An invitation from the Queen\\nto play croquet.\\' The Frog-Footman repeated, in the same solemn tone,\\nonly changing the order of the words a little, \\'From the Queen. An\\ninvitation for the Duchess to play croquet.\\'\\n\\nThen they both bowed low, and their curls got entangled together.\\n\\nAlice laughed so much at this, that she had to run back into the\\nwood for fear of their hearing her; and when she next peeped out the\\nFish-Footman was gone, and the other was sitting on the ground near the\\ndoor, staring stupidly up into the sky.\\n\\nAlice went timidly up to the door, and knocked.\\n\\n\\'There\\'s no sort of use in knocking,\\' said the Footman, \\'and that for\\ntwo reasons. First, because I\\'m on the same side of the door as you\\nare; secondly, because they\\'re making such a noise inside, no one could\\npossibly hear you.\\' And certainly there was a most extraordinary noise\\ngoing on within--a constant howling and sneezing, and every now and then\\na great crash, as if a dish or kettle had been broken to pieces.\\n\\n\\'Please, then,\\' said Alice, \\'how am I to get in?\\'\\n\\n\\'There might be some sense in your knocking,\\' the Footman went on\\nwithout attending to her, \\'if we had the door between us. For instance,\\nif you were INSIDE, you might knock, and I could let you out, you know.\\'\\nHe was looking up into the sky all the time he was speaking, and this\\nAlice thought decidedly uncivil. \\'But perhaps he can\\'t help it,\\' she\\nsaid to herself; \\'his eyes are so VERY nearly at the top of his head.\\nBut at any rate he might answer questions.--How am I to get in?\\' she\\nrepeated, aloud.\\n\\n\\'I shall sit here,\\' the Footman remarked, \\'till tomorrow--\\'\\n\\nAt this moment the door of the house opened, and a large plate came\\nskimming out, straight at the Footman\\'s head: it just grazed his nose,\\nand broke to pieces against one of the trees behind him.\\n\\n\\'--or next day, maybe,\\' the Footman continued in the same tone, exactly\\nas if nothing had happened.\\n\\n\\'How am I to get in?\\' asked Alice again, in a louder tone.\\n\\n\\'ARE you to get in at all?\\' said the Footman. \\'That\\'s the first\\nquestion, you know.\\'\\n\\nIt was, no doubt: only Alice did not like to be told so. \\'It\\'s really\\ndreadful,\\' she muttered to herself, \\'the way all the creatures argue.\\nIt\\'s enough to drive one crazy!\\'\\n\\nThe Footman seemed to think this a good opportunity for repeating his\\nremark, with variations. \\'I shall sit here,\\' he said, \\'on and off, for\\ndays and days.\\'\\n\\n\\'But what am I to do?\\' said Alice.\\n\\n\\'Anything you like,\\' said the Footman, and began whistling.\\n\\n\\'Oh, there\\'s no use in talking to him,\\' said Alice desperately: \\'he\\'s\\nperfectly idiotic!\\' And she opened the door and went in.\\n\\nThe door led right into a large kitchen, which was full of smoke from\\none end to the other: the Duchess was sitting on a three-legged stool in\\nthe middle, nursing a baby; the cook was leaning over the fire, stirring\\na large cauldron which seemed to be full of soup.\\n\\n\\'There\\'s certainly too much pepper in that soup!\\' Alice said to herself,\\nas well as she could for sneezing.\\n\\nThere was certainly too much of it in the air. Even the Duchess\\nsneezed occasionally; and as for the baby, it was sneezing and howling\\nalternately without a moment\\'s pause. The only things in the kitchen\\nthat did not sneeze, were the cook, and a large cat which was sitting on\\nthe hearth and grinning from ear to ear.\\n\\n\\'Please would you tell me,\\' said Alice, a little timidly, for she was\\nnot quite sure whether it was good manners for her to speak first, \\'why\\nyour cat grins like that?\\'\\n\\n\\'It\\'s a Cheshire cat,\\' said the Duchess, \\'and that\\'s why. Pig!\\'\\n\\nShe said the last word with such sudden violence that Alice quite\\njumped; but she saw in another moment that it was addressed to the baby,\\nand not to her, so she took courage, and went on again:--\\n\\n\\'I didn\\'t know that Cheshire cats always grinned; in fact, I didn\\'t know\\nthat cats COULD grin.\\'\\n\\n\\'They all can,\\' said the Duchess; \\'and most of \\'em do.\\'\\n\\n\\'I don\\'t know of any that do,\\' Alice said very politely, feeling quite\\npleased to have got into a conversation.\\n\\n\\'You don\\'t know much,\\' said the Duchess; \\'and that\\'s a fact.\\'\\n\\nAlice did not at all like the tone of this remark, and thought it would\\nbe as well to introduce some other subject of conversation. While she\\nwas trying to fix on one, the cook took the cauldron of soup off the\\nfire, and at once set to work throwing everything within her reach at\\nthe Duchess and the baby--the fire-irons came first; then followed a\\nshower of saucepans, plates, and dishes. The Duchess took no notice of\\nthem even when they hit her; and the baby was howling so much already,\\nthat it was quite impossible to say whether the blows hurt it or not.\\n\\n\\'Oh, PLEASE mind what you\\'re doing!\\' cried Alice, jumping up and down in\\nan agony of terror. \\'Oh, there goes his PRECIOUS nose\\'; as an unusually\\nlarge saucepan flew close by it, and very nearly carried it off.\\n\\n\\'If everybody minded their own business,\\' the Duchess said in a hoarse\\ngrowl, \\'the world would go round a deal faster than it does.\\'\\n\\n\\'Which would NOT be an advantage,\\' said Alice, who felt very glad to get\\nan opportunity of showing off a little of her knowledge. \\'Just think of\\nwhat work it would make with the day and night! You see the earth takes\\ntwenty-four hours to turn round on its axis--\\'\\n\\n\\'Talking of axes,\\' said the Duchess, \\'chop off her head!\\'\\n\\nAlice glanced rather anxiously at the cook, to see if she meant to take\\nthe hint; but the cook was busily stirring the soup, and seemed not to\\nbe listening, so she went on again: \\'Twenty-four hours, I THINK; or is\\nit twelve? I--\\'\\n\\n\\'Oh, don\\'t bother ME,\\' said the Duchess; \\'I never could abide figures!\\'\\nAnd with that she began nursing her child again, singing a sort of\\nlullaby to it as she did so, and giving it a violent shake at the end of\\nevery line:\\n\\n   \\'Speak roughly to your little boy,\\n    And beat him when he sneezes:\\n   He only does it to annoy,\\n    Because he knows it teases.\\'\\n\\n         CHORUS.\\n\\n (In which the cook and the baby joined):--\\n\\n       \\'Wow! wow! wow!\\'\\n\\nWhile the Duchess sang the second verse of the song, she kept tossing\\nthe baby violently up and down, and the poor little thing howled so,\\nthat Alice could hardly hear the words:--\\n\\n   \\'I speak severely to my boy,\\n    I beat him when he sneezes;\\n   For he can thoroughly enjoy\\n    The pepper when he pleases!\\'\\n\\n         CHORUS.\\n\\n       \\'Wow! wow! wow!\\'\\n\\n\\'Here! you may nurse it a bit, if you like!\\' the Duchess said to Alice,\\nflinging the baby at her as she spoke. \\'I must go and get ready to play\\ncroquet with the Queen,\\' and she hurried out of the room. The cook threw\\na frying-pan after her as she went out, but it just missed her.\\n\\nAlice caught the baby with some difficulty, as it was a queer-shaped\\nlittle creature, and held out its arms and legs in all directions, \\'just\\nlike a star-fish,\\' thought Alice. The poor little thing was snorting\\nlike a steam-engine when she caught it, and kept doubling itself up and\\nstraightening itself out again, so that altogether, for the first minute\\nor two, it was as much as she could do to hold it.\\n\\nAs soon as she had made out the proper way of nursing it, (which was to\\ntwist it up into a sort of knot, and then keep tight hold of its right\\near and left foot, so as to prevent its undoing itself,) she carried\\nit out into the open air. \\'IF I don\\'t take this child away with me,\\'\\nthought Alice, \\'they\\'re sure to kill it in a day or two: wouldn\\'t it be\\nmurder to leave it behind?\\' She said the last words out loud, and the\\nlittle thing grunted in reply (it had left off sneezing by this time).\\n\\'Don\\'t grunt,\\' said Alice; \\'that\\'s not at all a proper way of expressing\\nyourself.\\'\\n\\nThe baby grunted again, and Alice looked very anxiously into its face to\\nsee what was the matter with it. There could be no doubt that it had\\na VERY turn-up nose, much more like a snout than a real nose; also its\\neyes were getting extremely small for a baby: altogether Alice did not\\nlike the look of the thing at all. \\'But perhaps it was only sobbing,\\'\\nshe thought, and looked into its eyes again, to see if there were any\\ntears.\\n\\nNo, there were no tears. \\'If you\\'re going to turn into a pig, my dear,\\'\\nsaid Alice, seriously, \\'I\\'ll have nothing more to do with you. Mind\\nnow!\\' The poor little thing sobbed again (or grunted, it was impossible\\nto say which), and they went on for some while in silence.\\n\\nAlice was just beginning to think to herself, \\'Now, what am I to do with\\nthis creature when I get it home?\\' when it grunted again, so violently,\\nthat she looked down into its face in some alarm. This time there could\\nbe NO mistake about it: it was neither more nor less than a pig, and she\\nfelt that it would be quite absurd for her to carry it further.\\n\\nSo she set the little creature down, and felt quite relieved to see\\nit trot away quietly into the wood. \\'If it had grown up,\\' she said\\nto herself, \\'it would have made a dreadfully ugly child: but it makes\\nrather a handsome pig, I think.\\' And she began thinking over other\\nchildren she knew, who might do very well as pigs, and was just saying\\nto herself, \\'if one only knew the right way to change them--\\' when she\\nwas a little startled by seeing the Cheshire Cat sitting on a bough of a\\ntree a few yards off.\\n\\nThe Cat only grinned when it saw Alice. It looked good-natured, she\\nthought: still it had VERY long claws and a great many teeth, so she\\nfelt that it ought to be treated with respect.\\n\\n\\'Cheshire Puss,\\' she began, rather timidly, as she did not at all know\\nwhether it would like the name: however, it only grinned a little wider.\\n\\'Come, it\\'s pleased so far,\\' thought Alice, and she went on. \\'Would you\\ntell me, please, which way I ought to go from here?\\'\\n\\n\\'That depends a good deal on where you want to get to,\\' said the Cat.\\n\\n\\'I don\\'t much care where--\\' said Alice.\\n\\n\\'Then it doesn\\'t matter which way you go,\\' said the Cat.\\n\\n\\'--so long as I get SOMEWHERE,\\' Alice added as an explanation.\\n\\n\\'Oh, you\\'re sure to do that,\\' said the Cat, \\'if you only walk long\\nenough.\\'\\n\\nAlice felt that this could not be denied, so she tried another question.\\n\\'What sort of people live about here?\\'\\n\\n\\'In THAT direction,\\' the Cat said, waving its right paw round, \\'lives\\na Hatter: and in THAT direction,\\' waving the other paw, \\'lives a March\\nHare. Visit either you like: they\\'re both mad.\\'\\n\\n\\'But I don\\'t want to go among mad people,\\' Alice remarked.\\n\\n\\'Oh, you can\\'t help that,\\' said the Cat: \\'we\\'re all mad here. I\\'m mad.\\nYou\\'re mad.\\'\\n\\n\\'How do you know I\\'m mad?\\' said Alice.\\n\\n\\'You must be,\\' said the Cat, \\'or you wouldn\\'t have come here.\\'\\n\\nAlice didn\\'t think that proved it at all; however, she went on \\'And how\\ndo you know that you\\'re mad?\\'\\n\\n\\'To begin with,\\' said the Cat, \\'a dog\\'s not mad. You grant that?\\'\\n\\n\\'I suppose so,\\' said Alice.\\n\\n\\'Well, then,\\' the Cat went on, \\'you see, a dog growls when it\\'s angry,\\nand wags its tail when it\\'s pleased. Now I growl when I\\'m pleased, and\\nwag my tail when I\\'m angry. Therefore I\\'m mad.\\'\\n\\n\\'I call it purring, not growling,\\' said Alice.\\n\\n\\'Call it what you like,\\' said the Cat. \\'Do you play croquet with the\\nQueen to-day?\\'\\n\\n\\'I should like it very much,\\' said Alice, \\'but I haven\\'t been invited\\nyet.\\'\\n\\n\\'You\\'ll see me there,\\' said the Cat, and vanished.\\n\\nAlice was not much surprised at this, she was getting so used to queer\\nthings happening. While she was looking at the place where it had been,\\nit suddenly appeared again.\\n\\n\\'By-the-bye, what became of the baby?\\' said the Cat. \\'I\\'d nearly\\nforgotten to ask.\\'\\n\\n\\'It turned into a pig,\\' Alice quietly said, just as if it had come back\\nin a natural way.\\n\\n\\'I thought it would,\\' said the Cat, and vanished again.\\n\\nAlice waited a little, half expecting to see it again, but it did not\\nappear, and after a minute or two she walked on in the direction in\\nwhich the March Hare was said to live. \\'I\\'ve seen hatters before,\\' she\\nsaid to herself; \\'the March Hare will be much the most interesting, and\\nperhaps as this is May it won\\'t be raving mad--at least not so mad as\\nit was in March.\\' As she said this, she looked up, and there was the Cat\\nagain, sitting on a branch of a tree.\\n\\n\\'Did you say pig, or fig?\\' said the Cat.\\n\\n\\'I said pig,\\' replied Alice; \\'and I wish you wouldn\\'t keep appearing and\\nvanishing so suddenly: you make one quite giddy.\\'\\n\\n\\'All right,\\' said the Cat; and this time it vanished quite slowly,\\nbeginning with the end of the tail, and ending with the grin, which\\nremained some time after the rest of it had gone.\\n\\n\\'Well! I\\'ve often seen a cat without a grin,\\' thought Alice; \\'but a grin\\nwithout a cat! It\\'s the most curious thing I ever saw in my life!\\'\\n\\nShe had not gone much farther before she came in sight of the house\\nof the March Hare: she thought it must be the right house, because the\\nchimneys were shaped like ears and the roof was thatched with fur. It\\nwas so large a house, that she did not like to go nearer till she had\\nnibbled some more of the lefthand bit of mushroom, and raised herself to\\nabout two feet high: even then she walked up towards it rather timidly,\\nsaying to herself \\'Suppose it should be raving mad after all! I almost\\nwish I\\'d gone to see the Hatter instead!\\'\\n\\n\\n\\n\\nCHAPTER VII. A Mad Tea-Party\\n\\nThere was a table set out under a tree in front of the house, and the\\nMarch Hare and the Hatter were having tea at it: a Dormouse was sitting\\nbetween them, fast asleep, and the other two were using it as a\\ncushion, resting their elbows on it, and talking over its head. \\'Very\\nuncomfortable for the Dormouse,\\' thought Alice; \\'only, as it\\'s asleep, I\\nsuppose it doesn\\'t mind.\\'\\n\\nThe table was a large one, but the three were all crowded together at\\none corner of it: \\'No room! No room!\\' they cried out when they saw Alice\\ncoming. \\'There\\'s PLENTY of room!\\' said Alice indignantly, and she sat\\ndown in a large arm-chair at one end of the table.\\n\\n\\'Have some wine,\\' the March Hare said in an encouraging tone.\\n\\nAlice looked all round the table, but there was nothing on it but tea.\\n\\'I don\\'t see any wine,\\' she remarked.\\n\\n\\'There isn\\'t any,\\' said the March Hare.\\n\\n\\'Then it wasn\\'t very civil of you to offer it,\\' said Alice angrily.\\n\\n\\'It wasn\\'t very civil of you to sit down without being invited,\\' said\\nthe March Hare.\\n\\n\\'I didn\\'t know it was YOUR table,\\' said Alice; \\'it\\'s laid for a great\\nmany more than three.\\'\\n\\n\\'Your hair wants cutting,\\' said the Hatter. He had been looking at Alice\\nfor some time with great curiosity, and this was his first speech.\\n\\n\\'You should learn not to make personal remarks,\\' Alice said with some\\nseverity; \\'it\\'s very rude.\\'\\n\\nThe Hatter opened his eyes very wide on hearing this; but all he SAID\\nwas, \\'Why is a raven like a writing-desk?\\'\\n\\n\\'Come, we shall have some fun now!\\' thought Alice. \\'I\\'m glad they\\'ve\\nbegun asking riddles.--I believe I can guess that,\\' she added aloud.\\n\\n\\'Do you mean that you think you can find out the answer to it?\\' said the\\nMarch Hare.\\n\\n\\'Exactly so,\\' said Alice.\\n\\n\\'Then you should say what you mean,\\' the March Hare went on.\\n\\n\\'I do,\\' Alice hastily replied; \\'at least--at least I mean what I\\nsay--that\\'s the same thing, you know.\\'\\n\\n\\'Not the same thing a bit!\\' said the Hatter. \\'You might just as well say\\nthat \"I see what I eat\" is the same thing as \"I eat what I see\"!\\'\\n\\n\\'You might just as well say,\\' added the March Hare, \\'that \"I like what I\\nget\" is the same thing as \"I get what I like\"!\\'\\n\\n\\'You might just as well say,\\' added the Dormouse, who seemed to be\\ntalking in his sleep, \\'that \"I breathe when I sleep\" is the same thing\\nas \"I sleep when I breathe\"!\\'\\n\\n\\'It IS the same thing with you,\\' said the Hatter, and here the\\nconversation dropped, and the party sat silent for a minute, while Alice\\nthought over all she could remember about ravens and writing-desks,\\nwhich wasn\\'t much.\\n\\nThe Hatter was the first to break the silence. \\'What day of the month\\nis it?\\' he said, turning to Alice: he had taken his watch out of his\\npocket, and was looking at it uneasily, shaking it every now and then,\\nand holding it to his ear.\\n\\nAlice considered a little, and then said \\'The fourth.\\'\\n\\n\\'Two days wrong!\\' sighed the Hatter. \\'I told you butter wouldn\\'t suit\\nthe works!\\' he added looking angrily at the March Hare.\\n\\n\\'It was the BEST butter,\\' the March Hare meekly replied.\\n\\n\\'Yes, but some crumbs must have got in as well,\\' the Hatter grumbled:\\n\\'you shouldn\\'t have put it in with the bread-knife.\\'\\n\\nThe March Hare took the watch and looked at it gloomily: then he dipped\\nit into his cup of tea, and looked at it again: but he could think of\\nnothing better to say than his first remark, \\'It was the BEST butter,\\nyou know.\\'\\n\\nAlice had been looking over his shoulder with some curiosity. \\'What a\\nfunny watch!\\' she remarked. \\'It tells the day of the month, and doesn\\'t\\ntell what o\\'clock it is!\\'\\n\\n\\'Why should it?\\' muttered the Hatter. \\'Does YOUR watch tell you what\\nyear it is?\\'\\n\\n\\'Of course not,\\' Alice replied very readily: \\'but that\\'s because it\\nstays the same year for such a long time together.\\'\\n\\n\\'Which is just the case with MINE,\\' said the Hatter.\\n\\nAlice felt dreadfully puzzled. The Hatter\\'s remark seemed to have no\\nsort of meaning in it, and yet it was certainly English. \\'I don\\'t quite\\nunderstand you,\\' she said, as politely as she could.\\n\\n\\'The Dormouse is asleep again,\\' said the Hatter, and he poured a little\\nhot tea upon its nose.\\n\\nThe Dormouse shook its head impatiently, and said, without opening its\\neyes, \\'Of course, of course; just what I was going to remark myself.\\'\\n\\n\\'Have you guessed the riddle yet?\\' the Hatter said, turning to Alice\\nagain.\\n\\n\\'No, I give it up,\\' Alice replied: \\'what\\'s the answer?\\'\\n\\n\\'I haven\\'t the slightest idea,\\' said the Hatter.\\n\\n\\'Nor I,\\' said the March Hare.\\n\\nAlice sighed wearily. \\'I think you might do something better with the\\ntime,\\' she said, \\'than waste it in asking riddles that have no answers.\\'\\n\\n\\'If you knew Time as well as I do,\\' said the Hatter, \\'you wouldn\\'t talk\\nabout wasting IT. It\\'s HIM.\\'\\n\\n\\'I don\\'t know what you mean,\\' said Alice.\\n\\n\\'Of course you don\\'t!\\' the Hatter said, tossing his head contemptuously.\\n\\'I dare say you never even spoke to Time!\\'\\n\\n\\'Perhaps not,\\' Alice cautiously replied: \\'but I know I have to beat time\\nwhen I learn music.\\'\\n\\n\\'Ah! that accounts for it,\\' said the Hatter. \\'He won\\'t stand beating.\\nNow, if you only kept on good terms with him, he\\'d do almost anything\\nyou liked with the clock. For instance, suppose it were nine o\\'clock in\\nthe morning, just time to begin lessons: you\\'d only have to whisper a\\nhint to Time, and round goes the clock in a twinkling! Half-past one,\\ntime for dinner!\\'\\n\\n(\\'I only wish it was,\\' the March Hare said to itself in a whisper.)\\n\\n\\'That would be grand, certainly,\\' said Alice thoughtfully: \\'but then--I\\nshouldn\\'t be hungry for it, you know.\\'\\n\\n\\'Not at first, perhaps,\\' said the Hatter: \\'but you could keep it to\\nhalf-past one as long as you liked.\\'\\n\\n\\'Is that the way YOU manage?\\' Alice asked.\\n\\nThe Hatter shook his head mournfully. \\'Not I!\\' he replied. \\'We\\nquarrelled last March--just before HE went mad, you know--\\' (pointing\\nwith his tea spoon at the March Hare,) \\'--it was at the great concert\\ngiven by the Queen of Hearts, and I had to sing\\n\\n     \"Twinkle, twinkle, little bat!\\n     How I wonder what you\\'re at!\"\\n\\nYou know the song, perhaps?\\'\\n\\n\\'I\\'ve heard something like it,\\' said Alice.\\n\\n\\'It goes on, you know,\\' the Hatter continued, \\'in this way:--\\n\\n     \"Up above the world you fly,\\n     Like a tea-tray in the sky.\\n         Twinkle, twinkle--\"\\'\\n\\nHere the Dormouse shook itself, and began singing in its sleep \\'Twinkle,\\ntwinkle, twinkle, twinkle--\\' and went on so long that they had to pinch\\nit to make it stop.\\n\\n\\'Well, I\\'d hardly finished the first verse,\\' said the Hatter, \\'when the\\nQueen jumped up and bawled out, \"He\\'s murdering the time! Off with his\\nhead!\"\\'\\n\\n\\'How dreadfully savage!\\' exclaimed Alice.\\n\\n\\'And ever since that,\\' the Hatter went on in a mournful tone, \\'he won\\'t\\ndo a thing I ask! It\\'s always six o\\'clock now.\\'\\n\\nA bright idea came into Alice\\'s head. \\'Is that the reason so many\\ntea-things are put out here?\\' she asked.\\n\\n\\'Yes, that\\'s it,\\' said the Hatter with a sigh: \\'it\\'s always tea-time,\\nand we\\'ve no time to wash the things between whiles.\\'\\n\\n\\'Then you keep moving round, I suppose?\\' said Alice.\\n\\n\\'Exactly so,\\' said the Hatter: \\'as the things get used up.\\'\\n\\n\\'But what happens when you come to the beginning again?\\' Alice ventured\\nto ask.\\n\\n\\'Suppose we change the subject,\\' the March Hare interrupted, yawning.\\n\\'I\\'m getting tired of this. I vote the young lady tells us a story.\\'\\n\\n\\'I\\'m afraid I don\\'t know one,\\' said Alice, rather alarmed at the\\nproposal.\\n\\n\\'Then the Dormouse shall!\\' they both cried. \\'Wake up, Dormouse!\\' And\\nthey pinched it on both sides at once.\\n\\nThe Dormouse slowly opened his eyes. \\'I wasn\\'t asleep,\\' he said in a\\nhoarse, feeble voice: \\'I heard every word you fellows were saying.\\'\\n\\n\\'Tell us a story!\\' said the March Hare.\\n\\n\\'Yes, please do!\\' pleaded Alice.\\n\\n\\'And be quick about it,\\' added the Hatter, \\'or you\\'ll be asleep again\\nbefore it\\'s done.\\'\\n\\n\\'Once upon a time there were three little sisters,\\' the Dormouse began\\nin a great hurry; \\'and their names were Elsie, Lacie, and Tillie; and\\nthey lived at the bottom of a well--\\'\\n\\n\\'What did they live on?\\' said Alice, who always took a great interest in\\nquestions of eating and drinking.\\n\\n\\'They lived on treacle,\\' said the Dormouse, after thinking a minute or\\ntwo.\\n\\n\\'They couldn\\'t have done that, you know,\\' Alice gently remarked; \\'they\\'d\\nhave been ill.\\'\\n\\n\\'So they were,\\' said the Dormouse; \\'VERY ill.\\'\\n\\nAlice tried to fancy to herself what such an extraordinary ways of\\nliving would be like, but it puzzled her too much, so she went on: \\'But\\nwhy did they live at the bottom of a well?\\'\\n\\n\\'Take some more tea,\\' the March Hare said to Alice, very earnestly.\\n\\n\\'I\\'ve had nothing yet,\\' Alice replied in an offended tone, \\'so I can\\'t\\ntake more.\\'\\n\\n\\'You mean you can\\'t take LESS,\\' said the Hatter: \\'it\\'s very easy to take\\nMORE than nothing.\\'\\n\\n\\'Nobody asked YOUR opinion,\\' said Alice.\\n\\n\\'Who\\'s making personal remarks now?\\' the Hatter asked triumphantly.\\n\\nAlice did not quite know what to say to this: so she helped herself\\nto some tea and bread-and-butter, and then turned to the Dormouse, and\\nrepeated her question. \\'Why did they live at the bottom of a well?\\'\\n\\nThe Dormouse again took a minute or two to think about it, and then\\nsaid, \\'It was a treacle-well.\\'\\n\\n\\'There\\'s no such thing!\\' Alice was beginning very angrily, but the\\nHatter and the March Hare went \\'Sh! sh!\\' and the Dormouse sulkily\\nremarked, \\'If you can\\'t be civil, you\\'d better finish the story for\\nyourself.\\'\\n\\n\\'No, please go on!\\' Alice said very humbly; \\'I won\\'t interrupt again. I\\ndare say there may be ONE.\\'\\n\\n\\'One, indeed!\\' said the Dormouse indignantly. However, he consented to\\ngo on. \\'And so these three little sisters--they were learning to draw,\\nyou know--\\'\\n\\n\\'What did they draw?\\' said Alice, quite forgetting her promise.\\n\\n\\'Treacle,\\' said the Dormouse, without considering at all this time.\\n\\n\\'I want a clean cup,\\' interrupted the Hatter: \\'let\\'s all move one place\\non.\\'\\n\\nHe moved on as he spoke, and the Dormouse followed him: the March Hare\\nmoved into the Dormouse\\'s place, and Alice rather unwillingly took\\nthe place of the March Hare. The Hatter was the only one who got any\\nadvantage from the change: and Alice was a good deal worse off than\\nbefore, as the March Hare had just upset the milk-jug into his plate.\\n\\nAlice did not wish to offend the Dormouse again, so she began very\\ncautiously: \\'But I don\\'t understand. Where did they draw the treacle\\nfrom?\\'\\n\\n\\'You can draw water out of a water-well,\\' said the Hatter; \\'so I should\\nthink you could draw treacle out of a treacle-well--eh, stupid?\\'\\n\\n\\'But they were IN the well,\\' Alice said to the Dormouse, not choosing to\\nnotice this last remark.\\n\\n\\'Of course they were\\', said the Dormouse; \\'--well in.\\'\\n\\nThis answer so confused poor Alice, that she let the Dormouse go on for\\nsome time without interrupting it.\\n\\n\\'They were learning to draw,\\' the Dormouse went on, yawning and rubbing\\nits eyes, for it was getting very sleepy; \\'and they drew all manner of\\nthings--everything that begins with an M--\\'\\n\\n\\'Why with an M?\\' said Alice.\\n\\n\\'Why not?\\' said the March Hare.\\n\\nAlice was silent.\\n\\nThe Dormouse had closed its eyes by this time, and was going off into\\na doze; but, on being pinched by the Hatter, it woke up again with\\na little shriek, and went on: \\'--that begins with an M, such as\\nmouse-traps, and the moon, and memory, and muchness--you know you say\\nthings are \"much of a muchness\"--did you ever see such a thing as a\\ndrawing of a muchness?\\'\\n\\n\\'Really, now you ask me,\\' said Alice, very much confused, \\'I don\\'t\\nthink--\\'\\n\\n\\'Then you shouldn\\'t talk,\\' said the Hatter.\\n\\nThis piece of rudeness was more than Alice could bear: she got up in\\ngreat disgust, and walked off; the Dormouse fell asleep instantly, and\\nneither of the others took the least notice of her going, though she\\nlooked back once or twice, half hoping that they would call after her:\\nthe last time she saw them, they were trying to put the Dormouse into\\nthe teapot.\\n\\n\\'At any rate I\\'ll never go THERE again!\\' said Alice as she picked her\\nway through the wood. \\'It\\'s the stupidest tea-party I ever was at in all\\nmy life!\\'\\n\\nJust as she said this, she noticed that one of the trees had a door\\nleading right into it. \\'That\\'s very curious!\\' she thought. \\'But\\neverything\\'s curious today. I think I may as well go in at once.\\' And in\\nshe went.\\n\\nOnce more she found herself in the long hall, and close to the little\\nglass table. \\'Now, I\\'ll manage better this time,\\' she said to herself,\\nand began by taking the little golden key, and unlocking the door that\\nled into the garden. Then she went to work nibbling at the mushroom (she\\nhad kept a piece of it in her pocket) till she was about a foot high:\\nthen she walked down the little passage: and THEN--she found herself at\\nlast in the beautiful garden, among the bright flower-beds and the cool\\nfountains.\\n\\n\\n\\n\\nCHAPTER VIII. The Queen\\'s Croquet-Ground\\n\\nA large rose-tree stood near the entrance of the garden: the roses\\ngrowing on it were white, but there were three gardeners at it, busily\\npainting them red. Alice thought this a very curious thing, and she went\\nnearer to watch them, and just as she came up to them she heard one of\\nthem say, \\'Look out now, Five! Don\\'t go splashing paint over me like\\nthat!\\'\\n\\n\\'I couldn\\'t help it,\\' said Five, in a sulky tone; \\'Seven jogged my\\nelbow.\\'\\n\\nOn which Seven looked up and said, \\'That\\'s right, Five! Always lay the\\nblame on others!\\'\\n\\n\\'YOU\\'D better not talk!\\' said Five. \\'I heard the Queen say only\\nyesterday you deserved to be beheaded!\\'\\n\\n\\'What for?\\' said the one who had spoken first.\\n\\n\\'That\\'s none of YOUR business, Two!\\' said Seven.\\n\\n\\'Yes, it IS his business!\\' said Five, \\'and I\\'ll tell him--it was for\\nbringing the cook tulip-roots instead of onions.\\'\\n\\nSeven flung down his brush, and had just begun \\'Well, of all the unjust\\nthings--\\' when his eye chanced to fall upon Alice, as she stood watching\\nthem, and he checked himself suddenly: the others looked round also, and\\nall of them bowed low.\\n\\n\\'Would you tell me,\\' said Alice, a little timidly, \\'why you are painting\\nthose roses?\\'\\n\\nFive and Seven said nothing, but looked at Two. Two began in a low\\nvoice, \\'Why the fact is, you see, Miss, this here ought to have been a\\nRED rose-tree, and we put a white one in by mistake; and if the Queen\\nwas to find it out, we should all have our heads cut off, you know.\\nSo you see, Miss, we\\'re doing our best, afore she comes, to--\\' At this\\nmoment Five, who had been anxiously looking across the garden, called\\nout \\'The Queen! The Queen!\\' and the three gardeners instantly threw\\nthemselves flat upon their faces. There was a sound of many footsteps,\\nand Alice looked round, eager to see the Queen.\\n\\nFirst came ten soldiers carrying clubs; these were all shaped like\\nthe three gardeners, oblong and flat, with their hands and feet at the\\ncorners: next the ten courtiers; these were ornamented all over with\\ndiamonds, and walked two and two, as the soldiers did. After these came\\nthe royal children; there were ten of them, and the little dears came\\njumping merrily along hand in hand, in couples: they were all ornamented\\nwith hearts. Next came the guests, mostly Kings and Queens, and among\\nthem Alice recognised the White Rabbit: it was talking in a hurried\\nnervous manner, smiling at everything that was said, and went by without\\nnoticing her. Then followed the Knave of Hearts, carrying the King\\'s\\ncrown on a crimson velvet cushion; and, last of all this grand\\nprocession, came THE KING AND QUEEN OF HEARTS.\\n\\nAlice was rather doubtful whether she ought not to lie down on her face\\nlike the three gardeners, but she could not remember ever having heard\\nof such a rule at processions; \\'and besides, what would be the use of\\na procession,\\' thought she, \\'if people had all to lie down upon their\\nfaces, so that they couldn\\'t see it?\\' So she stood still where she was,\\nand waited.\\n\\nWhen the procession came opposite to Alice, they all stopped and looked\\nat her, and the Queen said severely \\'Who is this?\\' She said it to the\\nKnave of Hearts, who only bowed and smiled in reply.\\n\\n\\'Idiot!\\' said the Queen, tossing her head impatiently; and, turning to\\nAlice, she went on, \\'What\\'s your name, child?\\'\\n\\n\\'My name is Alice, so please your Majesty,\\' said Alice very politely;\\nbut she added, to herself, \\'Why, they\\'re only a pack of cards, after\\nall. I needn\\'t be afraid of them!\\'\\n\\n\\'And who are THESE?\\' said the Queen, pointing to the three gardeners who\\nwere lying round the rosetree; for, you see, as they were lying on their\\nfaces, and the pattern on their backs was the same as the rest of the\\npack, she could not tell whether they were gardeners, or soldiers, or\\ncourtiers, or three of her own children.\\n\\n\\'How should I know?\\' said Alice, surprised at her own courage. \\'It\\'s no\\nbusiness of MINE.\\'\\n\\nThe Queen turned crimson with fury, and, after glaring at her for a\\nmoment like a wild beast, screamed \\'Off with her head! Off--\\'\\n\\n\\'Nonsense!\\' said Alice, very loudly and decidedly, and the Queen was\\nsilent.\\n\\nThe King laid his hand upon her arm, and timidly said \\'Consider, my\\ndear: she is only a child!\\'\\n\\nThe Queen turned angrily away from him, and said to the Knave \\'Turn them\\nover!\\'\\n\\nThe Knave did so, very carefully, with one foot.\\n\\n\\'Get up!\\' said the Queen, in a shrill, loud voice, and the three\\ngardeners instantly jumped up, and began bowing to the King, the Queen,\\nthe royal children, and everybody else.\\n\\n\\'Leave off that!\\' screamed the Queen. \\'You make me giddy.\\' And then,\\nturning to the rose-tree, she went on, \\'What HAVE you been doing here?\\'\\n\\n\\'May it please your Majesty,\\' said Two, in a very humble tone, going\\ndown on one knee as he spoke, \\'we were trying--\\'\\n\\n\\'I see!\\' said the Queen, who had meanwhile been examining the roses.\\n\\'Off with their heads!\\' and the procession moved on, three of the\\nsoldiers remaining behind to execute the unfortunate gardeners, who ran\\nto Alice for protection.\\n\\n\\'You shan\\'t be beheaded!\\' said Alice, and she put them into a large\\nflower-pot that stood near. The three soldiers wandered about for a\\nminute or two, looking for them, and then quietly marched off after the\\nothers.\\n\\n\\'Are their heads off?\\' shouted the Queen.\\n\\n\\'Their heads are gone, if it please your Majesty!\\' the soldiers shouted\\nin reply.\\n\\n\\'That\\'s right!\\' shouted the Queen. \\'Can you play croquet?\\'\\n\\nThe soldiers were silent, and looked at Alice, as the question was\\nevidently meant for her.\\n\\n\\'Yes!\\' shouted Alice.\\n\\n\\'Come on, then!\\' roared the Queen, and Alice joined the procession,\\nwondering very much what would happen next.\\n\\n\\'It\\'s--it\\'s a very fine day!\\' said a timid voice at her side. She was\\nwalking by the White Rabbit, who was peeping anxiously into her face.\\n\\n\\'Very,\\' said Alice: \\'--where\\'s the Duchess?\\'\\n\\n\\'Hush! Hush!\\' said the Rabbit in a low, hurried tone. He looked\\nanxiously over his shoulder as he spoke, and then raised himself upon\\ntiptoe, put his mouth close to her ear, and whispered \\'She\\'s under\\nsentence of execution.\\'\\n\\n\\'What for?\\' said Alice.\\n\\n\\'Did you say \"What a pity!\"?\\' the Rabbit asked.\\n\\n\\'No, I didn\\'t,\\' said Alice: \\'I don\\'t think it\\'s at all a pity. I said\\n\"What for?\"\\'\\n\\n\\'She boxed the Queen\\'s ears--\\' the Rabbit began. Alice gave a little\\nscream of laughter. \\'Oh, hush!\\' the Rabbit whispered in a frightened\\ntone. \\'The Queen will hear you! You see, she came rather late, and the\\nQueen said--\\'\\n\\n\\'Get to your places!\\' shouted the Queen in a voice of thunder, and\\npeople began running about in all directions, tumbling up against each\\nother; however, they got settled down in a minute or two, and the game\\nbegan. Alice thought she had never seen such a curious croquet-ground in\\nher life; it was all ridges and furrows; the balls were live hedgehogs,\\nthe mallets live flamingoes, and the soldiers had to double themselves\\nup and to stand on their hands and feet, to make the arches.\\n\\nThe chief difficulty Alice found at first was in managing her flamingo:\\nshe succeeded in getting its body tucked away, comfortably enough, under\\nher arm, with its legs hanging down, but generally, just as she had got\\nits neck nicely straightened out, and was going to give the hedgehog a\\nblow with its head, it WOULD twist itself round and look up in her face,\\nwith such a puzzled expression that she could not help bursting out\\nlaughing: and when she had got its head down, and was going to begin\\nagain, it was very provoking to find that the hedgehog had unrolled\\nitself, and was in the act of crawling away: besides all this, there was\\ngenerally a ridge or furrow in the way wherever she wanted to send the\\nhedgehog to, and, as the doubled-up soldiers were always getting up\\nand walking off to other parts of the ground, Alice soon came to the\\nconclusion that it was a very difficult game indeed.\\n\\nThe players all played at once without waiting for turns, quarrelling\\nall the while, and fighting for the hedgehogs; and in a very short\\ntime the Queen was in a furious passion, and went stamping about, and\\nshouting \\'Off with his head!\\' or \\'Off with her head!\\' about once in a\\nminute.\\n\\nAlice began to feel very uneasy: to be sure, she had not as yet had any\\ndispute with the Queen, but she knew that it might happen any minute,\\n\\'and then,\\' thought she, \\'what would become of me? They\\'re dreadfully\\nfond of beheading people here; the great wonder is, that there\\'s any one\\nleft alive!\\'\\n\\nShe was looking about for some way of escape, and wondering whether she\\ncould get away without being seen, when she noticed a curious appearance\\nin the air: it puzzled her very much at first, but, after watching it\\na minute or two, she made it out to be a grin, and she said to herself\\n\\'It\\'s the Cheshire Cat: now I shall have somebody to talk to.\\'\\n\\n\\'How are you getting on?\\' said the Cat, as soon as there was mouth\\nenough for it to speak with.\\n\\nAlice waited till the eyes appeared, and then nodded. \\'It\\'s no use\\nspeaking to it,\\' she thought, \\'till its ears have come, or at least one\\nof them.\\' In another minute the whole head appeared, and then Alice put\\ndown her flamingo, and began an account of the game, feeling very glad\\nshe had someone to listen to her. The Cat seemed to think that there was\\nenough of it now in sight, and no more of it appeared.\\n\\n\\'I don\\'t think they play at all fairly,\\' Alice began, in rather a\\ncomplaining tone, \\'and they all quarrel so dreadfully one can\\'t hear\\noneself speak--and they don\\'t seem to have any rules in particular;\\nat least, if there are, nobody attends to them--and you\\'ve no idea how\\nconfusing it is all the things being alive; for instance, there\\'s the\\narch I\\'ve got to go through next walking about at the other end of the\\nground--and I should have croqueted the Queen\\'s hedgehog just now, only\\nit ran away when it saw mine coming!\\'\\n\\n\\'How do you like the Queen?\\' said the Cat in a low voice.\\n\\n\\'Not at all,\\' said Alice: \\'she\\'s so extremely--\\' Just then she noticed\\nthat the Queen was close behind her, listening: so she went on,\\n\\'--likely to win, that it\\'s hardly worth while finishing the game.\\'\\n\\nThe Queen smiled and passed on.\\n\\n\\'Who ARE you talking to?\\' said the King, going up to Alice, and looking\\nat the Cat\\'s head with great curiosity.\\n\\n\\'It\\'s a friend of mine--a Cheshire Cat,\\' said Alice: \\'allow me to\\nintroduce it.\\'\\n\\n\\'I don\\'t like the look of it at all,\\' said the King: \\'however, it may\\nkiss my hand if it likes.\\'\\n\\n\\'I\\'d rather not,\\' the Cat remarked.\\n\\n\\'Don\\'t be impertinent,\\' said the King, \\'and don\\'t look at me like that!\\'\\nHe got behind Alice as he spoke.\\n\\n\\'A cat may look at a king,\\' said Alice. \\'I\\'ve read that in some book,\\nbut I don\\'t remember where.\\'\\n\\n\\'Well, it must be removed,\\' said the King very decidedly, and he called\\nthe Queen, who was passing at the moment, \\'My dear! I wish you would\\nhave this cat removed!\\'\\n\\nThe Queen had only one way of settling all difficulties, great or small.\\n\\'Off with his head!\\' she said, without even looking round.\\n\\n\\'I\\'ll fetch the executioner myself,\\' said the King eagerly, and he\\nhurried off.\\n\\nAlice thought she might as well go back, and see how the game was going\\non, as she heard the Queen\\'s voice in the distance, screaming with\\npassion. She had already heard her sentence three of the players to be\\nexecuted for having missed their turns, and she did not like the look\\nof things at all, as the game was in such confusion that she never knew\\nwhether it was her turn or not. So she went in search of her hedgehog.\\n\\nThe hedgehog was engaged in a fight with another hedgehog, which seemed\\nto Alice an excellent opportunity for croqueting one of them with the\\nother: the only difficulty was, that her flamingo was gone across to the\\nother side of the garden, where Alice could see it trying in a helpless\\nsort of way to fly up into a tree.\\n\\nBy the time she had caught the flamingo and brought it back, the fight\\nwas over, and both the hedgehogs were out of sight: \\'but it doesn\\'t\\nmatter much,\\' thought Alice, \\'as all the arches are gone from this side\\nof the ground.\\' So she tucked it away under her arm, that it might not\\nescape again, and went back for a little more conversation with her\\nfriend.\\n\\nWhen she got back to the Cheshire Cat, she was surprised to find quite a\\nlarge crowd collected round it: there was a dispute going on between\\nthe executioner, the King, and the Queen, who were all talking at once,\\nwhile all the rest were quite silent, and looked very uncomfortable.\\n\\nThe moment Alice appeared, she was appealed to by all three to settle\\nthe question, and they repeated their arguments to her, though, as they\\nall spoke at once, she found it very hard indeed to make out exactly\\nwhat they said.\\n\\nThe executioner\\'s argument was, that you couldn\\'t cut off a head unless\\nthere was a body to cut it off from: that he had never had to do such a\\nthing before, and he wasn\\'t going to begin at HIS time of life.\\n\\nThe King\\'s argument was, that anything that had a head could be\\nbeheaded, and that you weren\\'t to talk nonsense.\\n\\nThe Queen\\'s argument was, that if something wasn\\'t done about it in less\\nthan no time she\\'d have everybody executed, all round. (It was this last\\nremark that had made the whole party look so grave and anxious.)\\n\\nAlice could think of nothing else to say but \\'It belongs to the Duchess:\\nyou\\'d better ask HER about it.\\'\\n\\n\\'She\\'s in prison,\\' the Queen said to the executioner: \\'fetch her here.\\'\\nAnd the executioner went off like an arrow.\\n\\n The Cat\\'s head began fading away the moment he was gone, and,\\nby the time he had come back with the Duchess, it had entirely\\ndisappeared; so the King and the executioner ran wildly up and down\\nlooking for it, while the rest of the party went back to the game.\\n\\n\\n\\n\\nCHAPTER IX. The Mock Turtle\\'s Story\\n\\n\\'You can\\'t think how glad I am to see you again, you dear old thing!\\'\\nsaid the Duchess, as she tucked her arm affectionately into Alice\\'s, and\\nthey walked off together.\\n\\nAlice was very glad to find her in such a pleasant temper, and thought\\nto herself that perhaps it was only the pepper that had made her so\\nsavage when they met in the kitchen.\\n\\n\\'When I\\'M a Duchess,\\' she said to herself, (not in a very hopeful tone\\nthough), \\'I won\\'t have any pepper in my kitchen AT ALL. Soup does very\\nwell without--Maybe it\\'s always pepper that makes people hot-tempered,\\'\\nshe went on, very much pleased at having found out a new kind of\\nrule, \\'and vinegar that makes them sour--and camomile that makes\\nthem bitter--and--and barley-sugar and such things that make children\\nsweet-tempered. I only wish people knew that: then they wouldn\\'t be so\\nstingy about it, you know--\\'\\n\\nShe had quite forgotten the Duchess by this time, and was a little\\nstartled when she heard her voice close to her ear. \\'You\\'re thinking\\nabout something, my dear, and that makes you forget to talk. I can\\'t\\ntell you just now what the moral of that is, but I shall remember it in\\na bit.\\'\\n\\n\\'Perhaps it hasn\\'t one,\\' Alice ventured to remark.\\n\\n\\'Tut, tut, child!\\' said the Duchess. \\'Everything\\'s got a moral, if only\\nyou can find it.\\' And she squeezed herself up closer to Alice\\'s side as\\nshe spoke.\\n\\nAlice did not much like keeping so close to her: first, because the\\nDuchess was VERY ugly; and secondly, because she was exactly the\\nright height to rest her chin upon Alice\\'s shoulder, and it was an\\nuncomfortably sharp chin. However, she did not like to be rude, so she\\nbore it as well as she could.\\n\\n\\'The game\\'s going on rather better now,\\' she said, by way of keeping up\\nthe conversation a little.\\n\\n\\'\\'Tis so,\\' said the Duchess: \\'and the moral of that is--\"Oh, \\'tis love,\\n\\'tis love, that makes the world go round!\"\\'\\n\\n\\'Somebody said,\\' Alice whispered, \\'that it\\'s done by everybody minding\\ntheir own business!\\'\\n\\n\\'Ah, well! It means much the same thing,\\' said the Duchess, digging her\\nsharp little chin into Alice\\'s shoulder as she added, \\'and the moral\\nof THAT is--\"Take care of the sense, and the sounds will take care of\\nthemselves.\"\\'\\n\\n\\'How fond she is of finding morals in things!\\' Alice thought to herself.\\n\\n\\'I dare say you\\'re wondering why I don\\'t put my arm round your waist,\\'\\nthe Duchess said after a pause: \\'the reason is, that I\\'m doubtful about\\nthe temper of your flamingo. Shall I try the experiment?\\'\\n\\n\\'HE might bite,\\' Alice cautiously replied, not feeling at all anxious to\\nhave the experiment tried.\\n\\n\\'Very true,\\' said the Duchess: \\'flamingoes and mustard both bite. And\\nthe moral of that is--\"Birds of a feather flock together.\"\\'\\n\\n\\'Only mustard isn\\'t a bird,\\' Alice remarked.\\n\\n\\'Right, as usual,\\' said the Duchess: \\'what a clear way you have of\\nputting things!\\'\\n\\n\\'It\\'s a mineral, I THINK,\\' said Alice.\\n\\n\\'Of course it is,\\' said the Duchess, who seemed ready to agree to\\neverything that Alice said; \\'there\\'s a large mustard-mine near here. And\\nthe moral of that is--\"The more there is of mine, the less there is of\\nyours.\"\\'\\n\\n\\'Oh, I know!\\' exclaimed Alice, who had not attended to this last remark,\\n\\'it\\'s a vegetable. It doesn\\'t look like one, but it is.\\'\\n\\n\\'I quite agree with you,\\' said the Duchess; \\'and the moral of that\\nis--\"Be what you would seem to be\"--or if you\\'d like it put more\\nsimply--\"Never imagine yourself not to be otherwise than what it might\\nappear to others that what you were or might have been was not otherwise\\nthan what you had been would have appeared to them to be otherwise.\"\\'\\n\\n\\'I think I should understand that better,\\' Alice said very politely, \\'if\\nI had it written down: but I can\\'t quite follow it as you say it.\\'\\n\\n\\'That\\'s nothing to what I could say if I chose,\\' the Duchess replied, in\\na pleased tone.\\n\\n\\'Pray don\\'t trouble yourself to say it any longer than that,\\' said\\nAlice.\\n\\n\\'Oh, don\\'t talk about trouble!\\' said the Duchess. \\'I make you a present\\nof everything I\\'ve said as yet.\\'\\n\\n\\'A cheap sort of present!\\' thought Alice. \\'I\\'m glad they don\\'t give\\nbirthday presents like that!\\' But she did not venture to say it out\\nloud.\\n\\n\\'Thinking again?\\' the Duchess asked, with another dig of her sharp\\nlittle chin.\\n\\n\\'I\\'ve a right to think,\\' said Alice sharply, for she was beginning to\\nfeel a little worried.\\n\\n\\'Just about as much right,\\' said the Duchess, \\'as pigs have to fly; and\\nthe m--\\'\\n\\nBut here, to Alice\\'s great surprise, the Duchess\\'s voice died away, even\\nin the middle of her favourite word \\'moral,\\' and the arm that was linked\\ninto hers began to tremble. Alice looked up, and there stood the Queen\\nin front of them, with her arms folded, frowning like a thunderstorm.\\n\\n\\'A fine day, your Majesty!\\' the Duchess began in a low, weak voice.\\n\\n\\'Now, I give you fair warning,\\' shouted the Queen, stamping on the\\nground as she spoke; \\'either you or your head must be off, and that in\\nabout half no time! Take your choice!\\'\\n\\nThe Duchess took her choice, and was gone in a moment.\\n\\n\\'Let\\'s go on with the game,\\' the Queen said to Alice; and Alice was\\ntoo much frightened to say a word, but slowly followed her back to the\\ncroquet-ground.\\n\\nThe other guests had taken advantage of the Queen\\'s absence, and were\\nresting in the shade: however, the moment they saw her, they hurried\\nback to the game, the Queen merely remarking that a moment\\'s delay would\\ncost them their lives.\\n\\nAll the time they were playing the Queen never left off quarrelling with\\nthe other players, and shouting \\'Off with his head!\\' or \\'Off with her\\nhead!\\' Those whom she sentenced were taken into custody by the soldiers,\\nwho of course had to leave off being arches to do this, so that by\\nthe end of half an hour or so there were no arches left, and all the\\nplayers, except the King, the Queen, and Alice, were in custody and\\nunder sentence of execution.\\n\\nThen the Queen left off, quite out of breath, and said to Alice, \\'Have\\nyou seen the Mock Turtle yet?\\'\\n\\n\\'No,\\' said Alice. \\'I don\\'t even know what a Mock Turtle is.\\'\\n\\n\\'It\\'s the thing Mock Turtle Soup is made from,\\' said the Queen.\\n\\n\\'I never saw one, or heard of one,\\' said Alice.\\n\\n\\'Come on, then,\\' said the Queen, \\'and he shall tell you his history,\\'\\n\\nAs they walked off together, Alice heard the King say in a low voice,\\nto the company generally, \\'You are all pardoned.\\' \\'Come, THAT\\'S a good\\nthing!\\' she said to herself, for she had felt quite unhappy at the\\nnumber of executions the Queen had ordered.\\n\\nThey very soon came upon a Gryphon, lying fast asleep in the sun.\\n(IF you don\\'t know what a Gryphon is, look at the picture.) \\'Up, lazy\\nthing!\\' said the Queen, \\'and take this young lady to see the Mock\\nTurtle, and to hear his history. I must go back and see after some\\nexecutions I have ordered\\'; and she walked off, leaving Alice alone with\\nthe Gryphon. Alice did not quite like the look of the creature, but on\\nthe whole she thought it would be quite as safe to stay with it as to go\\nafter that savage Queen: so she waited.\\n\\nThe Gryphon sat up and rubbed its eyes: then it watched the Queen till\\nshe was out of sight: then it chuckled. \\'What fun!\\' said the Gryphon,\\nhalf to itself, half to Alice.\\n\\n\\'What IS the fun?\\' said Alice.\\n\\n\\'Why, SHE,\\' said the Gryphon. \\'It\\'s all her fancy, that: they never\\nexecutes nobody, you know. Come on!\\'\\n\\n\\'Everybody says \"come on!\" here,\\' thought Alice, as she went slowly\\nafter it: \\'I never was so ordered about in all my life, never!\\'\\n\\nThey had not gone far before they saw the Mock Turtle in the distance,\\nsitting sad and lonely on a little ledge of rock, and, as they came\\nnearer, Alice could hear him sighing as if his heart would break. She\\npitied him deeply. \\'What is his sorrow?\\' she asked the Gryphon, and the\\nGryphon answered, very nearly in the same words as before, \\'It\\'s all his\\nfancy, that: he hasn\\'t got no sorrow, you know. Come on!\\'\\n\\nSo they went up to the Mock Turtle, who looked at them with large eyes\\nfull of tears, but said nothing.\\n\\n\\'This here young lady,\\' said the Gryphon, \\'she wants for to know your\\nhistory, she do.\\'\\n\\n\\'I\\'ll tell it her,\\' said the Mock Turtle in a deep, hollow tone: \\'sit\\ndown, both of you, and don\\'t speak a word till I\\'ve finished.\\'\\n\\nSo they sat down, and nobody spoke for some minutes. Alice thought to\\nherself, \\'I don\\'t see how he can EVEN finish, if he doesn\\'t begin.\\' But\\nshe waited patiently.\\n\\n\\'Once,\\' said the Mock Turtle at last, with a deep sigh, \\'I was a real\\nTurtle.\\'\\n\\nThese words were followed by a very long silence, broken only by an\\noccasional exclamation of \\'Hjckrrh!\\' from the Gryphon, and the constant\\nheavy sobbing of the Mock Turtle. Alice was very nearly getting up and\\nsaying, \\'Thank you, sir, for your interesting story,\\' but she could\\nnot help thinking there MUST be more to come, so she sat still and said\\nnothing.\\n\\n\\'When we were little,\\' the Mock Turtle went on at last, more calmly,\\nthough still sobbing a little now and then, \\'we went to school in the\\nsea. The master was an old Turtle--we used to call him Tortoise--\\'\\n\\n\\'Why did you call him Tortoise, if he wasn\\'t one?\\' Alice asked.\\n\\n\\'We called him Tortoise because he taught us,\\' said the Mock Turtle\\nangrily: \\'really you are very dull!\\'\\n\\n\\'You ought to be ashamed of yourself for asking such a simple question,\\'\\nadded the Gryphon; and then they both sat silent and looked at poor\\nAlice, who felt ready to sink into the earth. At last the Gryphon said\\nto the Mock Turtle, \\'Drive on, old fellow! Don\\'t be all day about it!\\'\\nand he went on in these words:\\n\\n\\'Yes, we went to school in the sea, though you mayn\\'t believe it--\\'\\n\\n\\'I never said I didn\\'t!\\' interrupted Alice.\\n\\n\\'You did,\\' said the Mock Turtle.\\n\\n\\'Hold your tongue!\\' added the Gryphon, before Alice could speak again.\\nThe Mock Turtle went on.\\n\\n\\'We had the best of educations--in fact, we went to school every day--\\'\\n\\n\\'I\\'VE been to a day-school, too,\\' said Alice; \\'you needn\\'t be so proud\\nas all that.\\'\\n\\n\\'With extras?\\' asked the Mock Turtle a little anxiously.\\n\\n\\'Yes,\\' said Alice, \\'we learned French and music.\\'\\n\\n\\'And washing?\\' said the Mock Turtle.\\n\\n\\'Certainly not!\\' said Alice indignantly.\\n\\n\\'Ah! then yours wasn\\'t a really good school,\\' said the Mock Turtle in\\na tone of great relief. \\'Now at OURS they had at the end of the bill,\\n\"French, music, AND WASHING--extra.\"\\'\\n\\n\\'You couldn\\'t have wanted it much,\\' said Alice; \\'living at the bottom of\\nthe sea.\\'\\n\\n\\'I couldn\\'t afford to learn it.\\' said the Mock Turtle with a sigh. \\'I\\nonly took the regular course.\\'\\n\\n\\'What was that?\\' inquired Alice.\\n\\n\\'Reeling and Writhing, of course, to begin with,\\' the Mock Turtle\\nreplied; \\'and then the different branches of Arithmetic--Ambition,\\nDistraction, Uglification, and Derision.\\'\\n\\n\\'I never heard of \"Uglification,\"\\' Alice ventured to say. \\'What is it?\\'\\n\\nThe Gryphon lifted up both its paws in surprise. \\'What! Never heard of\\nuglifying!\\' it exclaimed. \\'You know what to beautify is, I suppose?\\'\\n\\n\\'Yes,\\' said Alice doubtfully: \\'it means--to--make--anything--prettier.\\'\\n\\n\\'Well, then,\\' the Gryphon went on, \\'if you don\\'t know what to uglify is,\\nyou ARE a simpleton.\\'\\n\\nAlice did not feel encouraged to ask any more questions about it, so she\\nturned to the Mock Turtle, and said \\'What else had you to learn?\\'\\n\\n\\'Well, there was Mystery,\\' the Mock Turtle replied, counting off\\nthe subjects on his flappers, \\'--Mystery, ancient and modern, with\\nSeaography: then Drawling--the Drawling-master was an old conger-eel,\\nthat used to come once a week: HE taught us Drawling, Stretching, and\\nFainting in Coils.\\'\\n\\n\\'What was THAT like?\\' said Alice.\\n\\n\\'Well, I can\\'t show it you myself,\\' the Mock Turtle said: \\'I\\'m too\\nstiff. And the Gryphon never learnt it.\\'\\n\\n\\'Hadn\\'t time,\\' said the Gryphon: \\'I went to the Classics master, though.\\nHe was an old crab, HE was.\\'\\n\\n\\'I never went to him,\\' the Mock Turtle said with a sigh: \\'he taught\\nLaughing and Grief, they used to say.\\'\\n\\n\\'So he did, so he did,\\' said the Gryphon, sighing in his turn; and both\\ncreatures hid their faces in their paws.\\n\\n\\'And how many hours a day did you do lessons?\\' said Alice, in a hurry to\\nchange the subject.\\n\\n\\'Ten hours the first day,\\' said the Mock Turtle: \\'nine the next, and so\\non.\\'\\n\\n\\'What a curious plan!\\' exclaimed Alice.\\n\\n\\'That\\'s the reason they\\'re called lessons,\\' the Gryphon remarked:\\n\\'because they lessen from day to day.\\'\\n\\nThis was quite a new idea to Alice, and she thought it over a little\\nbefore she made her next remark. \\'Then the eleventh day must have been a\\nholiday?\\'\\n\\n\\'Of course it was,\\' said the Mock Turtle.\\n\\n\\'And how did you manage on the twelfth?\\' Alice went on eagerly.\\n\\n\\'That\\'s enough about lessons,\\' the Gryphon interrupted in a very decided\\ntone: \\'tell her something about the games now.\\'\\n\\n\\n\\n\\nCHAPTER X. The Lobster Quadrille\\n\\nThe Mock Turtle sighed deeply, and drew the back of one flapper across\\nhis eyes. He looked at Alice, and tried to speak, but for a minute or\\ntwo sobs choked his voice. \\'Same as if he had a bone in his throat,\\'\\nsaid the Gryphon: and it set to work shaking him and punching him in\\nthe back. At last the Mock Turtle recovered his voice, and, with tears\\nrunning down his cheeks, he went on again:--\\n\\n\\'You may not have lived much under the sea--\\' (\\'I haven\\'t,\\' said\\nAlice)--\\'and perhaps you were never even introduced to a lobster--\\'\\n(Alice began to say \\'I once tasted--\\' but checked herself hastily, and\\nsaid \\'No, never\\') \\'--so you can have no idea what a delightful thing a\\nLobster Quadrille is!\\'\\n\\n\\'No, indeed,\\' said Alice. \\'What sort of a dance is it?\\'\\n\\n\\'Why,\\' said the Gryphon, \\'you first form into a line along the\\nsea-shore--\\'\\n\\n\\'Two lines!\\' cried the Mock Turtle. \\'Seals, turtles, salmon, and so on;\\nthen, when you\\'ve cleared all the jelly-fish out of the way--\\'\\n\\n\\'THAT generally takes some time,\\' interrupted the Gryphon.\\n\\n\\'--you advance twice--\\'\\n\\n\\'Each with a lobster as a partner!\\' cried the Gryphon.\\n\\n\\'Of course,\\' the Mock Turtle said: \\'advance twice, set to partners--\\'\\n\\n\\'--change lobsters, and retire in same order,\\' continued the Gryphon.\\n\\n\\'Then, you know,\\' the Mock Turtle went on, \\'you throw the--\\'\\n\\n\\'The lobsters!\\' shouted the Gryphon, with a bound into the air.\\n\\n\\'--as far out to sea as you can--\\'\\n\\n\\'Swim after them!\\' screamed the Gryphon.\\n\\n\\'Turn a somersault in the sea!\\' cried the Mock Turtle, capering wildly\\nabout.\\n\\n\\'Change lobsters again!\\' yelled the Gryphon at the top of its voice.\\n\\n\\'Back to land again, and that\\'s all the first figure,\\' said the Mock\\nTurtle, suddenly dropping his voice; and the two creatures, who had been\\njumping about like mad things all this time, sat down again very sadly\\nand quietly, and looked at Alice.\\n\\n\\'It must be a very pretty dance,\\' said Alice timidly.\\n\\n\\'Would you like to see a little of it?\\' said the Mock Turtle.\\n\\n\\'Very much indeed,\\' said Alice.\\n\\n\\'Come, let\\'s try the first figure!\\' said the Mock Turtle to the Gryphon.\\n\\'We can do without lobsters, you know. Which shall sing?\\'\\n\\n\\'Oh, YOU sing,\\' said the Gryphon. \\'I\\'ve forgotten the words.\\'\\n\\nSo they began solemnly dancing round and round Alice, every now and\\nthen treading on her toes when they passed too close, and waving their\\nforepaws to mark the time, while the Mock Turtle sang this, very slowly\\nand sadly:--\\n\\n \\'\"Will you walk a little faster?\" said a whiting to a snail.\\n \"There\\'s a porpoise close behind us, and he\\'s treading on my tail.\\n\\n See how eagerly the lobsters and the turtles all advance!\\n They are waiting on the shingle--will you come and join the dance?\\n\\n Will you, won\\'t you, will you, won\\'t you, will you join the dance?\\n Will you, won\\'t you, will you, won\\'t you, won\\'t you join the dance?\\n\\n \"You can really have no notion how delightful it will be\\n When they take us up and throw us, with the lobsters, out to sea!\"\\n But the snail replied \"Too far, too far!\" and gave a look askance--\\n Said he thanked the whiting kindly, but he would not join the dance.\\n\\n Would not, could not, would not, could not, would not join the dance.\\n Would not, could not, would not, could not, could not join the dance.\\n\\n \\'\"What matters it how far we go?\" his scaly friend replied.\\n \"There is another shore, you know, upon the other side.\\n The further off from England the nearer is to France--\\n Then turn not pale, beloved snail, but come and join the dance.\\n\\n Will you, won\\'t you, will you, won\\'t you, will you join the dance?\\n Will you, won\\'t you, will you, won\\'t you, won\\'t you join the dance?\"\\'\\n\\n\\'Thank you, it\\'s a very interesting dance to watch,\\' said Alice, feeling\\nvery glad that it was over at last: \\'and I do so like that curious song\\nabout the whiting!\\'\\n\\n\\'Oh, as to the whiting,\\' said the Mock Turtle, \\'they--you\\'ve seen them,\\nof course?\\'\\n\\n\\'Yes,\\' said Alice, \\'I\\'ve often seen them at dinn--\\' she checked herself\\nhastily.\\n\\n\\'I don\\'t know where Dinn may be,\\' said the Mock Turtle, \\'but if you\\'ve\\nseen them so often, of course you know what they\\'re like.\\'\\n\\n\\'I believe so,\\' Alice replied thoughtfully. \\'They have their tails in\\ntheir mouths--and they\\'re all over crumbs.\\'\\n\\n\\'You\\'re wrong about the crumbs,\\' said the Mock Turtle: \\'crumbs would all\\nwash off in the sea. But they HAVE their tails in their mouths; and the\\nreason is--\\' here the Mock Turtle yawned and shut his eyes.--\\'Tell her\\nabout the reason and all that,\\' he said to the Gryphon.\\n\\n\\'The reason is,\\' said the Gryphon, \\'that they WOULD go with the lobsters\\nto the dance. So they got thrown out to sea. So they had to fall a long\\nway. So they got their tails fast in their mouths. So they couldn\\'t get\\nthem out again. That\\'s all.\\'\\n\\n\\'Thank you,\\' said Alice, \\'it\\'s very interesting. I never knew so much\\nabout a whiting before.\\'\\n\\n\\'I can tell you more than that, if you like,\\' said the Gryphon. \\'Do you\\nknow why it\\'s called a whiting?\\'\\n\\n\\'I never thought about it,\\' said Alice. \\'Why?\\'\\n\\n\\'IT DOES THE BOOTS AND SHOES.\\' the Gryphon replied very solemnly.\\n\\nAlice was thoroughly puzzled. \\'Does the boots and shoes!\\' she repeated\\nin a wondering tone.\\n\\n\\'Why, what are YOUR shoes done with?\\' said the Gryphon. \\'I mean, what\\nmakes them so shiny?\\'\\n\\nAlice looked down at them, and considered a little before she gave her\\nanswer. \\'They\\'re done with blacking, I believe.\\'\\n\\n\\'Boots and shoes under the sea,\\' the Gryphon went on in a deep voice,\\n\\'are done with a whiting. Now you know.\\'\\n\\n\\'And what are they made of?\\' Alice asked in a tone of great curiosity.\\n\\n\\'Soles and eels, of course,\\' the Gryphon replied rather impatiently:\\n\\'any shrimp could have told you that.\\'\\n\\n\\'If I\\'d been the whiting,\\' said Alice, whose thoughts were still running\\non the song, \\'I\\'d have said to the porpoise, \"Keep back, please: we\\ndon\\'t want YOU with us!\"\\'\\n\\n\\'They were obliged to have him with them,\\' the Mock Turtle said: \\'no\\nwise fish would go anywhere without a porpoise.\\'\\n\\n\\'Wouldn\\'t it really?\\' said Alice in a tone of great surprise.\\n\\n\\'Of course not,\\' said the Mock Turtle: \\'why, if a fish came to ME, and\\ntold me he was going a journey, I should say \"With what porpoise?\"\\'\\n\\n\\'Don\\'t you mean \"purpose\"?\\' said Alice.\\n\\n\\'I mean what I say,\\' the Mock Turtle replied in an offended tone. And\\nthe Gryphon added \\'Come, let\\'s hear some of YOUR adventures.\\'\\n\\n\\'I could tell you my adventures--beginning from this morning,\\' said\\nAlice a little timidly: \\'but it\\'s no use going back to yesterday,\\nbecause I was a different person then.\\'\\n\\n\\'Explain all that,\\' said the Mock Turtle.\\n\\n\\'No, no! The adventures first,\\' said the Gryphon in an impatient tone:\\n\\'explanations take such a dreadful time.\\'\\n\\nSo Alice began telling them her adventures from the time when she first\\nsaw the White Rabbit. She was a little nervous about it just at first,\\nthe two creatures got so close to her, one on each side, and opened\\ntheir eyes and mouths so VERY wide, but she gained courage as she went\\non. Her listeners were perfectly quiet till she got to the part about\\nher repeating \\'YOU ARE OLD, FATHER WILLIAM,\\' to the Caterpillar, and the\\nwords all coming different, and then the Mock Turtle drew a long breath,\\nand said \\'That\\'s very curious.\\'\\n\\n\\'It\\'s all about as curious as it can be,\\' said the Gryphon.\\n\\n\\'It all came different!\\' the Mock Turtle repeated thoughtfully. \\'I\\nshould like to hear her try and repeat something now. Tell her to\\nbegin.\\' He looked at the Gryphon as if he thought it had some kind of\\nauthority over Alice.\\n\\n\\'Stand up and repeat \"\\'TIS THE VOICE OF THE SLUGGARD,\"\\' said the\\nGryphon.\\n\\n\\'How the creatures order one about, and make one repeat lessons!\\'\\nthought Alice; \\'I might as well be at school at once.\\' However, she\\ngot up, and began to repeat it, but her head was so full of the Lobster\\nQuadrille, that she hardly knew what she was saying, and the words came\\nvery queer indeed:--\\n\\n  \\'\\'Tis the voice of the Lobster; I heard him declare,\\n  \"You have baked me too brown, I must sugar my hair.\"\\n  As a duck with its eyelids, so he with his nose\\n  Trims his belt and his buttons, and turns out his toes.\\'\\n\\n       [later editions continued as follows\\n  When the sands are all dry, he is gay as a lark,\\n  And will talk in contemptuous tones of the Shark,\\n  But, when the tide rises and sharks are around,\\n  His voice has a timid and tremulous sound.]\\n\\n\\'That\\'s different from what I used to say when I was a child,\\' said the\\nGryphon.\\n\\n\\'Well, I never heard it before,\\' said the Mock Turtle; \\'but it sounds\\nuncommon nonsense.\\'\\n\\nAlice said nothing; she had sat down with her face in her hands,\\nwondering if anything would EVER happen in a natural way again.\\n\\n\\'I should like to have it explained,\\' said the Mock Turtle.\\n\\n\\'She can\\'t explain it,\\' said the Gryphon hastily. \\'Go on with the next\\nverse.\\'\\n\\n\\'But about his toes?\\' the Mock Turtle persisted. \\'How COULD he turn them\\nout with his nose, you know?\\'\\n\\n\\'It\\'s the first position in dancing.\\' Alice said; but was dreadfully\\npuzzled by the whole thing, and longed to change the subject.\\n\\n\\'Go on with the next verse,\\' the Gryphon repeated impatiently: \\'it\\nbegins \"I passed by his garden.\"\\'\\n\\nAlice did not dare to disobey, though she felt sure it would all come\\nwrong, and she went on in a trembling voice:--\\n\\n  \\'I passed by his garden, and marked, with one eye,\\n  How the Owl and the Panther were sharing a pie--\\'\\n\\n    [later editions continued as follows\\n  The Panther took pie-crust, and gravy, and meat,\\n  While the Owl had the dish as its share of the treat.\\n  When the pie was all finished, the Owl, as a boon,\\n  Was kindly permitted to pocket the spoon:\\n  While the Panther received knife and fork with a growl,\\n  And concluded the banquet--]\\n\\n\\'What IS the use of repeating all that stuff,\\' the Mock Turtle\\ninterrupted, \\'if you don\\'t explain it as you go on? It\\'s by far the most\\nconfusing thing I ever heard!\\'\\n\\n\\'Yes, I think you\\'d better leave off,\\' said the Gryphon: and Alice was\\nonly too glad to do so.\\n\\n\\'Shall we try another figure of the Lobster Quadrille?\\' the Gryphon went\\non. \\'Or would you like the Mock Turtle to sing you a song?\\'\\n\\n\\'Oh, a song, please, if the Mock Turtle would be so kind,\\' Alice\\nreplied, so eagerly that the Gryphon said, in a rather offended tone,\\n\\'Hm! No accounting for tastes! Sing her \"Turtle Soup,\" will you, old\\nfellow?\\'\\n\\nThe Mock Turtle sighed deeply, and began, in a voice sometimes choked\\nwith sobs, to sing this:--\\n\\n   \\'Beautiful Soup, so rich and green,\\n   Waiting in a hot tureen!\\n   Who for such dainties would not stoop?\\n   Soup of the evening, beautiful Soup!\\n   Soup of the evening, beautiful Soup!\\n     Beau--ootiful Soo--oop!\\n     Beau--ootiful Soo--oop!\\n   Soo--oop of the e--e--evening,\\n     Beautiful, beautiful Soup!\\n\\n   \\'Beautiful Soup! Who cares for fish,\\n   Game, or any other dish?\\n   Who would not give all else for two\\n   Pennyworth only of beautiful Soup?\\n   Pennyworth only of beautiful Soup?\\n     Beau--ootiful Soo--oop!\\n     Beau--ootiful Soo--oop!\\n   Soo--oop of the e--e--evening,\\n     Beautiful, beauti--FUL SOUP!\\'\\n\\n\\'Chorus again!\\' cried the Gryphon, and the Mock Turtle had just begun\\nto repeat it, when a cry of \\'The trial\\'s beginning!\\' was heard in the\\ndistance.\\n\\n\\'Come on!\\' cried the Gryphon, and, taking Alice by the hand, it hurried\\noff, without waiting for the end of the song.\\n\\n\\'What trial is it?\\' Alice panted as she ran; but the Gryphon only\\nanswered \\'Come on!\\' and ran the faster, while more and more faintly\\ncame, carried on the breeze that followed them, the melancholy words:--\\n\\n   \\'Soo--oop of the e--e--evening,\\n     Beautiful, beautiful Soup!\\'\\n\\n\\n\\n\\nCHAPTER XI. Who Stole the Tarts?\\n\\nThe King and Queen of Hearts were seated on their throne when they\\narrived, with a great crowd assembled about them--all sorts of little\\nbirds and beasts, as well as the whole pack of cards: the Knave was\\nstanding before them, in chains, with a soldier on each side to guard\\nhim; and near the King was the White Rabbit, with a trumpet in one hand,\\nand a scroll of parchment in the other. In the very middle of the court\\nwas a table, with a large dish of tarts upon it: they looked so good,\\nthat it made Alice quite hungry to look at them--\\'I wish they\\'d get the\\ntrial done,\\' she thought, \\'and hand round the refreshments!\\' But there\\nseemed to be no chance of this, so she began looking at everything about\\nher, to pass away the time.\\n\\nAlice had never been in a court of justice before, but she had read\\nabout them in books, and she was quite pleased to find that she knew\\nthe name of nearly everything there. \\'That\\'s the judge,\\' she said to\\nherself, \\'because of his great wig.\\'\\n\\nThe judge, by the way, was the King; and as he wore his crown over the\\nwig, (look at the frontispiece if you want to see how he did it,) he did\\nnot look at all comfortable, and it was certainly not becoming.\\n\\n\\'And that\\'s the jury-box,\\' thought Alice, \\'and those twelve creatures,\\'\\n(she was obliged to say \\'creatures,\\' you see, because some of them were\\nanimals, and some were birds,) \\'I suppose they are the jurors.\\' She said\\nthis last word two or three times over to herself, being rather proud of\\nit: for she thought, and rightly too, that very few little girls of her\\nage knew the meaning of it at all. However, \\'jury-men\\' would have done\\njust as well.\\n\\nThe twelve jurors were all writing very busily on slates. \\'What are they\\ndoing?\\' Alice whispered to the Gryphon. \\'They can\\'t have anything to put\\ndown yet, before the trial\\'s begun.\\'\\n\\n\\'They\\'re putting down their names,\\' the Gryphon whispered in reply, \\'for\\nfear they should forget them before the end of the trial.\\'\\n\\n\\'Stupid things!\\' Alice began in a loud, indignant voice, but she stopped\\nhastily, for the White Rabbit cried out, \\'Silence in the court!\\' and the\\nKing put on his spectacles and looked anxiously round, to make out who\\nwas talking.\\n\\nAlice could see, as well as if she were looking over their shoulders,\\nthat all the jurors were writing down \\'stupid things!\\' on their slates,\\nand she could even make out that one of them didn\\'t know how to spell\\n\\'stupid,\\' and that he had to ask his neighbour to tell him. \\'A nice\\nmuddle their slates\\'ll be in before the trial\\'s over!\\' thought Alice.\\n\\nOne of the jurors had a pencil that squeaked. This of course, Alice\\ncould not stand, and she went round the court and got behind him, and\\nvery soon found an opportunity of taking it away. She did it so quickly\\nthat the poor little juror (it was Bill, the Lizard) could not make out\\nat all what had become of it; so, after hunting all about for it, he was\\nobliged to write with one finger for the rest of the day; and this was\\nof very little use, as it left no mark on the slate.\\n\\n\\'Herald, read the accusation!\\' said the King.\\n\\nOn this the White Rabbit blew three blasts on the trumpet, and then\\nunrolled the parchment scroll, and read as follows:--\\n\\n   \\'The Queen of Hearts, she made some tarts,\\n      All on a summer day:\\n    The Knave of Hearts, he stole those tarts,\\n      And took them quite away!\\'\\n\\n\\'Consider your verdict,\\' the King said to the jury.\\n\\n\\'Not yet, not yet!\\' the Rabbit hastily interrupted. \\'There\\'s a great\\ndeal to come before that!\\'\\n\\n\\'Call the first witness,\\' said the King; and the White Rabbit blew three\\nblasts on the trumpet, and called out, \\'First witness!\\'\\n\\nThe first witness was the Hatter. He came in with a teacup in one\\nhand and a piece of bread-and-butter in the other. \\'I beg pardon, your\\nMajesty,\\' he began, \\'for bringing these in: but I hadn\\'t quite finished\\nmy tea when I was sent for.\\'\\n\\n\\'You ought to have finished,\\' said the King. \\'When did you begin?\\'\\n\\nThe Hatter looked at the March Hare, who had followed him into the\\ncourt, arm-in-arm with the Dormouse. \\'Fourteenth of March, I think it\\nwas,\\' he said.\\n\\n\\'Fifteenth,\\' said the March Hare.\\n\\n\\'Sixteenth,\\' added the Dormouse.\\n\\n\\'Write that down,\\' the King said to the jury, and the jury eagerly\\nwrote down all three dates on their slates, and then added them up, and\\nreduced the answer to shillings and pence.\\n\\n\\'Take off your hat,\\' the King said to the Hatter.\\n\\n\\'It isn\\'t mine,\\' said the Hatter.\\n\\n\\'Stolen!\\' the King exclaimed, turning to the jury, who instantly made a\\nmemorandum of the fact.\\n\\n\\'I keep them to sell,\\' the Hatter added as an explanation; \\'I\\'ve none of\\nmy own. I\\'m a hatter.\\'\\n\\nHere the Queen put on her spectacles, and began staring at the Hatter,\\nwho turned pale and fidgeted.\\n\\n\\'Give your evidence,\\' said the King; \\'and don\\'t be nervous, or I\\'ll have\\nyou executed on the spot.\\'\\n\\nThis did not seem to encourage the witness at all: he kept shifting\\nfrom one foot to the other, looking uneasily at the Queen, and in\\nhis confusion he bit a large piece out of his teacup instead of the\\nbread-and-butter.\\n\\nJust at this moment Alice felt a very curious sensation, which puzzled\\nher a good deal until she made out what it was: she was beginning to\\ngrow larger again, and she thought at first she would get up and leave\\nthe court; but on second thoughts she decided to remain where she was as\\nlong as there was room for her.\\n\\n\\'I wish you wouldn\\'t squeeze so.\\' said the Dormouse, who was sitting\\nnext to her. \\'I can hardly breathe.\\'\\n\\n\\'I can\\'t help it,\\' said Alice very meekly: \\'I\\'m growing.\\'\\n\\n\\'You\\'ve no right to grow here,\\' said the Dormouse.\\n\\n\\'Don\\'t talk nonsense,\\' said Alice more boldly: \\'you know you\\'re growing\\ntoo.\\'\\n\\n\\'Yes, but I grow at a reasonable pace,\\' said the Dormouse: \\'not in that\\nridiculous fashion.\\' And he got up very sulkily and crossed over to the\\nother side of the court.\\n\\nAll this time the Queen had never left off staring at the Hatter, and,\\njust as the Dormouse crossed the court, she said to one of the officers\\nof the court, \\'Bring me the list of the singers in the last concert!\\' on\\nwhich the wretched Hatter trembled so, that he shook both his shoes off.\\n\\n\\'Give your evidence,\\' the King repeated angrily, \\'or I\\'ll have you\\nexecuted, whether you\\'re nervous or not.\\'\\n\\n\\'I\\'m a poor man, your Majesty,\\' the Hatter began, in a trembling voice,\\n\\'--and I hadn\\'t begun my tea--not above a week or so--and what with the\\nbread-and-butter getting so thin--and the twinkling of the tea--\\'\\n\\n\\'The twinkling of the what?\\' said the King.\\n\\n\\'It began with the tea,\\' the Hatter replied.\\n\\n\\'Of course twinkling begins with a T!\\' said the King sharply. \\'Do you\\ntake me for a dunce? Go on!\\'\\n\\n\\'I\\'m a poor man,\\' the Hatter went on, \\'and most things twinkled after\\nthat--only the March Hare said--\\'\\n\\n\\'I didn\\'t!\\' the March Hare interrupted in a great hurry.\\n\\n\\'You did!\\' said the Hatter.\\n\\n\\'I deny it!\\' said the March Hare.\\n\\n\\'He denies it,\\' said the King: \\'leave out that part.\\'\\n\\n\\'Well, at any rate, the Dormouse said--\\' the Hatter went on, looking\\nanxiously round to see if he would deny it too: but the Dormouse denied\\nnothing, being fast asleep.\\n\\n\\'After that,\\' continued the Hatter, \\'I cut some more bread-and-butter--\\'\\n\\n\\'But what did the Dormouse say?\\' one of the jury asked.\\n\\n\\'That I can\\'t remember,\\' said the Hatter.\\n\\n\\'You MUST remember,\\' remarked the King, \\'or I\\'ll have you executed.\\'\\n\\nThe miserable Hatter dropped his teacup and bread-and-butter, and went\\ndown on one knee. \\'I\\'m a poor man, your Majesty,\\' he began.\\n\\n\\'You\\'re a very poor speaker,\\' said the King.\\n\\nHere one of the guinea-pigs cheered, and was immediately suppressed by\\nthe officers of the court. (As that is rather a hard word, I will just\\nexplain to you how it was done. They had a large canvas bag, which tied\\nup at the mouth with strings: into this they slipped the guinea-pig,\\nhead first, and then sat upon it.)\\n\\n\\'I\\'m glad I\\'ve seen that done,\\' thought Alice. \\'I\\'ve so often read\\nin the newspapers, at the end of trials, \"There was some attempts\\nat applause, which was immediately suppressed by the officers of the\\ncourt,\" and I never understood what it meant till now.\\'\\n\\n\\'If that\\'s all you know about it, you may stand down,\\' continued the\\nKing.\\n\\n\\'I can\\'t go no lower,\\' said the Hatter: \\'I\\'m on the floor, as it is.\\'\\n\\n\\'Then you may SIT down,\\' the King replied.\\n\\nHere the other guinea-pig cheered, and was suppressed.\\n\\n\\'Come, that finished the guinea-pigs!\\' thought Alice. \\'Now we shall get\\non better.\\'\\n\\n\\'I\\'d rather finish my tea,\\' said the Hatter, with an anxious look at the\\nQueen, who was reading the list of singers.\\n\\n\\'You may go,\\' said the King, and the Hatter hurriedly left the court,\\nwithout even waiting to put his shoes on.\\n\\n\\'--and just take his head off outside,\\' the Queen added to one of the\\nofficers: but the Hatter was out of sight before the officer could get\\nto the door.\\n\\n\\'Call the next witness!\\' said the King.\\n\\nThe next witness was the Duchess\\'s cook. She carried the pepper-box in\\nher hand, and Alice guessed who it was, even before she got into the\\ncourt, by the way the people near the door began sneezing all at once.\\n\\n\\'Give your evidence,\\' said the King.\\n\\n\\'Shan\\'t,\\' said the cook.\\n\\nThe King looked anxiously at the White Rabbit, who said in a low voice,\\n\\'Your Majesty must cross-examine THIS witness.\\'\\n\\n\\'Well, if I must, I must,\\' the King said, with a melancholy air, and,\\nafter folding his arms and frowning at the cook till his eyes were\\nnearly out of sight, he said in a deep voice, \\'What are tarts made of?\\'\\n\\n\\'Pepper, mostly,\\' said the cook.\\n\\n\\'Treacle,\\' said a sleepy voice behind her.\\n\\n\\'Collar that Dormouse,\\' the Queen shrieked out. \\'Behead that Dormouse!\\nTurn that Dormouse out of court! Suppress him! Pinch him! Off with his\\nwhiskers!\\'\\n\\nFor some minutes the whole court was in confusion, getting the Dormouse\\nturned out, and, by the time they had settled down again, the cook had\\ndisappeared.\\n\\n\\'Never mind!\\' said the King, with an air of great relief. \\'Call the next\\nwitness.\\' And he added in an undertone to the Queen, \\'Really, my dear,\\nYOU must cross-examine the next witness. It quite makes my forehead\\nache!\\'\\n\\nAlice watched the White Rabbit as he fumbled over the list, feeling very\\ncurious to see what the next witness would be like, \\'--for they haven\\'t\\ngot much evidence YET,\\' she said to herself. Imagine her surprise, when\\nthe White Rabbit read out, at the top of his shrill little voice, the\\nname \\'Alice!\\'\\n\\n\\n\\n             CHAPTER XII\\n\\n           Alice\\'s Evidence\\n\\n\\n\\'Here!\\' cried Alice, quite forgetting in the flurry of the moment how\\nlarge she had grown in the last few minutes, and she jumped up in such\\na hurry that she tipped over the jury-box with the edge of her skirt,\\nupsetting all the jurymen on to the heads of the crowd below, and there\\nthey lay sprawling about, reminding her very much of a globe of goldfish\\nshe had accidentally upset the week before.\\n\\n\\'Oh, I BEG your pardon!\\' she exclaimed in a tone of great dismay, and\\nbegan picking them up again as quickly as she could, for the accident of\\nthe goldfish kept running in her head, and she had a vague sort of idea\\nthat they must be collected at once and put back into the jury-box, or\\nthey would die.\\n\\n\\'The trial cannot proceed,\\' said the King in a very grave voice, \\'until\\nall the jurymen are back in their proper places--ALL,\\' he repeated with\\ngreat emphasis, looking hard at Alice as he said do.\\n\\nAlice looked at the jury-box, and saw that, in her haste, she had put\\nthe Lizard in head downwards, and the poor little thing was waving its\\ntail about in a melancholy way, being quite unable to move. She soon got\\nit out again, and put it right; \\'not that it signifies much,\\' she said\\nto herself; \\'I should think it would be QUITE as much use in the trial\\none way up as the other.\\'\\n\\nAs soon as the jury had a little recovered from the shock of being\\nupset, and their slates and pencils had been found and handed back to\\nthem, they set to work very diligently to write out a history of the\\naccident, all except the Lizard, who seemed too much overcome to do\\nanything but sit with its mouth open, gazing up into the roof of the\\ncourt.\\n\\n\\'What do you know about this business?\\' the King said to Alice.\\n\\n\\'Nothing,\\' said Alice.\\n\\n\\'Nothing WHATEVER?\\' persisted the King.\\n\\n\\'Nothing whatever,\\' said Alice.\\n\\n\\'That\\'s very important,\\' the King said, turning to the jury. They were\\njust beginning to write this down on their slates, when the White Rabbit\\ninterrupted: \\'UNimportant, your Majesty means, of course,\\' he said in a\\nvery respectful tone, but frowning and making faces at him as he spoke.\\n\\n\\'UNimportant, of course, I meant,\\' the King hastily said, and went on\\nto himself in an undertone,\\n\\n\\'important--unimportant--unimportant--important--\\' as if he were trying\\nwhich word sounded best.\\n\\nSome of the jury wrote it down \\'important,\\' and some \\'unimportant.\\'\\nAlice could see this, as she was near enough to look over their slates;\\n\\'but it doesn\\'t matter a bit,\\' she thought to herself.\\n\\nAt this moment the King, who had been for some time busily writing in\\nhis note-book, cackled out \\'Silence!\\' and read out from his book, \\'Rule\\nForty-two. ALL PERSONS MORE THAN A MILE HIGH TO LEAVE THE COURT.\\'\\n\\nEverybody looked at Alice.\\n\\n\\'I\\'M not a mile high,\\' said Alice.\\n\\n\\'You are,\\' said the King.\\n\\n\\'Nearly two miles high,\\' added the Queen.\\n\\n\\'Well, I shan\\'t go, at any rate,\\' said Alice: \\'besides, that\\'s not a\\nregular rule: you invented it just now.\\'\\n\\n\\'It\\'s the oldest rule in the book,\\' said the King.\\n\\n\\'Then it ought to be Number One,\\' said Alice.\\n\\nThe King turned pale, and shut his note-book hastily. \\'Consider your\\nverdict,\\' he said to the jury, in a low, trembling voice.\\n\\n\\'There\\'s more evidence to come yet, please your Majesty,\\' said the White\\nRabbit, jumping up in a great hurry; \\'this paper has just been picked\\nup.\\'\\n\\n\\'What\\'s in it?\\' said the Queen.\\n\\n\\'I haven\\'t opened it yet,\\' said the White Rabbit, \\'but it seems to be a\\nletter, written by the prisoner to--to somebody.\\'\\n\\n\\'It must have been that,\\' said the King, \\'unless it was written to\\nnobody, which isn\\'t usual, you know.\\'\\n\\n\\'Who is it directed to?\\' said one of the jurymen.\\n\\n\\'It isn\\'t directed at all,\\' said the White Rabbit; \\'in fact, there\\'s\\nnothing written on the OUTSIDE.\\' He unfolded the paper as he spoke, and\\nadded \\'It isn\\'t a letter, after all: it\\'s a set of verses.\\'\\n\\n\\'Are they in the prisoner\\'s handwriting?\\' asked another of the jurymen.\\n\\n\\'No, they\\'re not,\\' said the White Rabbit, \\'and that\\'s the queerest thing\\nabout it.\\' (The jury all looked puzzled.)\\n\\n\\'He must have imitated somebody else\\'s hand,\\' said the King. (The jury\\nall brightened up again.)\\n\\n\\'Please your Majesty,\\' said the Knave, \\'I didn\\'t write it, and they\\ncan\\'t prove I did: there\\'s no name signed at the end.\\'\\n\\n\\'If you didn\\'t sign it,\\' said the King, \\'that only makes the matter\\nworse. You MUST have meant some mischief, or else you\\'d have signed your\\nname like an honest man.\\'\\n\\nThere was a general clapping of hands at this: it was the first really\\nclever thing the King had said that day.\\n\\n\\'That PROVES his guilt,\\' said the Queen.\\n\\n\\'It proves nothing of the sort!\\' said Alice. \\'Why, you don\\'t even know\\nwhat they\\'re about!\\'\\n\\n\\'Read them,\\' said the King.\\n\\nThe White Rabbit put on his spectacles. \\'Where shall I begin, please\\nyour Majesty?\\' he asked.\\n\\n\\'Begin at the beginning,\\' the King said gravely, \\'and go on till you\\ncome to the end: then stop.\\'\\n\\nThese were the verses the White Rabbit read:--\\n\\n   \\'They told me you had been to her,\\n    And mentioned me to him:\\n   She gave me a good character,\\n    But said I could not swim.\\n\\n   He sent them word I had not gone\\n    (We know it to be true):\\n   If she should push the matter on,\\n    What would become of you?\\n\\n   I gave her one, they gave him two,\\n    You gave us three or more;\\n   They all returned from him to you,\\n    Though they were mine before.\\n\\n   If I or she should chance to be\\n    Involved in this affair,\\n   He trusts to you to set them free,\\n    Exactly as we were.\\n\\n   My notion was that you had been\\n    (Before she had this fit)\\n   An obstacle that came between\\n    Him, and ourselves, and it.\\n\\n   Don\\'t let him know she liked them best,\\n    For this must ever be\\n   A secret, kept from all the rest,\\n    Between yourself and me.\\'\\n\\n\\'That\\'s the most important piece of evidence we\\'ve heard yet,\\' said the\\nKing, rubbing his hands; \\'so now let the jury--\\'\\n\\n\\'If any one of them can explain it,\\' said Alice, (she had grown so large\\nin the last few minutes that she wasn\\'t a bit afraid of interrupting\\nhim,) \\'I\\'ll give him sixpence. _I_ don\\'t believe there\\'s an atom of\\nmeaning in it.\\'\\n\\nThe jury all wrote down on their slates, \\'SHE doesn\\'t believe there\\'s an\\natom of meaning in it,\\' but none of them attempted to explain the paper.\\n\\n\\'If there\\'s no meaning in it,\\' said the King, \\'that saves a world of\\ntrouble, you know, as we needn\\'t try to find any. And yet I don\\'t know,\\'\\nhe went on, spreading out the verses on his knee, and looking at them\\nwith one eye; \\'I seem to see some meaning in them, after all. \"--SAID\\nI COULD NOT SWIM--\" you can\\'t swim, can you?\\' he added, turning to the\\nKnave.\\n\\nThe Knave shook his head sadly. \\'Do I look like it?\\' he said. (Which he\\ncertainly did NOT, being made entirely of cardboard.)\\n\\n\\'All right, so far,\\' said the King, and he went on muttering over\\nthe verses to himself: \\'\"WE KNOW IT TO BE TRUE--\" that\\'s the jury, of\\ncourse--\"I GAVE HER ONE, THEY GAVE HIM TWO--\" why, that must be what he\\ndid with the tarts, you know--\\'\\n\\n\\'But, it goes on \"THEY ALL RETURNED FROM HIM TO YOU,\"\\' said Alice.\\n\\n\\'Why, there they are!\\' said the King triumphantly, pointing to the tarts\\non the table. \\'Nothing can be clearer than THAT. Then again--\"BEFORE SHE\\nHAD THIS FIT--\" you never had fits, my dear, I think?\\' he said to the\\nQueen.\\n\\n\\'Never!\\' said the Queen furiously, throwing an inkstand at the Lizard\\nas she spoke. (The unfortunate little Bill had left off writing on his\\nslate with one finger, as he found it made no mark; but he now hastily\\nbegan again, using the ink, that was trickling down his face, as long as\\nit lasted.)\\n\\n\\'Then the words don\\'t FIT you,\\' said the King, looking round the court\\nwith a smile. There was a dead silence.\\n\\n\\'It\\'s a pun!\\' the King added in an offended tone, and everybody laughed,\\n\\'Let the jury consider their verdict,\\' the King said, for about the\\ntwentieth time that day.\\n\\n\\'No, no!\\' said the Queen. \\'Sentence first--verdict afterwards.\\'\\n\\n\\'Stuff and nonsense!\\' said Alice loudly. \\'The idea of having the\\nsentence first!\\'\\n\\n\\'Hold your tongue!\\' said the Queen, turning purple.\\n\\n\\'I won\\'t!\\' said Alice.\\n\\n\\'Off with her head!\\' the Queen shouted at the top of her voice. Nobody\\nmoved.\\n\\n\\'Who cares for you?\\' said Alice, (she had grown to her full size by this\\ntime.) \\'You\\'re nothing but a pack of cards!\\'\\n\\nAt this the whole pack rose up into the air, and came flying down upon\\nher: she gave a little scream, half of fright and half of anger, and\\ntried to beat them off, and found herself lying on the bank, with her\\nhead in the lap of her sister, who was gently brushing away some dead\\nleaves that had fluttered down from the trees upon her face.\\n\\n\\'Wake up, Alice dear!\\' said her sister; \\'Why, what a long sleep you\\'ve\\nhad!\\'\\n\\n\\'Oh, I\\'ve had such a curious dream!\\' said Alice, and she told her\\nsister, as well as she could remember them, all these strange Adventures\\nof hers that you have just been reading about; and when she had\\nfinished, her sister kissed her, and said, \\'It WAS a curious dream,\\ndear, certainly: but now run in to your tea; it\\'s getting late.\\' So\\nAlice got up and ran off, thinking while she ran, as well she might,\\nwhat a wonderful dream it had been.\\n\\nBut her sister sat still just as she left her, leaning her head on her\\nhand, watching the setting sun, and thinking of little Alice and all her\\nwonderful Adventures, till she too began dreaming after a fashion, and\\nthis was her dream:--\\n\\nFirst, she dreamed of little Alice herself, and once again the tiny\\nhands were clasped upon her knee, and the bright eager eyes were looking\\nup into hers--she could hear the very tones of her voice, and see that\\nqueer little toss of her head to keep back the wandering hair that\\nWOULD always get into her eyes--and still as she listened, or seemed to\\nlisten, the whole place around her became alive the strange creatures of\\nher little sister\\'s dream.\\n\\nThe long grass rustled at her feet as the White Rabbit hurried by--the\\nfrightened Mouse splashed his way through the neighbouring pool--she\\ncould hear the rattle of the teacups as the March Hare and his friends\\nshared their never-ending meal, and the shrill voice of the Queen\\nordering off her unfortunate guests to execution--once more the pig-baby\\nwas sneezing on the Duchess\\'s knee, while plates and dishes crashed\\naround it--once more the shriek of the Gryphon, the squeaking of the\\nLizard\\'s slate-pencil, and the choking of the suppressed guinea-pigs,\\nfilled the air, mixed up with the distant sobs of the miserable Mock\\nTurtle.\\n\\nSo she sat on, with closed eyes, and half believed herself in\\nWonderland, though she knew she had but to open them again, and all\\nwould change to dull reality--the grass would be only rustling in the\\nwind, and the pool rippling to the waving of the reeds--the rattling\\nteacups would change to tinkling sheep-bells, and the Queen\\'s shrill\\ncries to the voice of the shepherd boy--and the sneeze of the baby, the\\nshriek of the Gryphon, and all the other queer noises, would change (she\\nknew) to the confused clamour of the busy farm-yard--while the lowing\\nof the cattle in the distance would take the place of the Mock Turtle\\'s\\nheavy sobs.\\n\\nLastly, she pictured to herself how this same little sister of hers\\nwould, in the after-time, be herself a grown woman; and how she would\\nkeep, through all her riper years, the simple and loving heart of her\\nchildhood: and how she would gather about her other little children, and\\nmake THEIR eyes bright and eager with many a strange tale, perhaps even\\nwith the dream of Wonderland of long ago: and how she would feel with\\nall their simple sorrows, and find a pleasure in all their simple joys,\\nremembering her own child-life, and the happy summer days.\\n'"
            ]
          },
          "execution_count": 69,
          "metadata": {},
          "output_type": "execute_result"
        }
      ],
      "source": [
        "alice"
      ]
    },
    {
      "cell_type": "code",
      "execution_count": null,
      "metadata": {
        "colab": {
          "base_uri": "https://localhost:8080/",
          "height": 35
        },
        "id": "NH44eo2wkzlC",
        "outputId": "59c11e0f-e742-43cf-c3e8-66ddd4698ba6"
      },
      "outputs": [
        {
          "data": {
            "application/vnd.google.colaboratory.intrinsic+json": {
              "type": "string"
            },
            "text/plain": [
              "\"[Alice's Adventures in Wonderland by Lewis Carroll 1865]\\n\\nCHAPTER I. Down the Rabbit-Hole\\n\\nAlice was\""
            ]
          },
          "execution_count": 70,
          "metadata": {},
          "output_type": "execute_result"
        }
      ],
      "source": [
        "alice[:100]"
      ]
    },
    {
      "cell_type": "code",
      "execution_count": null,
      "metadata": {
        "id": "Qz7lCKCxk3dq"
      },
      "outputs": [],
      "source": [
        "default_st = nltk.sent_tokenize\n",
        "alice_sentences = default_st(text=alice)\n",
        "sample_sentences = default_st(text=sampletext)"
      ]
    },
    {
      "cell_type": "code",
      "execution_count": null,
      "metadata": {
        "colab": {
          "base_uri": "https://localhost:8080/"
        },
        "id": "d08TqiGFk-6U",
        "outputId": "b40cb980-695d-4204-e73c-b88a421cfd29"
      },
      "outputs": [
        {
          "name": "stdout",
          "output_type": "stream",
          "text": [
            "Total sentences in sample_text: 3\n",
            "Sample text sentences :-\n",
            "['We will discuss briefly about the basic syntax, structure and\\n'\n",
            " 'design philosophies.',\n",
            " 'There is a defined hierarchical syntax for Python code\\n'\n",
            " 'which you should remember when writing code!',\n",
            " 'Python is a really powerful\\nprogramming language!']\n",
            "\n",
            "Total sentences in alice: 1625\n",
            "First 5 sentences in alice:-\n",
            "[\"[Alice's Adventures in Wonderland by Lewis Carroll 1865]\\n\\nCHAPTER I.\",\n",
            " 'Down the Rabbit-Hole\\n'\n",
            " '\\n'\n",
            " 'Alice was beginning to get very tired of sitting by her sister on the\\n'\n",
            " 'bank, and of having nothing to do: once or twice she had peeped into the\\n'\n",
            " 'book her sister was reading, but it had no pictures or conversations in\\n'\n",
            " \"it, 'and what is the use of a book,' thought Alice 'without pictures or\\n\"\n",
            " \"conversation?'\",\n",
            " 'So she was considering in her own mind (as well as she could, for the\\n'\n",
            " 'hot day made her feel very sleepy and stupid), whether the pleasure\\n'\n",
            " 'of making a daisy-chain would be worth the trouble of getting up and\\n'\n",
            " 'picking the daisies, when suddenly a White Rabbit with pink eyes ran\\n'\n",
            " 'close by her.',\n",
            " 'There was nothing so VERY remarkable in that; nor did Alice think it so\\n'\n",
            " \"VERY much out of the way to hear the Rabbit say to itself, 'Oh dear!\",\n",
            " 'Oh dear!']\n"
          ]
        }
      ],
      "source": [
        "print('Total sentences in sample_text:', len(sample_sentences))\n",
        "print('Sample text sentences :-')\n",
        "pprint(sample_sentences)\n",
        "print ('\\nTotal sentences in alice:', len(alice_sentences))\n",
        "print('First 5 sentences in alice:-')\n",
        "pprint(alice_sentences[0:5])"
      ]
    },
    {
      "cell_type": "code",
      "execution_count": null,
      "metadata": {
        "id": "-DCOhnX6lsQV"
      },
      "outputs": [],
      "source": [
        "punkt_st = nltk.tokenize.PunktSentenceTokenizer()"
      ]
    },
    {
      "cell_type": "code",
      "execution_count": null,
      "metadata": {
        "id": "Jf2T6Sydz80i"
      },
      "outputs": [],
      "source": [
        "sample_sentence = punkt_st.tokenize(sampletext)"
      ]
    },
    {
      "cell_type": "code",
      "execution_count": null,
      "metadata": {
        "colab": {
          "base_uri": "https://localhost:8080/"
        },
        "id": "xboGEbsf0Pin",
        "outputId": "7154ded1-01a9-4726-b645-4ae684b546da"
      },
      "outputs": [
        {
          "data": {
            "text/plain": [
              "['We will discuss briefly about the basic syntax, structure and\\ndesign philosophies.',\n",
              " 'There is a defined hierarchical syntax for Python code\\nwhich you should remember when writing code!',\n",
              " 'Python is a really powerful\\nprogramming language!']"
            ]
          },
          "execution_count": 75,
          "metadata": {},
          "output_type": "execute_result"
        }
      ],
      "source": [
        "sample_sentence"
      ]
    },
    {
      "cell_type": "code",
      "execution_count": null,
      "metadata": {
        "id": "adce3pO40TJd"
      },
      "outputs": [],
      "source": [
        "SENTENCE_TOKENS_PATTERN = r'(?<!\\w\\.\\w.)(?<![A-Z][a-z]\\.)(?<![A-Z]\\.)(?<=\\.|\\?|\\!)\\s'"
      ]
    },
    {
      "cell_type": "code",
      "execution_count": null,
      "metadata": {
        "colab": {
          "base_uri": "https://localhost:8080/"
        },
        "id": "9qo4laWS3bCs",
        "outputId": "7a8e29b3-f15c-4340-8ce3-47270d71d2b3"
      },
      "outputs": [
        {
          "name": "stdout",
          "output_type": "stream",
          "text": [
            "['We will discuss briefly about the basic syntax, structure and\\ndesign philosophies.', 'There is a defined hierarchical syntax for Python code\\nwhich you should remember when writing code!', 'Python is a really powerful\\nprogramming language!']\n"
          ]
        }
      ],
      "source": [
        "regex_st = nltk.tokenize.RegexpTokenizer(pattern=SENTENCE_TOKENS_PATTERN, gaps=True)\n",
        "sample_sentences= regex_st.tokenize(sampletext)\n",
        "print(sample_sentence)\n"
      ]
    },
    {
      "cell_type": "markdown",
      "metadata": {
        "id": "ssdUT2QQ4gCW"
      },
      "source": [
        "**Word Tokenization**\n",
        "*  word_tokenize\n",
        "* TreebankWordTokenizer\n",
        "* RegexpTokenizer\n",
        "* Inherited tokenizers from RegexpTokenizer"
      ]
    },
    {
      "cell_type": "code",
      "execution_count": null,
      "metadata": {
        "colab": {
          "base_uri": "https://localhost:8080/"
        },
        "id": "wqr4qgTu37O_",
        "outputId": "f2f39be3-dd0a-4f00-920c-425cbe95eab2"
      },
      "outputs": [
        {
          "name": "stdout",
          "output_type": "stream",
          "text": [
            "['The', 'brown', 'fox', 'wasn', '’', 't', 'that', 'quick', 'and', 'he', 'couldn', '’', 't', 'win', 'the', 'race', 'as', 'our', 'input', 'to', 'the', 'various', 'tokenizers']\n",
            "23\n"
          ]
        }
      ],
      "source": [
        "sentence = '''The brown fox wasn’t that quick and he couldn’t win the race as our input to the various tokenizers'''\n",
        "default_wt = nltk.word_tokenize\n",
        "words = default_wt(sentence)\n",
        "print(words)\n",
        "print(len(words))"
      ]
    },
    {
      "cell_type": "code",
      "execution_count": null,
      "metadata": {
        "colab": {
          "base_uri": "https://localhost:8080/"
        },
        "id": "wSMgYpjx5L_I",
        "outputId": "af9de7a2-d077-4ed1-dde1-a03048002897"
      },
      "outputs": [
        {
          "name": "stdout",
          "output_type": "stream",
          "text": [
            "['The', 'brown', 'fox', 'wasn', '’', 't', 'that', 'quick', 'and', 'he', 'couldn', '’', 't', 'win', 'the', 'race', 'as', 'our', 'input', 'to', 'the', 'various', 'tokenizers']\n",
            "23\n"
          ]
        }
      ],
      "source": [
        "treebank_wt = nltk.TreebankWordTokenizer()\n",
        "words= treebank_wt.tokenize(sentence)\n",
        "print(words)\n",
        "print((len(words)))"
      ]
    },
    {
      "cell_type": "code",
      "execution_count": null,
      "metadata": {
        "colab": {
          "base_uri": "https://localhost:8080/"
        },
        "id": "0gViiNTD5z8E",
        "outputId": "59a42615-6726-418a-81ec-494f19aaa098"
      },
      "outputs": [
        {
          "name": "stdout",
          "output_type": "stream",
          "text": [
            "['The', 'brown', 'fox', 'wasn', 't', 'that', 'quick', 'and', 'he', 'couldn', 't', 'win', 'the', 'race', 'as', 'our', 'input', 'to', 'the', 'various', 'tokenizers']\n",
            "21\n"
          ]
        }
      ],
      "source": [
        "Token_pattern = r'\\w+'\n",
        "regex_wt = nltk.RegexpTokenizer(pattern=Token_pattern, gaps=False)\n",
        "words = regex_wt.tokenize(sentence)\n",
        "print(words)\n",
        "print(len(words))"
      ]
    },
    {
      "cell_type": "code",
      "execution_count": null,
      "metadata": {
        "colab": {
          "base_uri": "https://localhost:8080/"
        },
        "id": "bMNsMRAF6tep",
        "outputId": "e184a523-cdcf-4334-9da2-cc67ddeb2e6f"
      },
      "outputs": [
        {
          "name": "stdout",
          "output_type": "stream",
          "text": [
            "['The', 'brown', 'fox', 'wasn’t', 'that', 'quick', 'and', 'he', 'couldn’t', 'win', 'the', 'race', 'as', 'our', 'input', 'to', 'the', 'various', 'tokenizers']\n",
            "19\n"
          ]
        }
      ],
      "source": [
        "Token_pattern = r'\\s' #count the spaces\n",
        "regex_wt = nltk.RegexpTokenizer(pattern=Token_pattern, gaps=True)\n",
        "words = regex_wt.tokenize(sentence)\n",
        "print(words)\n",
        "print(len(words))"
      ]
    },
    {
      "cell_type": "code",
      "execution_count": null,
      "metadata": {
        "colab": {
          "base_uri": "https://localhost:8080/"
        },
        "id": "lOpcclN37jk-",
        "outputId": "8cc5161f-c1a7-4acf-83c1-4cb4e904979b"
      },
      "outputs": [
        {
          "name": "stdout",
          "output_type": "stream",
          "text": [
            "['The', 'brown', 'fox', 'wasn', '’', 't', 'that', 'quick', 'and', 'he', 'couldn', '’', 't', 'win', 'the', 'race', 'as', 'our', 'input', 'to', 'the', 'various', 'tokenizers']\n",
            "23\n"
          ]
        }
      ],
      "source": [
        "wordpunkt_wt = nltk.WordPunctTokenizer()\n",
        "words = wordpunkt_wt.tokenize(sentence)\n",
        "print(words)\n",
        "print(len(words))"
      ]
    },
    {
      "cell_type": "code",
      "execution_count": null,
      "metadata": {
        "colab": {
          "base_uri": "https://localhost:8080/"
        },
        "id": "_ADadM638FtU",
        "outputId": "b873b058-8f7b-4dbb-a8db-8bc07a5aa8b6"
      },
      "outputs": [
        {
          "name": "stdout",
          "output_type": "stream",
          "text": [
            "['The', 'brown', 'fox', 'wasn’t', 'that', 'quick', 'and', 'he', 'couldn’t', 'win', 'the', 'race', 'as', 'our', 'input', 'to', 'the', 'various', 'tokenizers']\n"
          ]
        },
        {
          "data": {
            "text/plain": [
              "19"
            ]
          },
          "execution_count": 83,
          "metadata": {},
          "output_type": "execute_result"
        }
      ],
      "source": [
        "whitespace_wt = nltk.WhitespaceTokenizer()\n",
        "words= whitespace_wt.tokenize(sentence)\n",
        "print(words)\n",
        "len(words)"
      ]
    },
    {
      "cell_type": "markdown",
      "metadata": {
        "id": "hfQ0mrfIC7Nf"
      },
      "source": [
        "#Text Normalization"
      ]
    },
    {
      "cell_type": "markdown",
      "metadata": {
        "id": "F0LSGOtGC8bu"
      },
      "source": [
        "Text normalization is defined as a process that consists of a series of steps that\n",
        "should be followed to wrangle, clean, and standardize textual data into a form that\n",
        "could be consumed by other NLP and analytics systems and applications as input.\n",
        "Often tokenization itself also is a part of text normalization. Besides tokenization,\n",
        "various other techniques include cleaning text, case conversion, correcting spellings,\n",
        "removing stopwords and other unnecessary terms, stemming, and lemmatization. Text\n",
        "normalization is also often called text cleansing or wrangling ."
      ]
    },
    {
      "cell_type": "code",
      "execution_count": null,
      "metadata": {
        "id": "IvVURGlxCtnh"
      },
      "outputs": [],
      "source": [
        "import nltk\n",
        "import re\n",
        "import string\n",
        "from pprint import pprint"
      ]
    },
    {
      "cell_type": "code",
      "execution_count": null,
      "metadata": {
        "id": "T8LORlHTuYRS"
      },
      "outputs": [],
      "source": [
        "corpus = [\"The brown fox wasn't that quick and he couldn't win the race\", \"Hey that's a great deal! I just bought a phone for $199\", \"@@You'll (learn) a **lot** in the book. Python is an amazingn language !@@\"]"
      ]
    },
    {
      "cell_type": "markdown",
      "metadata": {
        "id": "HxaeF5TtLtEo"
      },
      "source": [
        "**cleaning text**"
      ]
    },
    {
      "cell_type": "code",
      "execution_count": 12,
      "metadata": {
        "id": "8115U9uaDRdu"
      },
      "outputs": [],
      "source": [
        "def tokenize_word(text):\n",
        "  sentences = nltk.sent_tokenize(text)\n",
        "  word_token = [nltk.word_tokenize(sen) for sen in sentences]\n",
        "  return word_token"
      ]
    },
    {
      "cell_type": "code",
      "execution_count": null,
      "metadata": {
        "id": "YwWB9jVqM7SJ"
      },
      "outputs": [],
      "source": [
        "word = [tokenize_word(text) for text in corpus]"
      ]
    },
    {
      "cell_type": "code",
      "execution_count": null,
      "metadata": {
        "colab": {
          "base_uri": "https://localhost:8080/"
        },
        "id": "_gpAjw04M-QT",
        "outputId": "8757c305-dc2b-473d-d8f7-fb6f3b489130"
      },
      "outputs": [
        {
          "data": {
            "text/plain": [
              "[[['The',\n",
              "   'brown',\n",
              "   'fox',\n",
              "   'was',\n",
              "   \"n't\",\n",
              "   'that',\n",
              "   'quick',\n",
              "   'and',\n",
              "   'he',\n",
              "   'could',\n",
              "   \"n't\",\n",
              "   'win',\n",
              "   'the',\n",
              "   'race']],\n",
              " [['Hey', 'that', \"'s\", 'a', 'great', 'deal', '!'],\n",
              "  ['I', 'just', 'bought', 'a', 'phone', 'for', '$', '199']],\n",
              " [['@',\n",
              "   '@',\n",
              "   'You',\n",
              "   \"'ll\",\n",
              "   '(',\n",
              "   'learn',\n",
              "   ')',\n",
              "   'a',\n",
              "   '**lot**',\n",
              "   'in',\n",
              "   'the',\n",
              "   'book',\n",
              "   '.'],\n",
              "  ['Python', 'is', 'an', 'amazingn', 'language', '!'],\n",
              "  ['@', '@']]]"
            ]
          },
          "execution_count": 134,
          "metadata": {},
          "output_type": "execute_result"
        }
      ],
      "source": [
        "word"
      ]
    },
    {
      "cell_type": "markdown",
      "metadata": {
        "id": "1Wf9b4Z6jqBi"
      },
      "source": [
        "#Removing Special Characters"
      ]
    },
    {
      "cell_type": "code",
      "execution_count": null,
      "metadata": {
        "id": "SKPoOS_MNWwf"
      },
      "outputs": [],
      "source": [
        "def remove_character_after_tokenization(tokens):\n",
        "  pattern = re.compile('[{}]'.format(re.escape(string.punctuation)))\n",
        "  filtered_token = filter(None,[pattern.sub('', token) for token in tokens])\n",
        "  return filtered_token"
      ]
    },
    {
      "cell_type": "code",
      "execution_count": null,
      "metadata": {
        "id": "ss-MGkW-l95S"
      },
      "outputs": [],
      "source": [
        "filtered_list_1 = [filter(None,[remove_character_after_tokenization(tokens) for tokens in sentence_tokens])for sentence_tokens in word]"
      ]
    },
    {
      "cell_type": "code",
      "execution_count": null,
      "metadata": {
        "colab": {
          "base_uri": "https://localhost:8080/"
        },
        "id": "MSH39m3Hp_8o",
        "outputId": "51f4c635-91da-4dae-b0b3-6e1f3c85291a"
      },
      "outputs": [
        {
          "name": "stdout",
          "output_type": "stream",
          "text": [
            "[<filter object at 0x7f0184c7a110>, <filter object at 0x7f0184c7a350>, <filter object at 0x7f0184c7a590>]\n"
          ]
        }
      ],
      "source": [
        "print(filtered_list_1)"
      ]
    },
    {
      "cell_type": "code",
      "execution_count": null,
      "metadata": {
        "id": "tho4cj5YslP4"
      },
      "outputs": [],
      "source": [
        "def remove_character_before_tokenization(sentence, keep_apostrophes=False):\n",
        "  sentence=sentence.strip()\n",
        "  if keep_apostrophes:\n",
        "    pattern=\"[?|$|&|*|%|@|(|)|~]\"\n",
        "    filtered_sentence = re.sub(pattern, r'', sentence)\n",
        "  else:\n",
        "    pattern=r'[^a-zA-Z0-9]'\n",
        "    filtered_sentence = re.sub(pattern,r'',sentence)\n",
        "  return filtered_sentence"
      ]
    },
    {
      "cell_type": "code",
      "execution_count": null,
      "metadata": {
        "id": "Glz4mcqHwQov"
      },
      "outputs": [],
      "source": [
        "filtered_list_2=[remove_character_before_tokenization(sentence) for sentence in corpus]"
      ]
    },
    {
      "cell_type": "code",
      "execution_count": null,
      "metadata": {
        "colab": {
          "base_uri": "https://localhost:8080/"
        },
        "id": "wci_Y6quwdtN",
        "outputId": "a01b7ce9-04a8-4d8e-f1d6-ca6b0ec4188b"
      },
      "outputs": [
        {
          "data": {
            "text/plain": [
              "['Thebrownfoxwasntthatquickandhecouldntwintherace',\n",
              " 'HeythatsagreatdealIjustboughtaphonefor199',\n",
              " 'YoulllearnalotinthebookPythonisanamazingnlanguage']"
            ]
          },
          "execution_count": 159,
          "metadata": {},
          "output_type": "execute_result"
        }
      ],
      "source": [
        "filtered_list_2"
      ]
    },
    {
      "cell_type": "code",
      "execution_count": null,
      "metadata": {
        "id": "RwhaUzJgxFFO"
      },
      "outputs": [],
      "source": [
        "filtered_list_2=[remove_character_before_tokenization(sentence, keep_apostrophes=True) for sentence in corpus]"
      ]
    },
    {
      "cell_type": "code",
      "execution_count": null,
      "metadata": {
        "colab": {
          "base_uri": "https://localhost:8080/"
        },
        "id": "YS8UKdrUxfpX",
        "outputId": "2579c2cf-5aa1-4dfd-ddfc-d181beb13602"
      },
      "outputs": [
        {
          "data": {
            "text/plain": [
              "[\"The brown fox wasn't that quick and he couldn't win the race\",\n",
              " \"Hey that's a great deal! I just bought a phone for 199\",\n",
              " \"You'll learn a lot in the book. Python is an amazingn language !\"]"
            ]
          },
          "execution_count": 161,
          "metadata": {},
          "output_type": "execute_result"
        }
      ],
      "source": [
        "filtered_list_2"
      ]
    },
    {
      "cell_type": "markdown",
      "metadata": {
        "id": "EHmeGeu2x1qs"
      },
      "source": [
        "**Expanding contractions**\n",
        "\n",
        "Contractions are shortened version of words or syllables."
      ]
    },
    {
      "cell_type": "code",
      "execution_count": null,
      "metadata": {
        "id": "3TUrbbr1xh0H"
      },
      "outputs": [],
      "source": [
        "CONTRACTION_MAP={\n",
        "    \"isn't\":\"is not\",\n",
        "    \"aren't\":\"are not\",\n",
        "    \"can't\":\"can not\",\n",
        "    \"can't've\":\"can not have\",\n",
        "    \"you'll've\":\"you will have\",\n",
        "    \"you're\":\"you are\",\n",
        "    \"you've\":\"you have\"\n",
        "}"
      ]
    },
    {
      "cell_type": "code",
      "execution_count": null,
      "metadata": {
        "id": "BV5qd3AE0OUf"
      },
      "outputs": [],
      "source": [
        "def expand_contraction(sentence, contraction_map):\n",
        "  contraction_pattern = re.complie('({})'.format(\"|\".join(contraction_map.keys())), flags=re.IGNORECASE|re.DOTALL)\n",
        "  def expand_match(contraction):\n",
        "    match=contraction.group(0)\n",
        "    first_match=match[0]\n",
        "    expanded_contraction=contraction_map.get(match)\\if contraction_mapping.get(match)\\else contraction_map.get.get(match.lower())"
      ]
    },
    {
      "cell_type": "markdown",
      "metadata": {
        "id": "QnOkUuWYPVbv"
      },
      "source": [
        "**remove stop words**"
      ]
    },
    {
      "cell_type": "code",
      "execution_count": null,
      "metadata": {
        "id": "oesth5HwPVFD"
      },
      "outputs": [],
      "source": [
        "def remove_stopwords(tokens):\n",
        "  stopwords_list=nltk.corpus.stopwords.words('english')\n",
        "  filtered_list = [token for token in tokens if token not in stopwords_list]\n",
        "  return filtered_list"
      ]
    },
    {
      "cell_type": "markdown",
      "metadata": {
        "id": "sFmVMRpRQww4"
      },
      "source": [
        "**Correcting repeating characters**"
      ]
    },
    {
      "cell_type": "code",
      "execution_count": 7,
      "metadata": {
        "id": "uAhQ2e3mQKDy",
        "colab": {
          "base_uri": "https://localhost:8080/"
        },
        "outputId": "f68394a4-727e-41e6-cb1d-d6c704302442"
      },
      "outputs": [
        {
          "output_type": "stream",
          "name": "stdout",
          "text": [
            "Step: 1, word: finalllyy\n",
            "Step: 2, word: finallly\n",
            "Step: 3, word: finally\n",
            "Step: 4, word: finaly\n",
            "final word: finaly\n"
          ]
        }
      ],
      "source": [
        "from nltk.corpus import wordnet\n",
        "old_word = 'finalllyyy'\n",
        "repeat_pattern = re.compile(r'(\\w*)(\\w)\\2(\\w*)')\n",
        "#interpretation - any word character followed by a word which is again repetaed (given 2nd group) again any number of words\n",
        "match_substitution = r'\\1\\2\\3'\n",
        "step = 1\n",
        "while True:\n",
        "  #remove one repeated character\n",
        "  new_word= repeat_pattern.sub(match_substitution, old_word)\n",
        "  if new_word !=old_word:\n",
        "    print('Step: {}, word: {}'.format(step, new_word))\n",
        "    step+=1\n",
        "    #update last word to last substituted state\n",
        "    old_word = new_word\n",
        "    continue\n",
        "  else:\n",
        "    print(\"final word:\", new_word)\n",
        "    break"
      ]
    },
    {
      "cell_type": "markdown",
      "source": [
        "check for meaningful word, previous code gives final word finaly which is not correct, correct one is finally(stage3)"
      ],
      "metadata": {
        "id": "DCOC8d3f3sIG"
      }
    },
    {
      "cell_type": "code",
      "source": [
        "from nltk.corpus import wordnet\n",
        "old_word = 'finalllyyy'\n",
        "repeat_pattern = re.compile(r'(\\w*)(\\w)\\2(\\w*)')\n",
        "#interpretation - any word character followed by a word which is again repetaed (given 2nd group) again any number of words\n",
        "match_substitution = r'\\1\\2\\3'\n",
        "step = 1\n",
        "while True:\n",
        "  #check for semantically correct word\n",
        "  if wordnet.synsets(old_word):\n",
        "    print(\"Final correct word: \",old_word)\n",
        "    break\n",
        "  #remove one repeated character\n",
        "  new_word= repeat_pattern.sub(match_substitution, old_word)\n",
        "  if new_word !=old_word:\n",
        "    print('Step: {}, word: {}'.format(step, new_word))\n",
        "    step+=1\n",
        "    #update last word to last substituted state\n",
        "    old_word = new_word\n",
        "    continue\n",
        "  else:\n",
        "    print(\"final word:\", new_word)\n",
        "    break"
      ],
      "metadata": {
        "colab": {
          "base_uri": "https://localhost:8080/"
        },
        "id": "EfwyQbgA3sym",
        "outputId": "708b6cf2-d8fb-4a49-fe2a-00f281442656"
      },
      "execution_count": 8,
      "outputs": [
        {
          "output_type": "stream",
          "name": "stdout",
          "text": [
            "Step: 1, word: finalllyy\n",
            "Step: 2, word: finallly\n",
            "Step: 3, word: finally\n",
            "Final correct word:  finally\n"
          ]
        }
      ]
    },
    {
      "cell_type": "code",
      "source": [
        "def remove_repeated_characters(tokens):\n",
        "  repeat_pattern = re.compile(r'(\\w*)(\\w)\\2(\\w*)')\n",
        "  match_substitution = r'\\1\\2\\3'\n",
        "  correct_word = [replace(word) for word in tokens]\n",
        "  return correct_word\n",
        "\n",
        "def replace(old_word):\n",
        "  if wordnet.synsets(old_word):\n",
        "    return old_word\n",
        "  new_word= repeat_pattern.sub(match_substitution, old_word)\n",
        "  return replace(new_word) if new_word != old_word else new_word"
      ],
      "metadata": {
        "id": "zFvv9nK34emP"
      },
      "execution_count": 9,
      "outputs": []
    },
    {
      "cell_type": "code",
      "execution_count": 17,
      "metadata": {
        "id": "bKYrYhv5QdVT",
        "colab": {
          "base_uri": "https://localhost:8080/"
        },
        "outputId": "1e52ef95-ce88-46da-863f-b4c16491ec6e"
      },
      "outputs": [
        {
          "output_type": "execute_result",
          "data": {
            "text/plain": [
              "['IT', 'Rorke', 'is', 'amazing']"
            ]
          },
          "metadata": {},
          "execution_count": 17
        }
      ],
      "source": [
        "sentence = 'IIT Roorkee is ammazzing'\n",
        "sample_sentence_tokens = tokenize_word(sentence)[0]\n",
        "\n",
        "remove_repeated_characters(sample_sentence_tokens)"
      ]
    },
    {
      "cell_type": "code",
      "source": [
        ""
      ],
      "metadata": {
        "id": "qn9ThgFG5ldV"
      },
      "execution_count": null,
      "outputs": []
    }
  ],
  "metadata": {
    "colab": {
      "name": "NLP_basics.ipynb",
      "provenance": [],
      "authorship_tag": "ABX9TyPeVvqDeegOvcmc9uWgvvAV",
      "include_colab_link": true
    },
    "kernelspec": {
      "display_name": "Python 3",
      "name": "python3"
    },
    "language_info": {
      "name": "python"
    }
  },
  "nbformat": 4,
  "nbformat_minor": 0
}